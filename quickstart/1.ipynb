{
 "cells": [
  {
   "cell_type": "code",
   "execution_count": 1,
   "metadata": {},
   "outputs": [],
   "source": [
    "import os \n",
    "api_key = os.environ.get('OPENAI_API_KEY')\n",
    "from langchain import OpenAI"
   ]
  },
  {
   "cell_type": "code",
   "execution_count": 2,
   "metadata": {},
   "outputs": [],
   "source": [
    "llm = OpenAI(temperature=.7)"
   ]
  },
  {
   "cell_type": "code",
   "execution_count": 3,
   "metadata": {},
   "outputs": [
    {
     "data": {
      "text/plain": [
       "'gpt-3.5-turbo-instruct'"
      ]
     },
     "execution_count": 3,
     "metadata": {},
     "output_type": "execute_result"
    }
   ],
   "source": [
    "llm.model_name"
   ]
  },
  {
   "cell_type": "code",
   "execution_count": 4,
   "metadata": {},
   "outputs": [
    {
     "name": "stdout",
     "output_type": "stream",
     "text": [
      "\n",
      "\n",
      "1. San Juan Islands, Washington\n",
      "Located just a short ferry ride from Seattle, the San Juan Islands offer a beautiful escape from the city. With over 400 islands to explore, visitors can enjoy hiking, kayaking, and whale watching, as well as relaxing on the beaches and soaking up the sun.\n",
      "\n",
      "2. Lake Chelan, Washington\n",
      "Lake Chelan is a popular vacation spot for Seattleites looking for some sun. This 50-mile long lake offers plenty of opportunities for water activities, such as boating, fishing, and swimming. There are also numerous wineries and restaurants to enjoy in the area.\n",
      "\n",
      "3. Cannon Beach, Oregon\n",
      "Just a few hours south of Seattle, Cannon Beach is a picturesque coastal town with beautiful beaches and stunning views of Haystack Rock. Visitors can enjoy beachcombing, hiking, and browsing the local art galleries and shops.\n",
      "\n",
      "4. Whidbey Island, Washington\n",
      "Whidbey Island is a scenic island located just a short drive and ferry ride from Seattle. The island offers a variety of outdoor activities, including beachcombing, hiking, and kayaking, as well as charming small towns to explore.\n",
      "\n",
      "5. Pacific Beach, Washington\n",
      "For a more secluded beach getaway, head to Pacific Beach on the Washington\n"
     ]
    }
   ],
   "source": [
    "text = \"Best vacation spots near Seattle to get some sun\"\n",
    "print(llm(text))"
   ]
  },
  {
   "cell_type": "code",
   "execution_count": 5,
   "metadata": {},
   "outputs": [],
   "source": [
    "from langchain.prompts import PromptTemplate"
   ]
  },
  {
   "cell_type": "code",
   "execution_count": 6,
   "metadata": {},
   "outputs": [],
   "source": [
    "prompt = PromptTemplate(\n",
    "    input_variables=['activity'],\n",
    "    template = \"What are 5 vacation destinations near Seattle to go {activity}?\"\n",
    ")"
   ]
  },
  {
   "cell_type": "code",
   "execution_count": 7,
   "metadata": {},
   "outputs": [
    {
     "name": "stdout",
     "output_type": "stream",
     "text": [
      "What are 5 vacation destinations near Seattle to go snowboarding?\n"
     ]
    }
   ],
   "source": [
    "print(prompt.format(activity='snowboarding'))"
   ]
  },
  {
   "cell_type": "code",
   "execution_count": 8,
   "metadata": {},
   "outputs": [
    {
     "name": "stdout",
     "output_type": "stream",
     "text": [
      "\n",
      "\n",
      "1. Mount Baker Ski Area\n",
      "2. Crystal Mountain\n",
      "3. Stevens Pass\n",
      "4. Snoqualmie Pass\n",
      "5. White Pass Ski Area\n"
     ]
    }
   ],
   "source": [
    "print(llm(prompt.format(activity='snowboarding')))"
   ]
  },
  {
   "cell_type": "code",
   "execution_count": 9,
   "metadata": {},
   "outputs": [],
   "source": [
    "from langchain.prompts import PromptTemplate\n",
    "from langchain.llms import OpenAI\n",
    "from langchain.chains import LLMChain\n"
   ]
  },
  {
   "cell_type": "code",
   "execution_count": 10,
   "metadata": {},
   "outputs": [
    {
     "name": "stdout",
     "output_type": "stream",
     "text": [
      "\n",
      "\n",
      "1. Olympic National Park: Located on the Olympic Peninsula, this park offers a diverse landscape of mountains, rainforests, and coastline for backpackers to explore.\n",
      "\n",
      "2. North Cascades National Park: Known as the \"American Alps,\" this park is a backpacker's paradise with over 300 glaciers, alpine lakes, and rugged peaks to discover.\n",
      "\n",
      "3. Mount Rainier National Park: Home to the iconic Mount Rainier, this park offers miles of trails for backpackers to explore, with stunning views of the mountain and surrounding wilderness.\n",
      "\n",
      "4. Mount Baker-Snoqualmie National Forest: This national forest is a popular destination for backpackers, with trails ranging from easy day hikes to multi-day treks through alpine meadows and old-growth forests.\n",
      "\n",
      "5. San Juan Islands: Located in the Puget Sound, the San Juan Islands offer a unique backpacking experience with a network of scenic trails, remote campsites, and stunning ocean views. \n"
     ]
    }
   ],
   "source": [
    "chain = LLMChain(llm=llm, prompt=prompt)\n",
    "print(chain.run('backpacking'))"
   ]
  },
  {
   "cell_type": "markdown",
   "metadata": {},
   "source": [
    "### Agent with tools"
   ]
  },
  {
   "cell_type": "code",
   "execution_count": 11,
   "metadata": {},
   "outputs": [],
   "source": [
    "from langchain.agents import load_tools, initialize_agent"
   ]
  },
  {
   "cell_type": "code",
   "execution_count": 12,
   "metadata": {},
   "outputs": [],
   "source": [
    "tools = load_tools(['serpapi','llm-math'], llm=llm)\n"
   ]
  },
  {
   "cell_type": "code",
   "execution_count": 13,
   "metadata": {},
   "outputs": [],
   "source": [
    "#initiliaze agent\n",
    "#1. load tools\n",
    "#2. load llm\n",
    "#3. type of agent\n",
    "\n",
    "#verbose = True\n",
    "#prints out what the agent is doing (mini steps)\n",
    "\n",
    "agent = initialize_agent(tools, llm, agent = 'zero-shot-react-description', verbose = True)\n"
   ]
  },
  {
   "cell_type": "code",
   "execution_count": 14,
   "metadata": {},
   "outputs": [
    {
     "name": "stdout",
     "output_type": "stream",
     "text": [
      "\n",
      "\n",
      "\u001b[1m> Entering new AgentExecutor chain...\u001b[0m\n",
      "\u001b[32;1m\u001b[1;3m I should use a search engine to find the current president's age and then use a calculator to find the largest prime number smaller than that age.\n",
      "Action: Search\n",
      "Action Input: \"current president of the United States age\"\u001b[0m\n",
      "Observation: \u001b[36;1m\u001b[1;3m81 years\u001b[0m\n",
      "Thought:\u001b[32;1m\u001b[1;3m Now I can use a calculator to find the largest prime number smaller than 81.\n",
      "Action: Calculator\n",
      "Action Input: 80\u001b[0m\n",
      "Observation: \u001b[33;1m\u001b[1;3mAnswer: 80\u001b[0m\n",
      "Thought:\u001b[32;1m\u001b[1;3m The final answer is 80.\n",
      "Final Answer: 80\u001b[0m\n",
      "\n",
      "\u001b[1m> Finished chain.\u001b[0m\n"
     ]
    },
    {
     "data": {
      "text/plain": [
       "'80'"
      ]
     },
     "execution_count": 14,
     "metadata": {},
     "output_type": "execute_result"
    }
   ],
   "source": [
    "agent.run(\"Who is the current president of the United States? What is the largest prime number that is smaller than their age? \")"
   ]
  },
  {
   "cell_type": "markdown",
   "metadata": {},
   "source": [
    "memory\n"
   ]
  },
  {
   "cell_type": "code",
   "execution_count": 15,
   "metadata": {},
   "outputs": [],
   "source": [
    "from langchain import ConversationChain\n",
    "coversation = ConversationChain(llm=llm, verbose   = True)\n"
   ]
  },
  {
   "cell_type": "code",
   "execution_count": 16,
   "metadata": {},
   "outputs": [
    {
     "name": "stdout",
     "output_type": "stream",
     "text": [
      "\n",
      "\n",
      "\u001b[1m> Entering new ConversationChain chain...\u001b[0m\n",
      "Prompt after formatting:\n",
      "\u001b[32;1m\u001b[1;3mThe following is a friendly conversation between a human and an AI. The AI is talkative and provides lots of specific details from its context. If the AI does not know the answer to a question, it truthfully says it does not know.\n",
      "\n",
      "Current conversation:\n",
      "\n",
      "Human: Hi there\n",
      "AI:\u001b[0m\n",
      "\n",
      "\u001b[1m> Finished chain.\u001b[0m\n"
     ]
    },
    {
     "data": {
      "text/plain": [
       "\" Hello! It's nice to meet you. My name is AI and I am an artificial intelligence created by OpenAI. I was developed to assist and interact with humans in a natural and conversational way. How can I help you today?\""
      ]
     },
     "execution_count": 16,
     "metadata": {},
     "output_type": "execute_result"
    }
   ],
   "source": [
    "coversation.predict( input = \"Hi there\")"
   ]
  },
  {
   "cell_type": "code",
   "execution_count": 17,
   "metadata": {},
   "outputs": [
    {
     "name": "stdout",
     "output_type": "stream",
     "text": [
      "\n",
      "\n",
      "\u001b[1m> Entering new ConversationChain chain...\u001b[0m\n",
      "Prompt after formatting:\n",
      "\u001b[32;1m\u001b[1;3mThe following is a friendly conversation between a human and an AI. The AI is talkative and provides lots of specific details from its context. If the AI does not know the answer to a question, it truthfully says it does not know.\n",
      "\n",
      "Current conversation:\n",
      "Human: Hi there\n",
      "AI:  Hello! It's nice to meet you. My name is AI and I am an artificial intelligence created by OpenAI. I was developed to assist and interact with humans in a natural and conversational way. How can I help you today?\n",
      "Human: I'm doin well, just talking to an AI\n",
      "AI:\u001b[0m\n",
      "\n",
      "\u001b[1m> Finished chain.\u001b[0m\n"
     ]
    },
    {
     "data": {
      "text/plain": [
       "\" That's great to hear! I am always happy to have a conversation with humans and learn more about them. Is there anything specific you would like to talk about or ask me? I have a vast knowledge base and can provide information on a variety of topics.\""
      ]
     },
     "execution_count": 17,
     "metadata": {},
     "output_type": "execute_result"
    }
   ],
   "source": [
    "coversation.predict( input = \"I'm doin well, just talking to an AI\")"
   ]
  },
  {
   "cell_type": "code",
   "execution_count": 18,
   "metadata": {},
   "outputs": [
    {
     "name": "stdout",
     "output_type": "stream",
     "text": [
      "\n",
      "\n",
      "\u001b[1m> Entering new ConversationChain chain...\u001b[0m\n",
      "Prompt after formatting:\n",
      "\u001b[32;1m\u001b[1;3mThe following is a friendly conversation between a human and an AI. The AI is talkative and provides lots of specific details from its context. If the AI does not know the answer to a question, it truthfully says it does not know.\n",
      "\n",
      "Current conversation:\n",
      "Human: Hi there\n",
      "AI:  Hello! It's nice to meet you. My name is AI and I am an artificial intelligence created by OpenAI. I was developed to assist and interact with humans in a natural and conversational way. How can I help you today?\n",
      "Human: I'm doin well, just talking to an AI\n",
      "AI:  That's great to hear! I am always happy to have a conversation with humans and learn more about them. Is there anything specific you would like to talk about or ask me? I have a vast knowledge base and can provide information on a variety of topics.\n",
      "Human: what was the first thing i said?\n",
      "AI:\u001b[0m\n",
      "\n",
      "\u001b[1m> Finished chain.\u001b[0m\n"
     ]
    },
    {
     "data": {
      "text/plain": [
       "' You said, \"Hi there.\" Is there anything else you would like to know about our conversation history? I have the ability to access and analyze our past interactions.'"
      ]
     },
     "execution_count": 18,
     "metadata": {},
     "output_type": "execute_result"
    }
   ],
   "source": [
    "coversation.predict( input = \"what was the first thing i said?\")"
   ]
  },
  {
   "cell_type": "markdown",
   "metadata": {},
   "source": [
    "### idea to see what is going on this weekend"
   ]
  },
  {
   "cell_type": "code",
   "execution_count": 19,
   "metadata": {},
   "outputs": [],
   "source": [
    "tools_search = load_tools(['serpapi'], llm=llm)\n",
    "prompt_search = PromptTemplate(template= '''\n",
    "I live in {location} and I am looking for what to do this weekend.\n",
    "I am {age} years old and I like {activities}.\n",
    "\n",
    "                               \n",
    "*IMPORTANT*:\n",
    " The actity needs to be in 2 mile radius of {location} and shouldn't be too expensive.\n",
    "\n",
    "*TASK*:\n",
    "Make a list of 10 activities that I can do this weekend. \n",
    "Include the name of the activity, the price, and the distance from {location}.                               \n",
    "\n",
    "DO NOT OMIT ANYTHING FOR BREVITY                                                            \n",
    "''', \n",
    "input_variables=['location', 'age', 'activities'])\n",
    "\n",
    "from langchain.chat_models import ChatOpenAI\n",
    "llm = ChatOpenAI()\n",
    "\n",
    "search_chain = initialize_agent(tools_search, llm, agent = 'zero-shot-react-description', verbose = True, handle_parsing_errors=True)"
   ]
  },
  {
   "cell_type": "code",
   "execution_count": 20,
   "metadata": {},
   "outputs": [
    {
     "name": "stdout",
     "output_type": "stream",
     "text": [
      "\n",
      "I live in Capitol Hill, Seattle and I am looking for what to do this weekend.\n",
      "I am 24 years old and I like Ging to bars, hanging with friends, and live music.\n",
      "\n",
      "                               \n",
      "*IMPORTANT*:\n",
      " The actity needs to be in 2 mile radius of Capitol Hill, Seattle and shouldn't be too expensive.\n",
      "\n",
      "*TASK*:\n",
      "Make a list of 10 activities that I can do this weekend. \n",
      "Include the name of the activity, the price, and the distance from Capitol Hill, Seattle.                               \n",
      "\n",
      "DO NOT OMIT ANYTHING FOR BREVITY                                                            \n",
      "\n"
     ]
    }
   ],
   "source": [
    "print(prompt_search.format(location='Capitol Hill, Seattle', age=24, activities='Ging to bars, hanging with friends, and live music'))"
   ]
  },
  {
   "cell_type": "code",
   "execution_count": 21,
   "metadata": {},
   "outputs": [
    {
     "name": "stdout",
     "output_type": "stream",
     "text": [
      "\n",
      "\n",
      "\u001b[1m> Entering new AgentExecutor chain...\u001b[0m\n",
      "\u001b[32;1m\u001b[1;3mI need to find a list of activities in Capitol Hill, Seattle that fit the criteria of being within a 2-mile radius, not too expensive, and involve going to bars, hanging with friends, live music, or snowboarding.\n",
      "Action: Search\n",
      "Action Input: \"activities in Capitol Hill, Seattle for young adults this weekend\"\u001b[0m\n",
      "Observation: \u001b[36;1m\u001b[1;3mThings to Do near Capitol Hill\u001b[0m\n",
      "Thought:\u001b[32;1m\u001b[1;3mI need to search for specific activities that fit the criteria.\n",
      "Action: Search\n",
      "Action Input: \"bars in Capitol Hill, Seattle\"\u001b[0m\n",
      "Observation: \u001b[36;1m\u001b[1;3m[\"The Best Bars On Capitol Hill · THE SPOTS · Canon · Dino's Tomato Pie · La Dive · Foreign National · Needle & Thread · Flight Wine + Chocolate.\", 'Top 10 Best Capitol Hill Bars Near Seattle, Washington · Unicorn · Sol Liquor Lounge · Inside Passage · Montana · Rose Temple · The Hideout · Foreign National.', \"One of the finest craft cocktail bars in Seattle, the Doctor's Office is often noted for its selection of rare and expensive high-end spirits ...\", '1. Liberty. 8.6. 517 15th Ave E (btwn E Republican St. · 2. Knee High Stocking Co. 8.4. 1356 E Olive Way (at Bellevue Ave), Seattle, WA · 3. The ...', 'Capitol Hill · BARRIO · Kamp Social House · Herb & Bitter · Liberty CAPITOL HILL.', 'Rose Temple, Canon ($$), Montana, Hula Hula are all fun.', 'Unicorn & Narwhal are two carnival themed bars located in Capitol Hill, Seattle. Each packs its own vibe into one location offering whimsical food & drink ...', \"Quinn's Pub ... Specializing in beers, whiskeys, and bourbons, Quinn's Pub is a warm place to grab a bite and a drink on a rainy Seattle night.\", [{'position': 1, 'rating': 4.4, 'reviews_original': '(3.7K)', 'reviews': 3700, 'price': '$$', 'description': 'Colorful, carnival-themed bar', 'place_id': '8281332130002892612', 'place_id_search': 'https://serpapi.com/search.json?device=desktop&engine=google&gl=us&google_domain=google.com&hl=en&ludocid=8281332130002892612&q=bars+in+Capitol+Hill%2C+Seattle', 'lsig': 'AB86z5U21Hkcv2F24Bzpj7jPyAzg', 'thumbnail': 'https://lh5.googleusercontent.com/p/AF1QipP559B4eoSz8J_924khy8QbCX0F3A6Z8nXu0LA5=w92-h92-n-k-no', 'title': 'Unicorn', 'type': 'Bar', 'address': '1118 E Pike St', 'hours': 'Closed ⋅ Opens 2 PM'}, {'position': 2, 'rating': 4.5, 'reviews_original': '(835)', 'reviews': 835, 'price': '$$', 'description': 'Spanish-inspired bites, cocktails & beer', 'place_id': '11601043799732911735', 'place_id_search': 'https://serpapi.com/search.json?device=desktop&engine=google&gl=us&google_domain=google.com&hl=en&ludocid=11601043799732911735&q=bars+in+Capitol+Hill%2C+Seattle', 'lsig': 'AB86z5U1CnZWQHvuRG1w0XCG6sSH', 'thumbnail': 'https://serpapi.com/searches/65982bce92564121b1e3d0e1/images/25f568901cb221c6e37be79c2868081898b2cbdab0ad71af34f72047cbca6d2c5f0696e301c765ef.jpeg', 'title': 'Herb & Bitter Public House', 'type': 'Cocktail bar', 'address': '516 Broadway E', 'hours': 'Closed ⋅ Opens 4 PM'}, {'position': 3, 'rating': 4.6, 'reviews_original': '(320)', 'reviews': 320, 'price': '$', 'description': 'Neighborhood watering hole with games', 'place_id': '9297896364911632810', 'place_id_search': 'https://serpapi.com/search.json?device=desktop&engine=google&gl=us&google_domain=google.com&hl=en&ludocid=9297896364911632810&q=bars+in+Capitol+Hill%2C+Seattle', 'lsig': 'AB86z5VMlCBECRCUjbkAn1iTIc2s', 'thumbnail': 'https://serpapi.com/searches/65982bce92564121b1e3d0e1/images/25f568901cb221c6e37be79c286808189a2d9ed1e85ccaea525d57233cf5c56ef7d02cf3e5a07335.jpeg', 'title': 'Hillside Bar', 'type': 'Bar', 'address': '1520 E Olive Wy', 'hours': 'Closed ⋅ Opens 2 PM'}]]\u001b[0m\n",
      "Thought:\u001b[32;1m\u001b[1;3mI have found some bars in Capitol Hill, Seattle that might be suitable for hanging out with friends and enjoying live music. I should search for more activities that involve snowboarding or are within a 2-mile radius of Capitol Hill.\n",
      "\n",
      "Action: Search\n",
      "Action Input: \"snowboarding near Capitol Hill, Seattle\"\u001b[0m\n",
      "Observation: \u001b[36;1m\u001b[1;3m['Where to ski and snowboard near Seattle · Mount Rainier · Snoqualmie Pass · Crystal Mountain · Mount Baker · Share this story.', 'Best Ski Resorts in Seattle, WA - ProSki Seattle, Alpine Hut, Customized Tours, Mt. Rainier Gondola, Sound Excursions, Cripple Creek Backcountry, ...', 'The largest ski resort in Washington State with 2600 acres & over 50 named runs. Skiers & snowboarders from all over come to ride this world class terrain!', 'Where to Ski Near Seattle · Mount Baker · Crystal Mountain · Stevens Pass · Methow Valley · Mission Ridge.', 'These places are best for ski & snowboard areas in Seattle: Hyak Ski Area · Alpental Ski Area · Ski Acres Ski Area · See more ski & snowboard areas in Seattle ...', 'Grouse Mountain offers the most tourist-friendly attractions, from a mountaintop skating pond to dedicated snowshoe trails and a first-of-its- ...', 'Ski the very best of the Cascades – from numerous bowls, glades and faces to extensive lighted terrain for skiing and riding well into the evening.', \"Seattle's Home Mountain! The Summit has four unique areas and the most night skiing in the U.S., plus snow tubing and Nordic skiing.\", 'Have fun, enjoy the snow and get your heart pumping. · Summit at Snoqualmie · Hyak Snow Park · Cabin Creek · Suncadia · Stevens Pass · Lake Wenatchee.', [{'position': 1, 'rating': 4.7, 'reviews_original': '(43)', 'reviews': 43, 'place_id': '6257099671584272122', 'place_id_search': 'https://serpapi.com/search.json?device=desktop&engine=google&gl=us&google_domain=google.com&hl=en&ludocid=6257099671584272122&q=snowboarding+near+Capitol+Hill%2C+Seattle', 'lsig': 'AB86z5VUGzah8yD0Wuq76TUkxrbk', 'thumbnail': 'https://serpapi.com/searches/65982bd59bddf7f9a301eec3/images/54a947328421797cb8c40ecb0b6df6d65539a8cb944fe99c6068f4509c9a4c1dee405fe68da3cdcc.jpeg', 'service_options': {'in_store_shopping': True, 'curbside_pickup': True, 'delivery': True}, 'title': 'Cripple Creek Backcountry Seattle', 'type': 'Ski shop', 'phone': '(206) 420-3775', 'address': '112 N 36th St', 'hours': 'Closed ⋅ Opens 10 AM'}, {'position': 2, 'rating': 4.4, 'reviews_original': '(919)', 'reviews': 919, 'description': 'Outdoor-sports store with art & meals', 'place_id': '600496930206071140', 'place_id_search': 'https://serpapi.com/search.json?device=desktop&engine=google&gl=us&google_domain=google.com&hl=en&ludocid=600496930206071140&q=snowboarding+near+Capitol+Hill%2C+Seattle', 'lsig': 'AB86z5Xjcchd1R0DbVWr10xuK12X', 'thumbnail': 'https://lh5.googleusercontent.com/p/AF1QipNW3tfv58aDSVXJMOyOFPl1GkWaGv_nTPyk8ZT3=w92-h92-n-k-no', 'title': 'evo Seattle', 'type': 'Ski shop', 'phone': '(206) 973-4470', 'address': '3500 Stone Way N', 'hours': 'Closed ⋅ Opens 10 AM'}, {'position': 3, 'rating': 4.7, 'reviews_original': '(232)', 'reviews': 232, 'description': 'Store for downhill & backcountry gear', 'place_id': '12071655276402836937', 'place_id_search': 'https://serpapi.com/search.json?device=desktop&engine=google&gl=us&google_domain=google.com&hl=en&ludocid=12071655276402836937&q=snowboarding+near+Capitol+Hill%2C+Seattle', 'lsig': 'AB86z5XrFVtJhbL1jkLVsUJOcolo', 'thumbnail': 'https://serpapi.com/searches/65982bd59bddf7f9a301eec3/images/54a947328421797cb8c40ecb0b6df6d631bd224d11479f9088fbc559c00b7ade2ce93b7026d55533.jpeg', 'title': 'ProSki Seattle', 'type': 'Ski shop', 'phone': '(206) 525-4425', 'address': '5440 Sand Point Way NE UNIT 102', 'hours': 'Closed ⋅ Opens 11 AM'}]]\u001b[0m\n",
      "Thought:\u001b[32;1m\u001b[1;3mI have found some bars in Capitol Hill, Seattle that might be suitable for hanging out with friends and enjoying live music. I should search for more activities that involve snowboarding or are within a 2-mile radius of Capitol Hill.\n",
      "\n",
      "Action: Search\n",
      "Action Input: \"live music venues in Capitol Hill, Seattle\"\u001b[0m\n",
      "Observation: \u001b[36;1m\u001b[1;3m[{'title': 'SICKICK', 'date': {'start_date': 'Jan 18', 'when': 'Thu, Jan 18 – Fri, Jan 19'}, 'address': ['Q Nightclub, 1426 Broadway', 'Seattle, WA'], 'link': 'https://www.google.com/search?gl=us&hl=en&q=live+music+venues+in+Capitol+Hill,+Seattle&ibp=htl;events&rciv=evn&sa=X&ved=2ahUKEwjM6bKa08aDAxVkl-4BHUekA5cQ5bwDegUIogEQAQ#fpstate=tldetail&htidocid=L2F1dGhvcml0eS9ob3Jpem9uL2NsdXN0ZXJlZF9ldmVudC8yMDI0LTAxLTE4fDUxODczNTU2NjE4ODE3NjMwNzQ%3D&htivrt=events&mid=/g/11vl1wjvq7', 'thumbnail': 'https://serpapi.com/searches/65982bdae13508c5a9c86aa9/images/4599d47b609f04735b00a0b4d888e24496f9add68d8b069cf60896379e25adb2.jpeg'}, {'title': 'Sofar Sounds Seattle Concert', 'date': {'start_date': 'Feb 3', 'when': 'Sat, 3 PM'}, 'address': ['Belltown', 'Seattle, WA'], 'link': 'https://www.google.com/search?gl=us&hl=en&q=live+music+venues+in+Capitol+Hill,+Seattle&ibp=htl;events&rciv=evn&sa=X&ved=2ahUKEwjM6bKa08aDAxVkl-4BHUekA5cQ5bwDegUIqwEQAQ#fpstate=tldetail&htidocid=L2F1dGhvcml0eS9ob3Jpem9uL2NsdXN0ZXJlZF9ldmVudC8yMDI0LTAyLTAzfDc4MzEzOTcxOTU5NjU0ODE0ODM%3D&htivrt=events&mid=/g/11lcc8tj61', 'thumbnail': 'https://serpapi.com/searches/65982bdae13508c5a9c86aa9/images/4599d47b609f047384caaa049fc9d0e80a7d1a9c09fa597c7f247ab0f4fdc265.jpeg'}, {'title': 'Sofar Sounds Seattle Concert', 'date': {'start_date': 'Feb 24', 'when': 'Sat, 3 PM'}, 'address': ['Belltown', 'Seattle, WA'], 'link': 'https://www.google.com/search?gl=us&hl=en&q=live+music+venues+in+Capitol+Hill,+Seattle&ibp=htl;events&rciv=evn&sa=X&ved=2ahUKEwjM6bKa08aDAxVkl-4BHUekA5cQ5bwDegUIoQEQAQ#fpstate=tldetail&htidocid=L2F1dGhvcml0eS9ob3Jpem9uL2NsdXN0ZXJlZF9ldmVudC8yMDI0LTAyLTI0fDE2NzQ3ODc5NzM2NjY1MTE4ODg4&htivrt=events&mid=/g/11lcc8l76y', 'thumbnail': 'https://serpapi.com/searches/65982bdae13508c5a9c86aa9/images/4599d47b609f047361978b20de340e95f76eb1303780f057f1eb724fb7f0da03.jpeg'}]\u001b[0m\n",
      "Thought:\u001b[32;1m\u001b[1;3mI have found some live music venues in Capitol Hill, Seattle. Now I need to compile a list of activities that fit the criteria.\n",
      "\n",
      "Action: Search\n",
      "Action Input: \"activities near Capitol Hill, Seattle within 2 miles\"\u001b[0m\n",
      "Observation: \u001b[36;1m\u001b[1;3mBest Free Activities near Capitol Hill, Seattle, WA\u001b[0m\n",
      "Thought:\u001b[32;1m\u001b[1;3mI have found some free activities near Capitol Hill, Seattle. Now I need to compile a list of activities that fit the criteria.\n",
      "\n",
      "Action: Search\n",
      "Action Input: \"activities in Capitol Hill, Seattle within 2 miles\"\u001b[0m\n",
      "Observation: \u001b[36;1m\u001b[1;3m[{'title': 'Gas Works Park', 'link': 'https://www.google.com/search?sca_esv=595989641&hl=en&gl=us&q=Gas+Works+Park&stick=H4sIAAAAAAAAAONgFuLQz9U3SLHMKlLiBLGMLYorjbUUs5Ot9HPykxNLMvPz4AyrxJKSosRkELN4ESufe2KxQnh-UXaxQkBiUTYA-APTsUsAAAA&sa=X&ved=2ahUKEwiI-f6f08aDAxUBke4BHWLvCAcQ2coHegQIQBAB', 'description': 'Park', 'rating': 4.7, 'reviews': 10000, 'price': 'Free', 'thumbnail': 'https://lh5.googleusercontent.com/p/AF1QipPFtHHEBfghy2OrxGL4mpXGYB5VQuwrA1m8kHgx=w204-h114-n-k-no'}, {'title': 'Smith Tower', 'link': 'https://www.google.com/search?sca_esv=595989641&hl=en&gl=us&q=Smith+Tower&stick=H4sIAAAAAAAAAONgFuLQz9U3SLHMKlLiBLEMiwzKjLUUs5Ot9HPykxNLMvPz4AyrxJKSosRkELN4ESt3cG5mSYZCSH55ahEAz4lAZEgAAAA&sa=X&ved=2ahUKEwiI-f6f08aDAxUBke4BHWLvCAcQ2coHegQIQhAB', 'description': 'Historical landmark', 'rating': 4.6, 'reviews': 2800.0, 'price': '$25.73', 'extracted_price': 25.73, 'thumbnail': 'https://lh5.googleusercontent.com/p/AF1QipNe3rzSz8qi86aIvbRIUb5BFqtTs4XKU0X_QV57=w204-h114-n-k-no'}, {'title': 'Starbucks Reserve Roastery', 'link': 'https://www.google.com/search?sca_esv=595989641&hl=en&gl=us&q=Starbucks+Reserve+Roastery&stick=H4sIAAAAAAAAAONgFuLQz9U3SLHMKlLi1U_XNzRMMsuozK4sStZSzE620s_JT04syczPgzOsEktKihKTQcziRaxSwSWJRUmlydnFCkGpxalFZakKQfmJxSWpRZUAiqFGi1sAAAA&sa=X&ved=2ahUKEwiI-f6f08aDAxUBke4BHWLvCAcQ2coHegQIQxAB', 'description': 'Coffee shop', 'rating': 4.6, 'reviews': 16000, 'thumbnail': 'https://lh5.googleusercontent.com/p/AF1QipPflYqovuZubw6lCPJz0YA149_3TDj1bl0tCBc=w204-h114-n-k-no'}, {'title': \"Molly Moon's Homemade Ice Cream\", 'link': 'https://www.google.com/search?sca_esv=595989641&hl=en&gl=us&q=Molly+Moon%27s+Homemade+Ice+Cream&stick=H4sIAAAAAAAAAONgFuLQz9U3SLHMKlLi1k_XNyxJSTZIyknRUsxOttLPyU9OLMnMz4MzrBJLSooSk0HM4kWs8r75OTmVCr75-XnqxQoe-bmpuYkpqQqeyakKzkWpibkAAszZY14AAAA&sa=X&ved=2ahUKEwiI-f6f08aDAxUBke4BHWLvCAcQ2coHegQIVBAB', 'description': 'Ice cream shop', 'rating': 4.6, 'reviews': 2600.0, 'thumbnail': 'https://lh5.googleusercontent.com/p/AF1QipO2O_URP6uQiGNP7Hxgjm8c8oikeJ0KVjdKco9Q=w204-h114-n-k-no'}, {'title': 'NEKO Cat Cafe Seattle', 'link': 'https://www.google.com/search?sca_esv=595989641&hl=en&gl=us&q=NEKO+Cat+Cafe+Seattle&stick=H4sIAAAAAAAAAONgFuLQz9U3SLHMKlLi1U_XNzRMtzBMTykuSdZSzE620s_JT04syczPgzOsEktKihKTQcziRayifq7e_grOiSVAnJaqEJwKlM1JBQDY2JdcVgAAAA&sa=X&ved=2ahUKEwiI-f6f08aDAxUBke4BHWLvCAcQ2coHegQIXhAB', 'description': 'Cafe', 'rating': 4.8, 'reviews': 2600.0, 'thumbnail': 'https://lh5.googleusercontent.com/p/AF1QipOfhLzHNP5xOo_apKllBbLEo_CSPOim4azIUx17=w204-h114-n-k-no'}, {'title': 'Seattle Public Library - Central Library', 'link': 'https://www.google.com/search?sca_esv=595989641&hl=en&gl=us&q=Seattle+Public+Library+-+Central+Library&stick=H4sIAAAAAAAAAONgFuLQz9U3SLHMKlLiBLGMDSqKLLQUs5Ot9HPykxNLMvPz4AyrxJKSosRkELN4EatGcCqQn5OqEFCalJOZrOCTmVSUWFSpoKvgnJoHVJcDEwEAxExYUmUAAAA&sa=X&ved=2ahUKEwiI-f6f08aDAxUBke4BHWLvCAcQ2coHegQIXBAB', 'description': 'Public library', 'rating': 4.7, 'reviews': 1400.0, 'thumbnail': 'https://lh4.googleusercontent.com/proxy/5Pv9OG1j7L86jOFhno2GpA1JpzpEzBMQRFG5DEUKUwYD5PJFzJEYfx-I76XnA7IWzGkljnMpzSMrgoyoCJtmgbExOEVUMBTO5o1pYk2hyga5_IbjyltJnZA0E_lSvbFIZW5GKu-02xvOuV1HIMeNUq1Uj4ciZT8=w204-h114-n-k-no'}, {'title': 'Pike Place Market', 'link': 'https://www.google.com/search?sca_esv=595989641&hl=en&gl=us&q=Pike+Place+Market&stick=H4sIAAAAAAAAAONgFuLQz9U3SLHMKlLi1U_XNzTMtjRJLzIxKtBSzE620s_JT04syczPgzOsEktKihKTQcziRayCAZnZqQoBOYnJqQq-iUXZqSUAHyVu-VIAAAA&sa=X&ved=2ahUKEwiI-f6f08aDAxUBke4BHWLvCAcQ2coHegQIXRAB', 'description': 'Market', 'rating': 4.6, 'reviews': 67000, 'thumbnail': 'https://lh5.googleusercontent.com/p/AF1QipO2Brcvs1KawSQYskkbG6x8p64FpMGzANvjI8zx=w204-h114-n-k-no'}, {'title': 'Argosy Cruises - Seattle Waterfront', 'link': 'https://www.google.com/search?sca_esv=595989641&hl=en&gl=us&q=Argosy+Cruises+-+Seattle+Waterfront&stick=H4sIAAAAAAAAAONgFuLQz9U3SLHMKlLi1k_XNyzJMsw1SzHVUsxOttLPyU9OLMnMz4MzrBJLSooSk0HM4kWsyo5F6fnFlQrORaWZxanFCroKwalABTmpCuGJJalFaUX5eSUAKv4C62IAAAA&sa=X&ved=2ahUKEwiI-f6f08aDAxUBke4BHWLvCAcQ2coHegQIWRAB', 'description': 'Cruise agency', 'rating': 4.6, 'reviews': 6300.0, 'price': '$45.34', 'extracted_price': 45.34, 'thumbnail': 'https://lh5.googleusercontent.com/p/AF1QipMxxag4H_qyvU5bF2KSHxw-TH1sqUcBdUZcP5dL=w204-h114-n-k-no'}, {'title': 'Space Needle', 'link': 'https://www.google.com/search?sca_esv=595989641&hl=en&gl=us&q=Space+Needle&stick=H4sIAAAAAAAAAONgFuLQz9U3SLHMKlLiBLEMs83LzLUUs5Ot9HPykxNLMvPz4AyrxJKSosRkELN4EStPcEFicqqCX2pqSk4qAHVJ2FBJAAAA&sa=X&ved=2ahUKEwiI-f6f08aDAxUBke4BHWLvCAcQ2coHegQIWhAB', 'description': 'Observation deck', 'rating': 4.6, 'reviews': 46000, 'price': '$31.50', 'extracted_price': 31.5, 'thumbnail': 'https://lh4.googleusercontent.com/proxy/nsxryzKbGwFxJiQSeADSOaVLlVF8QFj-_Tyz5tAylPlIyULM5LJhKUdwyo-XFp_TixjJuLTS4yijoitvcwatFX5FCsqSbj4p3WX3innqtGqPp11iEhghifkYsar8HiH4Fa_0QCad7nv_Z3Zrg8O73Rmc5VKlGS8=w204-h114-n-k-no'}, {'title': 'Frye Art Museum', 'link': 'https://www.google.com/search?sca_esv=595989641&hl=en&gl=us&q=Frye+Art+Museum&stick=H4sIAAAAAAAAAONgFuLQz9U3SLHMKlLiBLGMjY2Sc7QUs5Ot9HPykxNLMvPz4AyrxJKSosRkELN4ESu_W1FlqoJjUYmCb2lxamkuANKdSzdMAAAA&sa=X&ved=2ahUKEwiI-f6f08aDAxUBke4BHWLvCAcQ2coHegQIWxAB', 'description': 'Museum', 'rating': 4.6, 'reviews': 1500.0, 'thumbnail': 'https://lh5.googleusercontent.com/p/AF1QipMDTqbKNdlp5496iQl4LvS-HAPFtx4OBRww-WMB=w204-h114-n-k-no'}, {'title': 'Waterfront Park', 'link': 'https://www.google.com/search?sca_esv=595989641&hl=en&gl=us&q=Waterfront+Park&stick=H4sIAAAAAAAAAONgFuLQz9U3SLHMKlLiArFMCg0rsoq1FLOTrfRz8pMTSzLz8-AMq8SSkqLEZBCzeBErf3hiSWpRWlF-XolCQGJRNgDyp5TZTQAAAA&sa=X&ved=2ahUKEwiI-f6f08aDAxUBke4BHWLvCAcQ2coHegQIVxAB', 'description': 'Park', 'rating': 4.5, 'reviews': 2400.0, 'price': 'Free', 'thumbnail': 'https://lh5.googleusercontent.com/p/AF1QipOC79rjVmg8zW2K9GS_caiPG_JEfSJE0cjP8GhK=w204-h114-n-k-no'}, {'title': 'Spinasse', 'link': 'https://www.google.com/search?sca_esv=595989641&hl=en&gl=us&q=Spinasse&stick=H4sIAAAAAAAAAONgFuLQz9U3SLHMKlLi1k_XNywpqkhJySnRUsxOttLPyU9OLMnMz4MzrBJLSooSk0HM4kWsHMEFmXmJxcWpAFLWF-9HAAAA&sa=X&ved=2ahUKEwiI-f6f08aDAxUBke4BHWLvCAcQ2coHegQIUxAB', 'description': 'Italian restaurant', 'rating': 4.6, 'reviews': 1200.0, 'thumbnail': 'https://lh4.googleusercontent.com/proxy/2rM4Z2_BHuOk-NLKkLa8oEtohMWbORstTN3yuYjIpvFLpdAAQzFWM_UihkYUI9yMYVl3VJ3SgqQU58gAMEMP68xFoDiE-as240MHM7r30G_uSu9ncczUbNGquwpCC32UP0ymHCwXWcKP9ExwBYB2a1S_hl0Hk3ZmUjF-DwP5lgwb=w204-h114-n-k-no'}, {'title': 'Plum Bistro', 'link': 'https://www.google.com/search?sca_esv=595989641&hl=en&gl=us&q=Plum+Bistro&stick=H4sIAAAAAAAAAONgFuLQz9U3SLHMKlLi1k_XNyxJT86Jz03RUsxOttLPyU9OLMnMz4MzrBJLSooSk0HM4kWs3AE5pbkKTpnFJUX5AGcCj1hKAAAA&sa=X&ved=2ahUKEwiI-f6f08aDAxUBke4BHWLvCAcQ2coHegQIVhAB', 'description': 'Vegan restaurant', 'rating': 4.4, 'reviews': 1800.0, 'thumbnail': 'https://lh5.googleusercontent.com/p/AF1QipNHWY8FoLZsTXgcJBj5zyfnCyCRjM-Fd3RXnnIm=w204-h114-n-k-no'}, {'title': 'Nue', 'link': 'https://www.google.com/search?sca_esv=595989641&hl=en&gl=us&q=Nue&stick=H4sIAAAAAAAAAONgFuLQz9U3SLHMKlLi1U_XNzRMMkspNs7OKNZSzE620s_JT04syczPgzOsEktKihKTQcziRazMfqWpAJ6z3r9EAAAA&sa=X&ved=2ahUKEwiI-f6f08aDAxUBke4BHWLvCAcQ2coHegQIWBAB', 'description': 'Eclectic restaurant', 'rating': 4.4, 'reviews': 1900.0, 'thumbnail': 'https://lh5.googleusercontent.com/p/AF1QipOP--uIHNlYmmyTYCrlBHOyBp25sOwzaCjjNPBx=w204-h114-n-k-no'}, {'title': 'Rock Box', 'link': 'https://www.google.com/search?sca_esv=595989641&hl=en&gl=us&q=Rock+Box&stick=H4sIAAAAAAAAAONgFuLQz9U3SLHMKlLi1k_XNyzJMKg0NKvUUsxOttLPyU9OLMnMz4MzrBJLSooSk0HM4kWsHEH5ydkKTvkVAKl2bSpHAAAA&sa=X&ved=2ahUKEwiI-f6f08aDAxUBke4BHWLvCAcQ2coHegQIVRAB', 'description': 'Karaoke bar', 'rating': 4.6, 'reviews': 1400.0, 'thumbnail': 'https://lh5.googleusercontent.com/p/AF1QipO1rWwexZ1CoAUfnUEYjJEQsEiWDaP9EdpRO-A1=w204-h114-n-k-no'}]\u001b[0m\n",
      "Thought:"
     ]
    },
    {
     "ename": "BadRequestError",
     "evalue": "Error code: 400 - {'error': {'message': \"This model's maximum context length is 4097 tokens. However, your messages resulted in 7542 tokens. Please reduce the length of the messages.\", 'type': 'invalid_request_error', 'param': 'messages', 'code': 'context_length_exceeded'}}",
     "output_type": "error",
     "traceback": [
      "\u001b[1;31m---------------------------------------------------------------------------\u001b[0m",
      "\u001b[1;31mBadRequestError\u001b[0m                           Traceback (most recent call last)",
      "Cell \u001b[1;32mIn[21], line 1\u001b[0m\n\u001b[1;32m----> 1\u001b[0m fun \u001b[38;5;241m=\u001b[39m \u001b[43msearch_chain\u001b[49m\u001b[38;5;241;43m.\u001b[39;49m\u001b[43mrun\u001b[49m\u001b[43m(\u001b[49m\u001b[43mprompt_search\u001b[49m\u001b[38;5;241;43m.\u001b[39;49m\u001b[43mformat\u001b[49m\u001b[43m(\u001b[49m\u001b[43mlocation\u001b[49m\u001b[38;5;241;43m=\u001b[39;49m\u001b[38;5;124;43m'\u001b[39;49m\u001b[38;5;124;43mCapitol Hill, Seattle\u001b[39;49m\u001b[38;5;124;43m'\u001b[39;49m\u001b[43m,\u001b[49m\u001b[43m \u001b[49m\u001b[43mage\u001b[49m\u001b[38;5;241;43m=\u001b[39;49m\u001b[38;5;241;43m24\u001b[39;49m\u001b[43m,\u001b[49m\u001b[43m \u001b[49m\u001b[43mactivities\u001b[49m\u001b[38;5;241;43m=\u001b[39;49m\u001b[38;5;124;43m'\u001b[39;49m\u001b[38;5;124;43mGoing to bars, hanging with friends, and live music. If weather is good I like to snowboard\u001b[39;49m\u001b[38;5;124;43m'\u001b[39;49m\u001b[43m)\u001b[49m\u001b[43m)\u001b[49m\n",
      "File \u001b[1;32mc:\\Users\\wesst\\.virtualenvs\\langchain-stuff-DMV5Iwx5\\Lib\\site-packages\\langchain\\chains\\base.py:511\u001b[0m, in \u001b[0;36mChain.run\u001b[1;34m(self, callbacks, tags, metadata, *args, **kwargs)\u001b[0m\n\u001b[0;32m    509\u001b[0m     \u001b[38;5;28;01mif\u001b[39;00m \u001b[38;5;28mlen\u001b[39m(args) \u001b[38;5;241m!=\u001b[39m \u001b[38;5;241m1\u001b[39m:\n\u001b[0;32m    510\u001b[0m         \u001b[38;5;28;01mraise\u001b[39;00m \u001b[38;5;167;01mValueError\u001b[39;00m(\u001b[38;5;124m\"\u001b[39m\u001b[38;5;124m`run` supports only one positional argument.\u001b[39m\u001b[38;5;124m\"\u001b[39m)\n\u001b[1;32m--> 511\u001b[0m     \u001b[38;5;28;01mreturn\u001b[39;00m \u001b[38;5;28;43mself\u001b[39;49m\u001b[43m(\u001b[49m\u001b[43margs\u001b[49m\u001b[43m[\u001b[49m\u001b[38;5;241;43m0\u001b[39;49m\u001b[43m]\u001b[49m\u001b[43m,\u001b[49m\u001b[43m \u001b[49m\u001b[43mcallbacks\u001b[49m\u001b[38;5;241;43m=\u001b[39;49m\u001b[43mcallbacks\u001b[49m\u001b[43m,\u001b[49m\u001b[43m \u001b[49m\u001b[43mtags\u001b[49m\u001b[38;5;241;43m=\u001b[39;49m\u001b[43mtags\u001b[49m\u001b[43m,\u001b[49m\u001b[43m \u001b[49m\u001b[43mmetadata\u001b[49m\u001b[38;5;241;43m=\u001b[39;49m\u001b[43mmetadata\u001b[49m\u001b[43m)\u001b[49m[\n\u001b[0;32m    512\u001b[0m         _output_key\n\u001b[0;32m    513\u001b[0m     ]\n\u001b[0;32m    515\u001b[0m \u001b[38;5;28;01mif\u001b[39;00m kwargs \u001b[38;5;129;01mand\u001b[39;00m \u001b[38;5;129;01mnot\u001b[39;00m args:\n\u001b[0;32m    516\u001b[0m     \u001b[38;5;28;01mreturn\u001b[39;00m \u001b[38;5;28mself\u001b[39m(kwargs, callbacks\u001b[38;5;241m=\u001b[39mcallbacks, tags\u001b[38;5;241m=\u001b[39mtags, metadata\u001b[38;5;241m=\u001b[39mmetadata)[\n\u001b[0;32m    517\u001b[0m         _output_key\n\u001b[0;32m    518\u001b[0m     ]\n",
      "File \u001b[1;32mc:\\Users\\wesst\\.virtualenvs\\langchain-stuff-DMV5Iwx5\\Lib\\site-packages\\langchain\\chains\\base.py:316\u001b[0m, in \u001b[0;36mChain.__call__\u001b[1;34m(self, inputs, return_only_outputs, callbacks, tags, metadata, run_name, include_run_info)\u001b[0m\n\u001b[0;32m    314\u001b[0m \u001b[38;5;28;01mexcept\u001b[39;00m \u001b[38;5;167;01mBaseException\u001b[39;00m \u001b[38;5;28;01mas\u001b[39;00m e:\n\u001b[0;32m    315\u001b[0m     run_manager\u001b[38;5;241m.\u001b[39mon_chain_error(e)\n\u001b[1;32m--> 316\u001b[0m     \u001b[38;5;28;01mraise\u001b[39;00m e\n\u001b[0;32m    317\u001b[0m run_manager\u001b[38;5;241m.\u001b[39mon_chain_end(outputs)\n\u001b[0;32m    318\u001b[0m final_outputs: Dict[\u001b[38;5;28mstr\u001b[39m, Any] \u001b[38;5;241m=\u001b[39m \u001b[38;5;28mself\u001b[39m\u001b[38;5;241m.\u001b[39mprep_outputs(\n\u001b[0;32m    319\u001b[0m     inputs, outputs, return_only_outputs\n\u001b[0;32m    320\u001b[0m )\n",
      "File \u001b[1;32mc:\\Users\\wesst\\.virtualenvs\\langchain-stuff-DMV5Iwx5\\Lib\\site-packages\\langchain\\chains\\base.py:310\u001b[0m, in \u001b[0;36mChain.__call__\u001b[1;34m(self, inputs, return_only_outputs, callbacks, tags, metadata, run_name, include_run_info)\u001b[0m\n\u001b[0;32m    303\u001b[0m run_manager \u001b[38;5;241m=\u001b[39m callback_manager\u001b[38;5;241m.\u001b[39mon_chain_start(\n\u001b[0;32m    304\u001b[0m     dumpd(\u001b[38;5;28mself\u001b[39m),\n\u001b[0;32m    305\u001b[0m     inputs,\n\u001b[0;32m    306\u001b[0m     name\u001b[38;5;241m=\u001b[39mrun_name,\n\u001b[0;32m    307\u001b[0m )\n\u001b[0;32m    308\u001b[0m \u001b[38;5;28;01mtry\u001b[39;00m:\n\u001b[0;32m    309\u001b[0m     outputs \u001b[38;5;241m=\u001b[39m (\n\u001b[1;32m--> 310\u001b[0m         \u001b[38;5;28;43mself\u001b[39;49m\u001b[38;5;241;43m.\u001b[39;49m\u001b[43m_call\u001b[49m\u001b[43m(\u001b[49m\u001b[43minputs\u001b[49m\u001b[43m,\u001b[49m\u001b[43m \u001b[49m\u001b[43mrun_manager\u001b[49m\u001b[38;5;241;43m=\u001b[39;49m\u001b[43mrun_manager\u001b[49m\u001b[43m)\u001b[49m\n\u001b[0;32m    311\u001b[0m         \u001b[38;5;28;01mif\u001b[39;00m new_arg_supported\n\u001b[0;32m    312\u001b[0m         \u001b[38;5;28;01melse\u001b[39;00m \u001b[38;5;28mself\u001b[39m\u001b[38;5;241m.\u001b[39m_call(inputs)\n\u001b[0;32m    313\u001b[0m     )\n\u001b[0;32m    314\u001b[0m \u001b[38;5;28;01mexcept\u001b[39;00m \u001b[38;5;167;01mBaseException\u001b[39;00m \u001b[38;5;28;01mas\u001b[39;00m e:\n\u001b[0;32m    315\u001b[0m     run_manager\u001b[38;5;241m.\u001b[39mon_chain_error(e)\n",
      "File \u001b[1;32mc:\\Users\\wesst\\.virtualenvs\\langchain-stuff-DMV5Iwx5\\Lib\\site-packages\\langchain\\agents\\agent.py:1312\u001b[0m, in \u001b[0;36mAgentExecutor._call\u001b[1;34m(self, inputs, run_manager)\u001b[0m\n\u001b[0;32m   1310\u001b[0m \u001b[38;5;66;03m# We now enter the agent loop (until it returns something).\u001b[39;00m\n\u001b[0;32m   1311\u001b[0m \u001b[38;5;28;01mwhile\u001b[39;00m \u001b[38;5;28mself\u001b[39m\u001b[38;5;241m.\u001b[39m_should_continue(iterations, time_elapsed):\n\u001b[1;32m-> 1312\u001b[0m     next_step_output \u001b[38;5;241m=\u001b[39m \u001b[38;5;28;43mself\u001b[39;49m\u001b[38;5;241;43m.\u001b[39;49m\u001b[43m_take_next_step\u001b[49m\u001b[43m(\u001b[49m\n\u001b[0;32m   1313\u001b[0m \u001b[43m        \u001b[49m\u001b[43mname_to_tool_map\u001b[49m\u001b[43m,\u001b[49m\n\u001b[0;32m   1314\u001b[0m \u001b[43m        \u001b[49m\u001b[43mcolor_mapping\u001b[49m\u001b[43m,\u001b[49m\n\u001b[0;32m   1315\u001b[0m \u001b[43m        \u001b[49m\u001b[43minputs\u001b[49m\u001b[43m,\u001b[49m\n\u001b[0;32m   1316\u001b[0m \u001b[43m        \u001b[49m\u001b[43mintermediate_steps\u001b[49m\u001b[43m,\u001b[49m\n\u001b[0;32m   1317\u001b[0m \u001b[43m        \u001b[49m\u001b[43mrun_manager\u001b[49m\u001b[38;5;241;43m=\u001b[39;49m\u001b[43mrun_manager\u001b[49m\u001b[43m,\u001b[49m\n\u001b[0;32m   1318\u001b[0m \u001b[43m    \u001b[49m\u001b[43m)\u001b[49m\n\u001b[0;32m   1319\u001b[0m     \u001b[38;5;28;01mif\u001b[39;00m \u001b[38;5;28misinstance\u001b[39m(next_step_output, AgentFinish):\n\u001b[0;32m   1320\u001b[0m         \u001b[38;5;28;01mreturn\u001b[39;00m \u001b[38;5;28mself\u001b[39m\u001b[38;5;241m.\u001b[39m_return(\n\u001b[0;32m   1321\u001b[0m             next_step_output, intermediate_steps, run_manager\u001b[38;5;241m=\u001b[39mrun_manager\n\u001b[0;32m   1322\u001b[0m         )\n",
      "File \u001b[1;32mc:\\Users\\wesst\\.virtualenvs\\langchain-stuff-DMV5Iwx5\\Lib\\site-packages\\langchain\\agents\\agent.py:1038\u001b[0m, in \u001b[0;36mAgentExecutor._take_next_step\u001b[1;34m(self, name_to_tool_map, color_mapping, inputs, intermediate_steps, run_manager)\u001b[0m\n\u001b[0;32m   1029\u001b[0m \u001b[38;5;28;01mdef\u001b[39;00m \u001b[38;5;21m_take_next_step\u001b[39m(\n\u001b[0;32m   1030\u001b[0m     \u001b[38;5;28mself\u001b[39m,\n\u001b[0;32m   1031\u001b[0m     name_to_tool_map: Dict[\u001b[38;5;28mstr\u001b[39m, BaseTool],\n\u001b[1;32m   (...)\u001b[0m\n\u001b[0;32m   1035\u001b[0m     run_manager: Optional[CallbackManagerForChainRun] \u001b[38;5;241m=\u001b[39m \u001b[38;5;28;01mNone\u001b[39;00m,\n\u001b[0;32m   1036\u001b[0m ) \u001b[38;5;241m-\u001b[39m\u001b[38;5;241m>\u001b[39m Union[AgentFinish, List[Tuple[AgentAction, \u001b[38;5;28mstr\u001b[39m]]]:\n\u001b[0;32m   1037\u001b[0m     \u001b[38;5;28;01mreturn\u001b[39;00m \u001b[38;5;28mself\u001b[39m\u001b[38;5;241m.\u001b[39m_consume_next_step(\n\u001b[1;32m-> 1038\u001b[0m         \u001b[43m[\u001b[49m\n\u001b[0;32m   1039\u001b[0m \u001b[43m            \u001b[49m\u001b[43ma\u001b[49m\n\u001b[0;32m   1040\u001b[0m \u001b[43m            \u001b[49m\u001b[38;5;28;43;01mfor\u001b[39;49;00m\u001b[43m \u001b[49m\u001b[43ma\u001b[49m\u001b[43m \u001b[49m\u001b[38;5;129;43;01min\u001b[39;49;00m\u001b[43m \u001b[49m\u001b[38;5;28;43mself\u001b[39;49m\u001b[38;5;241;43m.\u001b[39;49m\u001b[43m_iter_next_step\u001b[49m\u001b[43m(\u001b[49m\n\u001b[0;32m   1041\u001b[0m \u001b[43m                \u001b[49m\u001b[43mname_to_tool_map\u001b[49m\u001b[43m,\u001b[49m\n\u001b[0;32m   1042\u001b[0m \u001b[43m                \u001b[49m\u001b[43mcolor_mapping\u001b[49m\u001b[43m,\u001b[49m\n\u001b[0;32m   1043\u001b[0m \u001b[43m                \u001b[49m\u001b[43minputs\u001b[49m\u001b[43m,\u001b[49m\n\u001b[0;32m   1044\u001b[0m \u001b[43m                \u001b[49m\u001b[43mintermediate_steps\u001b[49m\u001b[43m,\u001b[49m\n\u001b[0;32m   1045\u001b[0m \u001b[43m                \u001b[49m\u001b[43mrun_manager\u001b[49m\u001b[43m,\u001b[49m\n\u001b[0;32m   1046\u001b[0m \u001b[43m            \u001b[49m\u001b[43m)\u001b[49m\n\u001b[0;32m   1047\u001b[0m \u001b[43m        \u001b[49m\u001b[43m]\u001b[49m\n\u001b[0;32m   1048\u001b[0m     )\n",
      "File \u001b[1;32mc:\\Users\\wesst\\.virtualenvs\\langchain-stuff-DMV5Iwx5\\Lib\\site-packages\\langchain\\agents\\agent.py:1038\u001b[0m, in \u001b[0;36m<listcomp>\u001b[1;34m(.0)\u001b[0m\n\u001b[0;32m   1029\u001b[0m \u001b[38;5;28;01mdef\u001b[39;00m \u001b[38;5;21m_take_next_step\u001b[39m(\n\u001b[0;32m   1030\u001b[0m     \u001b[38;5;28mself\u001b[39m,\n\u001b[0;32m   1031\u001b[0m     name_to_tool_map: Dict[\u001b[38;5;28mstr\u001b[39m, BaseTool],\n\u001b[1;32m   (...)\u001b[0m\n\u001b[0;32m   1035\u001b[0m     run_manager: Optional[CallbackManagerForChainRun] \u001b[38;5;241m=\u001b[39m \u001b[38;5;28;01mNone\u001b[39;00m,\n\u001b[0;32m   1036\u001b[0m ) \u001b[38;5;241m-\u001b[39m\u001b[38;5;241m>\u001b[39m Union[AgentFinish, List[Tuple[AgentAction, \u001b[38;5;28mstr\u001b[39m]]]:\n\u001b[0;32m   1037\u001b[0m     \u001b[38;5;28;01mreturn\u001b[39;00m \u001b[38;5;28mself\u001b[39m\u001b[38;5;241m.\u001b[39m_consume_next_step(\n\u001b[1;32m-> 1038\u001b[0m         \u001b[43m[\u001b[49m\n\u001b[0;32m   1039\u001b[0m \u001b[43m            \u001b[49m\u001b[43ma\u001b[49m\n\u001b[0;32m   1040\u001b[0m \u001b[43m            \u001b[49m\u001b[38;5;28;43;01mfor\u001b[39;49;00m\u001b[43m \u001b[49m\u001b[43ma\u001b[49m\u001b[43m \u001b[49m\u001b[38;5;129;43;01min\u001b[39;49;00m\u001b[43m \u001b[49m\u001b[38;5;28;43mself\u001b[39;49m\u001b[38;5;241;43m.\u001b[39;49m\u001b[43m_iter_next_step\u001b[49m\u001b[43m(\u001b[49m\n\u001b[0;32m   1041\u001b[0m \u001b[43m                \u001b[49m\u001b[43mname_to_tool_map\u001b[49m\u001b[43m,\u001b[49m\n\u001b[0;32m   1042\u001b[0m \u001b[43m                \u001b[49m\u001b[43mcolor_mapping\u001b[49m\u001b[43m,\u001b[49m\n\u001b[0;32m   1043\u001b[0m \u001b[43m                \u001b[49m\u001b[43minputs\u001b[49m\u001b[43m,\u001b[49m\n\u001b[0;32m   1044\u001b[0m \u001b[43m                \u001b[49m\u001b[43mintermediate_steps\u001b[49m\u001b[43m,\u001b[49m\n\u001b[0;32m   1045\u001b[0m \u001b[43m                \u001b[49m\u001b[43mrun_manager\u001b[49m\u001b[43m,\u001b[49m\n\u001b[0;32m   1046\u001b[0m \u001b[43m            \u001b[49m\u001b[43m)\u001b[49m\n\u001b[0;32m   1047\u001b[0m \u001b[43m        \u001b[49m\u001b[43m]\u001b[49m\n\u001b[0;32m   1048\u001b[0m     )\n",
      "File \u001b[1;32mc:\\Users\\wesst\\.virtualenvs\\langchain-stuff-DMV5Iwx5\\Lib\\site-packages\\langchain\\agents\\agent.py:1066\u001b[0m, in \u001b[0;36mAgentExecutor._iter_next_step\u001b[1;34m(self, name_to_tool_map, color_mapping, inputs, intermediate_steps, run_manager)\u001b[0m\n\u001b[0;32m   1063\u001b[0m     intermediate_steps \u001b[38;5;241m=\u001b[39m \u001b[38;5;28mself\u001b[39m\u001b[38;5;241m.\u001b[39m_prepare_intermediate_steps(intermediate_steps)\n\u001b[0;32m   1065\u001b[0m     \u001b[38;5;66;03m# Call the LLM to see what to do.\u001b[39;00m\n\u001b[1;32m-> 1066\u001b[0m     output \u001b[38;5;241m=\u001b[39m \u001b[38;5;28;43mself\u001b[39;49m\u001b[38;5;241;43m.\u001b[39;49m\u001b[43magent\u001b[49m\u001b[38;5;241;43m.\u001b[39;49m\u001b[43mplan\u001b[49m\u001b[43m(\u001b[49m\n\u001b[0;32m   1067\u001b[0m \u001b[43m        \u001b[49m\u001b[43mintermediate_steps\u001b[49m\u001b[43m,\u001b[49m\n\u001b[0;32m   1068\u001b[0m \u001b[43m        \u001b[49m\u001b[43mcallbacks\u001b[49m\u001b[38;5;241;43m=\u001b[39;49m\u001b[43mrun_manager\u001b[49m\u001b[38;5;241;43m.\u001b[39;49m\u001b[43mget_child\u001b[49m\u001b[43m(\u001b[49m\u001b[43m)\u001b[49m\u001b[43m \u001b[49m\u001b[38;5;28;43;01mif\u001b[39;49;00m\u001b[43m \u001b[49m\u001b[43mrun_manager\u001b[49m\u001b[43m \u001b[49m\u001b[38;5;28;43;01melse\u001b[39;49;00m\u001b[43m \u001b[49m\u001b[38;5;28;43;01mNone\u001b[39;49;00m\u001b[43m,\u001b[49m\n\u001b[0;32m   1069\u001b[0m \u001b[43m        \u001b[49m\u001b[38;5;241;43m*\u001b[39;49m\u001b[38;5;241;43m*\u001b[39;49m\u001b[43minputs\u001b[49m\u001b[43m,\u001b[49m\n\u001b[0;32m   1070\u001b[0m \u001b[43m    \u001b[49m\u001b[43m)\u001b[49m\n\u001b[0;32m   1071\u001b[0m \u001b[38;5;28;01mexcept\u001b[39;00m OutputParserException \u001b[38;5;28;01mas\u001b[39;00m e:\n\u001b[0;32m   1072\u001b[0m     \u001b[38;5;28;01mif\u001b[39;00m \u001b[38;5;28misinstance\u001b[39m(\u001b[38;5;28mself\u001b[39m\u001b[38;5;241m.\u001b[39mhandle_parsing_errors, \u001b[38;5;28mbool\u001b[39m):\n",
      "File \u001b[1;32mc:\\Users\\wesst\\.virtualenvs\\langchain-stuff-DMV5Iwx5\\Lib\\site-packages\\langchain\\agents\\agent.py:635\u001b[0m, in \u001b[0;36mAgent.plan\u001b[1;34m(self, intermediate_steps, callbacks, **kwargs)\u001b[0m\n\u001b[0;32m    623\u001b[0m \u001b[38;5;250m\u001b[39m\u001b[38;5;124;03m\"\"\"Given input, decided what to do.\u001b[39;00m\n\u001b[0;32m    624\u001b[0m \n\u001b[0;32m    625\u001b[0m \u001b[38;5;124;03mArgs:\u001b[39;00m\n\u001b[1;32m   (...)\u001b[0m\n\u001b[0;32m    632\u001b[0m \u001b[38;5;124;03m    Action specifying what tool to use.\u001b[39;00m\n\u001b[0;32m    633\u001b[0m \u001b[38;5;124;03m\"\"\"\u001b[39;00m\n\u001b[0;32m    634\u001b[0m full_inputs \u001b[38;5;241m=\u001b[39m \u001b[38;5;28mself\u001b[39m\u001b[38;5;241m.\u001b[39mget_full_inputs(intermediate_steps, \u001b[38;5;241m*\u001b[39m\u001b[38;5;241m*\u001b[39mkwargs)\n\u001b[1;32m--> 635\u001b[0m full_output \u001b[38;5;241m=\u001b[39m \u001b[38;5;28;43mself\u001b[39;49m\u001b[38;5;241;43m.\u001b[39;49m\u001b[43mllm_chain\u001b[49m\u001b[38;5;241;43m.\u001b[39;49m\u001b[43mpredict\u001b[49m\u001b[43m(\u001b[49m\u001b[43mcallbacks\u001b[49m\u001b[38;5;241;43m=\u001b[39;49m\u001b[43mcallbacks\u001b[49m\u001b[43m,\u001b[49m\u001b[43m \u001b[49m\u001b[38;5;241;43m*\u001b[39;49m\u001b[38;5;241;43m*\u001b[39;49m\u001b[43mfull_inputs\u001b[49m\u001b[43m)\u001b[49m\n\u001b[0;32m    636\u001b[0m \u001b[38;5;28;01mreturn\u001b[39;00m \u001b[38;5;28mself\u001b[39m\u001b[38;5;241m.\u001b[39moutput_parser\u001b[38;5;241m.\u001b[39mparse(full_output)\n",
      "File \u001b[1;32mc:\\Users\\wesst\\.virtualenvs\\langchain-stuff-DMV5Iwx5\\Lib\\site-packages\\langchain\\chains\\llm.py:293\u001b[0m, in \u001b[0;36mLLMChain.predict\u001b[1;34m(self, callbacks, **kwargs)\u001b[0m\n\u001b[0;32m    278\u001b[0m \u001b[38;5;28;01mdef\u001b[39;00m \u001b[38;5;21mpredict\u001b[39m(\u001b[38;5;28mself\u001b[39m, callbacks: Callbacks \u001b[38;5;241m=\u001b[39m \u001b[38;5;28;01mNone\u001b[39;00m, \u001b[38;5;241m*\u001b[39m\u001b[38;5;241m*\u001b[39mkwargs: Any) \u001b[38;5;241m-\u001b[39m\u001b[38;5;241m>\u001b[39m \u001b[38;5;28mstr\u001b[39m:\n\u001b[0;32m    279\u001b[0m \u001b[38;5;250m    \u001b[39m\u001b[38;5;124;03m\"\"\"Format prompt with kwargs and pass to LLM.\u001b[39;00m\n\u001b[0;32m    280\u001b[0m \n\u001b[0;32m    281\u001b[0m \u001b[38;5;124;03m    Args:\u001b[39;00m\n\u001b[1;32m   (...)\u001b[0m\n\u001b[0;32m    291\u001b[0m \u001b[38;5;124;03m            completion = llm.predict(adjective=\"funny\")\u001b[39;00m\n\u001b[0;32m    292\u001b[0m \u001b[38;5;124;03m    \"\"\"\u001b[39;00m\n\u001b[1;32m--> 293\u001b[0m     \u001b[38;5;28;01mreturn\u001b[39;00m \u001b[38;5;28;43mself\u001b[39;49m\u001b[43m(\u001b[49m\u001b[43mkwargs\u001b[49m\u001b[43m,\u001b[49m\u001b[43m \u001b[49m\u001b[43mcallbacks\u001b[49m\u001b[38;5;241;43m=\u001b[39;49m\u001b[43mcallbacks\u001b[49m\u001b[43m)\u001b[49m[\u001b[38;5;28mself\u001b[39m\u001b[38;5;241m.\u001b[39moutput_key]\n",
      "File \u001b[1;32mc:\\Users\\wesst\\.virtualenvs\\langchain-stuff-DMV5Iwx5\\Lib\\site-packages\\langchain\\chains\\base.py:316\u001b[0m, in \u001b[0;36mChain.__call__\u001b[1;34m(self, inputs, return_only_outputs, callbacks, tags, metadata, run_name, include_run_info)\u001b[0m\n\u001b[0;32m    314\u001b[0m \u001b[38;5;28;01mexcept\u001b[39;00m \u001b[38;5;167;01mBaseException\u001b[39;00m \u001b[38;5;28;01mas\u001b[39;00m e:\n\u001b[0;32m    315\u001b[0m     run_manager\u001b[38;5;241m.\u001b[39mon_chain_error(e)\n\u001b[1;32m--> 316\u001b[0m     \u001b[38;5;28;01mraise\u001b[39;00m e\n\u001b[0;32m    317\u001b[0m run_manager\u001b[38;5;241m.\u001b[39mon_chain_end(outputs)\n\u001b[0;32m    318\u001b[0m final_outputs: Dict[\u001b[38;5;28mstr\u001b[39m, Any] \u001b[38;5;241m=\u001b[39m \u001b[38;5;28mself\u001b[39m\u001b[38;5;241m.\u001b[39mprep_outputs(\n\u001b[0;32m    319\u001b[0m     inputs, outputs, return_only_outputs\n\u001b[0;32m    320\u001b[0m )\n",
      "File \u001b[1;32mc:\\Users\\wesst\\.virtualenvs\\langchain-stuff-DMV5Iwx5\\Lib\\site-packages\\langchain\\chains\\base.py:310\u001b[0m, in \u001b[0;36mChain.__call__\u001b[1;34m(self, inputs, return_only_outputs, callbacks, tags, metadata, run_name, include_run_info)\u001b[0m\n\u001b[0;32m    303\u001b[0m run_manager \u001b[38;5;241m=\u001b[39m callback_manager\u001b[38;5;241m.\u001b[39mon_chain_start(\n\u001b[0;32m    304\u001b[0m     dumpd(\u001b[38;5;28mself\u001b[39m),\n\u001b[0;32m    305\u001b[0m     inputs,\n\u001b[0;32m    306\u001b[0m     name\u001b[38;5;241m=\u001b[39mrun_name,\n\u001b[0;32m    307\u001b[0m )\n\u001b[0;32m    308\u001b[0m \u001b[38;5;28;01mtry\u001b[39;00m:\n\u001b[0;32m    309\u001b[0m     outputs \u001b[38;5;241m=\u001b[39m (\n\u001b[1;32m--> 310\u001b[0m         \u001b[38;5;28;43mself\u001b[39;49m\u001b[38;5;241;43m.\u001b[39;49m\u001b[43m_call\u001b[49m\u001b[43m(\u001b[49m\u001b[43minputs\u001b[49m\u001b[43m,\u001b[49m\u001b[43m \u001b[49m\u001b[43mrun_manager\u001b[49m\u001b[38;5;241;43m=\u001b[39;49m\u001b[43mrun_manager\u001b[49m\u001b[43m)\u001b[49m\n\u001b[0;32m    311\u001b[0m         \u001b[38;5;28;01mif\u001b[39;00m new_arg_supported\n\u001b[0;32m    312\u001b[0m         \u001b[38;5;28;01melse\u001b[39;00m \u001b[38;5;28mself\u001b[39m\u001b[38;5;241m.\u001b[39m_call(inputs)\n\u001b[0;32m    313\u001b[0m     )\n\u001b[0;32m    314\u001b[0m \u001b[38;5;28;01mexcept\u001b[39;00m \u001b[38;5;167;01mBaseException\u001b[39;00m \u001b[38;5;28;01mas\u001b[39;00m e:\n\u001b[0;32m    315\u001b[0m     run_manager\u001b[38;5;241m.\u001b[39mon_chain_error(e)\n",
      "File \u001b[1;32mc:\\Users\\wesst\\.virtualenvs\\langchain-stuff-DMV5Iwx5\\Lib\\site-packages\\langchain\\chains\\llm.py:103\u001b[0m, in \u001b[0;36mLLMChain._call\u001b[1;34m(self, inputs, run_manager)\u001b[0m\n\u001b[0;32m     98\u001b[0m \u001b[38;5;28;01mdef\u001b[39;00m \u001b[38;5;21m_call\u001b[39m(\n\u001b[0;32m     99\u001b[0m     \u001b[38;5;28mself\u001b[39m,\n\u001b[0;32m    100\u001b[0m     inputs: Dict[\u001b[38;5;28mstr\u001b[39m, Any],\n\u001b[0;32m    101\u001b[0m     run_manager: Optional[CallbackManagerForChainRun] \u001b[38;5;241m=\u001b[39m \u001b[38;5;28;01mNone\u001b[39;00m,\n\u001b[0;32m    102\u001b[0m ) \u001b[38;5;241m-\u001b[39m\u001b[38;5;241m>\u001b[39m Dict[\u001b[38;5;28mstr\u001b[39m, \u001b[38;5;28mstr\u001b[39m]:\n\u001b[1;32m--> 103\u001b[0m     response \u001b[38;5;241m=\u001b[39m \u001b[38;5;28;43mself\u001b[39;49m\u001b[38;5;241;43m.\u001b[39;49m\u001b[43mgenerate\u001b[49m\u001b[43m(\u001b[49m\u001b[43m[\u001b[49m\u001b[43minputs\u001b[49m\u001b[43m]\u001b[49m\u001b[43m,\u001b[49m\u001b[43m \u001b[49m\u001b[43mrun_manager\u001b[49m\u001b[38;5;241;43m=\u001b[39;49m\u001b[43mrun_manager\u001b[49m\u001b[43m)\u001b[49m\n\u001b[0;32m    104\u001b[0m     \u001b[38;5;28;01mreturn\u001b[39;00m \u001b[38;5;28mself\u001b[39m\u001b[38;5;241m.\u001b[39mcreate_outputs(response)[\u001b[38;5;241m0\u001b[39m]\n",
      "File \u001b[1;32mc:\\Users\\wesst\\.virtualenvs\\langchain-stuff-DMV5Iwx5\\Lib\\site-packages\\langchain\\chains\\llm.py:115\u001b[0m, in \u001b[0;36mLLMChain.generate\u001b[1;34m(self, input_list, run_manager)\u001b[0m\n\u001b[0;32m    113\u001b[0m callbacks \u001b[38;5;241m=\u001b[39m run_manager\u001b[38;5;241m.\u001b[39mget_child() \u001b[38;5;28;01mif\u001b[39;00m run_manager \u001b[38;5;28;01melse\u001b[39;00m \u001b[38;5;28;01mNone\u001b[39;00m\n\u001b[0;32m    114\u001b[0m \u001b[38;5;28;01mif\u001b[39;00m \u001b[38;5;28misinstance\u001b[39m(\u001b[38;5;28mself\u001b[39m\u001b[38;5;241m.\u001b[39mllm, BaseLanguageModel):\n\u001b[1;32m--> 115\u001b[0m     \u001b[38;5;28;01mreturn\u001b[39;00m \u001b[38;5;28;43mself\u001b[39;49m\u001b[38;5;241;43m.\u001b[39;49m\u001b[43mllm\u001b[49m\u001b[38;5;241;43m.\u001b[39;49m\u001b[43mgenerate_prompt\u001b[49m\u001b[43m(\u001b[49m\n\u001b[0;32m    116\u001b[0m \u001b[43m        \u001b[49m\u001b[43mprompts\u001b[49m\u001b[43m,\u001b[49m\n\u001b[0;32m    117\u001b[0m \u001b[43m        \u001b[49m\u001b[43mstop\u001b[49m\u001b[43m,\u001b[49m\n\u001b[0;32m    118\u001b[0m \u001b[43m        \u001b[49m\u001b[43mcallbacks\u001b[49m\u001b[38;5;241;43m=\u001b[39;49m\u001b[43mcallbacks\u001b[49m\u001b[43m,\u001b[49m\n\u001b[0;32m    119\u001b[0m \u001b[43m        \u001b[49m\u001b[38;5;241;43m*\u001b[39;49m\u001b[38;5;241;43m*\u001b[39;49m\u001b[38;5;28;43mself\u001b[39;49m\u001b[38;5;241;43m.\u001b[39;49m\u001b[43mllm_kwargs\u001b[49m\u001b[43m,\u001b[49m\n\u001b[0;32m    120\u001b[0m \u001b[43m    \u001b[49m\u001b[43m)\u001b[49m\n\u001b[0;32m    121\u001b[0m \u001b[38;5;28;01melse\u001b[39;00m:\n\u001b[0;32m    122\u001b[0m     results \u001b[38;5;241m=\u001b[39m \u001b[38;5;28mself\u001b[39m\u001b[38;5;241m.\u001b[39mllm\u001b[38;5;241m.\u001b[39mbind(stop\u001b[38;5;241m=\u001b[39mstop, \u001b[38;5;241m*\u001b[39m\u001b[38;5;241m*\u001b[39m\u001b[38;5;28mself\u001b[39m\u001b[38;5;241m.\u001b[39mllm_kwargs)\u001b[38;5;241m.\u001b[39mbatch(\n\u001b[0;32m    123\u001b[0m         cast(List, prompts), {\u001b[38;5;124m\"\u001b[39m\u001b[38;5;124mcallbacks\u001b[39m\u001b[38;5;124m\"\u001b[39m: callbacks}\n\u001b[0;32m    124\u001b[0m     )\n",
      "File \u001b[1;32mc:\\Users\\wesst\\.virtualenvs\\langchain-stuff-DMV5Iwx5\\Lib\\site-packages\\langchain_core\\language_models\\chat_models.py:496\u001b[0m, in \u001b[0;36mBaseChatModel.generate_prompt\u001b[1;34m(self, prompts, stop, callbacks, **kwargs)\u001b[0m\n\u001b[0;32m    488\u001b[0m \u001b[38;5;28;01mdef\u001b[39;00m \u001b[38;5;21mgenerate_prompt\u001b[39m(\n\u001b[0;32m    489\u001b[0m     \u001b[38;5;28mself\u001b[39m,\n\u001b[0;32m    490\u001b[0m     prompts: List[PromptValue],\n\u001b[1;32m   (...)\u001b[0m\n\u001b[0;32m    493\u001b[0m     \u001b[38;5;241m*\u001b[39m\u001b[38;5;241m*\u001b[39mkwargs: Any,\n\u001b[0;32m    494\u001b[0m ) \u001b[38;5;241m-\u001b[39m\u001b[38;5;241m>\u001b[39m LLMResult:\n\u001b[0;32m    495\u001b[0m     prompt_messages \u001b[38;5;241m=\u001b[39m [p\u001b[38;5;241m.\u001b[39mto_messages() \u001b[38;5;28;01mfor\u001b[39;00m p \u001b[38;5;129;01min\u001b[39;00m prompts]\n\u001b[1;32m--> 496\u001b[0m     \u001b[38;5;28;01mreturn\u001b[39;00m \u001b[38;5;28;43mself\u001b[39;49m\u001b[38;5;241;43m.\u001b[39;49m\u001b[43mgenerate\u001b[49m\u001b[43m(\u001b[49m\u001b[43mprompt_messages\u001b[49m\u001b[43m,\u001b[49m\u001b[43m \u001b[49m\u001b[43mstop\u001b[49m\u001b[38;5;241;43m=\u001b[39;49m\u001b[43mstop\u001b[49m\u001b[43m,\u001b[49m\u001b[43m \u001b[49m\u001b[43mcallbacks\u001b[49m\u001b[38;5;241;43m=\u001b[39;49m\u001b[43mcallbacks\u001b[49m\u001b[43m,\u001b[49m\u001b[43m \u001b[49m\u001b[38;5;241;43m*\u001b[39;49m\u001b[38;5;241;43m*\u001b[39;49m\u001b[43mkwargs\u001b[49m\u001b[43m)\u001b[49m\n",
      "File \u001b[1;32mc:\\Users\\wesst\\.virtualenvs\\langchain-stuff-DMV5Iwx5\\Lib\\site-packages\\langchain_core\\language_models\\chat_models.py:383\u001b[0m, in \u001b[0;36mBaseChatModel.generate\u001b[1;34m(self, messages, stop, callbacks, tags, metadata, run_name, **kwargs)\u001b[0m\n\u001b[0;32m    381\u001b[0m         \u001b[38;5;28;01mif\u001b[39;00m run_managers:\n\u001b[0;32m    382\u001b[0m             run_managers[i]\u001b[38;5;241m.\u001b[39mon_llm_error(e, response\u001b[38;5;241m=\u001b[39mLLMResult(generations\u001b[38;5;241m=\u001b[39m[]))\n\u001b[1;32m--> 383\u001b[0m         \u001b[38;5;28;01mraise\u001b[39;00m e\n\u001b[0;32m    384\u001b[0m flattened_outputs \u001b[38;5;241m=\u001b[39m [\n\u001b[0;32m    385\u001b[0m     LLMResult(generations\u001b[38;5;241m=\u001b[39m[res\u001b[38;5;241m.\u001b[39mgenerations], llm_output\u001b[38;5;241m=\u001b[39mres\u001b[38;5;241m.\u001b[39mllm_output)\n\u001b[0;32m    386\u001b[0m     \u001b[38;5;28;01mfor\u001b[39;00m res \u001b[38;5;129;01min\u001b[39;00m results\n\u001b[0;32m    387\u001b[0m ]\n\u001b[0;32m    388\u001b[0m llm_output \u001b[38;5;241m=\u001b[39m \u001b[38;5;28mself\u001b[39m\u001b[38;5;241m.\u001b[39m_combine_llm_outputs([res\u001b[38;5;241m.\u001b[39mllm_output \u001b[38;5;28;01mfor\u001b[39;00m res \u001b[38;5;129;01min\u001b[39;00m results])\n",
      "File \u001b[1;32mc:\\Users\\wesst\\.virtualenvs\\langchain-stuff-DMV5Iwx5\\Lib\\site-packages\\langchain_core\\language_models\\chat_models.py:373\u001b[0m, in \u001b[0;36mBaseChatModel.generate\u001b[1;34m(self, messages, stop, callbacks, tags, metadata, run_name, **kwargs)\u001b[0m\n\u001b[0;32m    370\u001b[0m \u001b[38;5;28;01mfor\u001b[39;00m i, m \u001b[38;5;129;01min\u001b[39;00m \u001b[38;5;28menumerate\u001b[39m(messages):\n\u001b[0;32m    371\u001b[0m     \u001b[38;5;28;01mtry\u001b[39;00m:\n\u001b[0;32m    372\u001b[0m         results\u001b[38;5;241m.\u001b[39mappend(\n\u001b[1;32m--> 373\u001b[0m             \u001b[38;5;28;43mself\u001b[39;49m\u001b[38;5;241;43m.\u001b[39;49m\u001b[43m_generate_with_cache\u001b[49m\u001b[43m(\u001b[49m\n\u001b[0;32m    374\u001b[0m \u001b[43m                \u001b[49m\u001b[43mm\u001b[49m\u001b[43m,\u001b[49m\n\u001b[0;32m    375\u001b[0m \u001b[43m                \u001b[49m\u001b[43mstop\u001b[49m\u001b[38;5;241;43m=\u001b[39;49m\u001b[43mstop\u001b[49m\u001b[43m,\u001b[49m\n\u001b[0;32m    376\u001b[0m \u001b[43m                \u001b[49m\u001b[43mrun_manager\u001b[49m\u001b[38;5;241;43m=\u001b[39;49m\u001b[43mrun_managers\u001b[49m\u001b[43m[\u001b[49m\u001b[43mi\u001b[49m\u001b[43m]\u001b[49m\u001b[43m \u001b[49m\u001b[38;5;28;43;01mif\u001b[39;49;00m\u001b[43m \u001b[49m\u001b[43mrun_managers\u001b[49m\u001b[43m \u001b[49m\u001b[38;5;28;43;01melse\u001b[39;49;00m\u001b[43m \u001b[49m\u001b[38;5;28;43;01mNone\u001b[39;49;00m\u001b[43m,\u001b[49m\n\u001b[0;32m    377\u001b[0m \u001b[43m                \u001b[49m\u001b[38;5;241;43m*\u001b[39;49m\u001b[38;5;241;43m*\u001b[39;49m\u001b[43mkwargs\u001b[49m\u001b[43m,\u001b[49m\n\u001b[0;32m    378\u001b[0m \u001b[43m            \u001b[49m\u001b[43m)\u001b[49m\n\u001b[0;32m    379\u001b[0m         )\n\u001b[0;32m    380\u001b[0m     \u001b[38;5;28;01mexcept\u001b[39;00m \u001b[38;5;167;01mBaseException\u001b[39;00m \u001b[38;5;28;01mas\u001b[39;00m e:\n\u001b[0;32m    381\u001b[0m         \u001b[38;5;28;01mif\u001b[39;00m run_managers:\n",
      "File \u001b[1;32mc:\\Users\\wesst\\.virtualenvs\\langchain-stuff-DMV5Iwx5\\Lib\\site-packages\\langchain_core\\language_models\\chat_models.py:529\u001b[0m, in \u001b[0;36mBaseChatModel._generate_with_cache\u001b[1;34m(self, messages, stop, run_manager, **kwargs)\u001b[0m\n\u001b[0;32m    525\u001b[0m     \u001b[38;5;28;01mraise\u001b[39;00m \u001b[38;5;167;01mValueError\u001b[39;00m(\n\u001b[0;32m    526\u001b[0m         \u001b[38;5;124m\"\u001b[39m\u001b[38;5;124mAsked to cache, but no cache found at `langchain.cache`.\u001b[39m\u001b[38;5;124m\"\u001b[39m\n\u001b[0;32m    527\u001b[0m     )\n\u001b[0;32m    528\u001b[0m \u001b[38;5;28;01mif\u001b[39;00m new_arg_supported:\n\u001b[1;32m--> 529\u001b[0m     \u001b[38;5;28;01mreturn\u001b[39;00m \u001b[38;5;28;43mself\u001b[39;49m\u001b[38;5;241;43m.\u001b[39;49m\u001b[43m_generate\u001b[49m\u001b[43m(\u001b[49m\n\u001b[0;32m    530\u001b[0m \u001b[43m        \u001b[49m\u001b[43mmessages\u001b[49m\u001b[43m,\u001b[49m\u001b[43m \u001b[49m\u001b[43mstop\u001b[49m\u001b[38;5;241;43m=\u001b[39;49m\u001b[43mstop\u001b[49m\u001b[43m,\u001b[49m\u001b[43m \u001b[49m\u001b[43mrun_manager\u001b[49m\u001b[38;5;241;43m=\u001b[39;49m\u001b[43mrun_manager\u001b[49m\u001b[43m,\u001b[49m\u001b[43m \u001b[49m\u001b[38;5;241;43m*\u001b[39;49m\u001b[38;5;241;43m*\u001b[39;49m\u001b[43mkwargs\u001b[49m\n\u001b[0;32m    531\u001b[0m \u001b[43m    \u001b[49m\u001b[43m)\u001b[49m\n\u001b[0;32m    532\u001b[0m \u001b[38;5;28;01melse\u001b[39;00m:\n\u001b[0;32m    533\u001b[0m     \u001b[38;5;28;01mreturn\u001b[39;00m \u001b[38;5;28mself\u001b[39m\u001b[38;5;241m.\u001b[39m_generate(messages, stop\u001b[38;5;241m=\u001b[39mstop, \u001b[38;5;241m*\u001b[39m\u001b[38;5;241m*\u001b[39mkwargs)\n",
      "File \u001b[1;32mc:\\Users\\wesst\\.virtualenvs\\langchain-stuff-DMV5Iwx5\\Lib\\site-packages\\langchain_community\\chat_models\\openai.py:435\u001b[0m, in \u001b[0;36mChatOpenAI._generate\u001b[1;34m(self, messages, stop, run_manager, stream, **kwargs)\u001b[0m\n\u001b[0;32m    429\u001b[0m message_dicts, params \u001b[38;5;241m=\u001b[39m \u001b[38;5;28mself\u001b[39m\u001b[38;5;241m.\u001b[39m_create_message_dicts(messages, stop)\n\u001b[0;32m    430\u001b[0m params \u001b[38;5;241m=\u001b[39m {\n\u001b[0;32m    431\u001b[0m     \u001b[38;5;241m*\u001b[39m\u001b[38;5;241m*\u001b[39mparams,\n\u001b[0;32m    432\u001b[0m     \u001b[38;5;241m*\u001b[39m\u001b[38;5;241m*\u001b[39m({\u001b[38;5;124m\"\u001b[39m\u001b[38;5;124mstream\u001b[39m\u001b[38;5;124m\"\u001b[39m: stream} \u001b[38;5;28;01mif\u001b[39;00m stream \u001b[38;5;129;01mis\u001b[39;00m \u001b[38;5;129;01mnot\u001b[39;00m \u001b[38;5;28;01mNone\u001b[39;00m \u001b[38;5;28;01melse\u001b[39;00m {}),\n\u001b[0;32m    433\u001b[0m     \u001b[38;5;241m*\u001b[39m\u001b[38;5;241m*\u001b[39mkwargs,\n\u001b[0;32m    434\u001b[0m }\n\u001b[1;32m--> 435\u001b[0m response \u001b[38;5;241m=\u001b[39m \u001b[38;5;28;43mself\u001b[39;49m\u001b[38;5;241;43m.\u001b[39;49m\u001b[43mcompletion_with_retry\u001b[49m\u001b[43m(\u001b[49m\n\u001b[0;32m    436\u001b[0m \u001b[43m    \u001b[49m\u001b[43mmessages\u001b[49m\u001b[38;5;241;43m=\u001b[39;49m\u001b[43mmessage_dicts\u001b[49m\u001b[43m,\u001b[49m\u001b[43m \u001b[49m\u001b[43mrun_manager\u001b[49m\u001b[38;5;241;43m=\u001b[39;49m\u001b[43mrun_manager\u001b[49m\u001b[43m,\u001b[49m\u001b[43m \u001b[49m\u001b[38;5;241;43m*\u001b[39;49m\u001b[38;5;241;43m*\u001b[39;49m\u001b[43mparams\u001b[49m\n\u001b[0;32m    437\u001b[0m \u001b[43m\u001b[49m\u001b[43m)\u001b[49m\n\u001b[0;32m    438\u001b[0m \u001b[38;5;28;01mreturn\u001b[39;00m \u001b[38;5;28mself\u001b[39m\u001b[38;5;241m.\u001b[39m_create_chat_result(response)\n",
      "File \u001b[1;32mc:\\Users\\wesst\\.virtualenvs\\langchain-stuff-DMV5Iwx5\\Lib\\site-packages\\langchain_community\\chat_models\\openai.py:352\u001b[0m, in \u001b[0;36mChatOpenAI.completion_with_retry\u001b[1;34m(self, run_manager, **kwargs)\u001b[0m\n\u001b[0;32m    350\u001b[0m \u001b[38;5;250m\u001b[39m\u001b[38;5;124;03m\"\"\"Use tenacity to retry the completion call.\"\"\"\u001b[39;00m\n\u001b[0;32m    351\u001b[0m \u001b[38;5;28;01mif\u001b[39;00m is_openai_v1():\n\u001b[1;32m--> 352\u001b[0m     \u001b[38;5;28;01mreturn\u001b[39;00m \u001b[38;5;28;43mself\u001b[39;49m\u001b[38;5;241;43m.\u001b[39;49m\u001b[43mclient\u001b[49m\u001b[38;5;241;43m.\u001b[39;49m\u001b[43mcreate\u001b[49m\u001b[43m(\u001b[49m\u001b[38;5;241;43m*\u001b[39;49m\u001b[38;5;241;43m*\u001b[39;49m\u001b[43mkwargs\u001b[49m\u001b[43m)\u001b[49m\n\u001b[0;32m    354\u001b[0m retry_decorator \u001b[38;5;241m=\u001b[39m _create_retry_decorator(\u001b[38;5;28mself\u001b[39m, run_manager\u001b[38;5;241m=\u001b[39mrun_manager)\n\u001b[0;32m    356\u001b[0m \u001b[38;5;129m@retry_decorator\u001b[39m\n\u001b[0;32m    357\u001b[0m \u001b[38;5;28;01mdef\u001b[39;00m \u001b[38;5;21m_completion_with_retry\u001b[39m(\u001b[38;5;241m*\u001b[39m\u001b[38;5;241m*\u001b[39mkwargs: Any) \u001b[38;5;241m-\u001b[39m\u001b[38;5;241m>\u001b[39m Any:\n",
      "File \u001b[1;32mc:\\Users\\wesst\\.virtualenvs\\langchain-stuff-DMV5Iwx5\\Lib\\site-packages\\openai\\_utils\\_utils.py:272\u001b[0m, in \u001b[0;36mrequired_args.<locals>.inner.<locals>.wrapper\u001b[1;34m(*args, **kwargs)\u001b[0m\n\u001b[0;32m    270\u001b[0m             msg \u001b[38;5;241m=\u001b[39m \u001b[38;5;124mf\u001b[39m\u001b[38;5;124m\"\u001b[39m\u001b[38;5;124mMissing required argument: \u001b[39m\u001b[38;5;132;01m{\u001b[39;00mquote(missing[\u001b[38;5;241m0\u001b[39m])\u001b[38;5;132;01m}\u001b[39;00m\u001b[38;5;124m\"\u001b[39m\n\u001b[0;32m    271\u001b[0m     \u001b[38;5;28;01mraise\u001b[39;00m \u001b[38;5;167;01mTypeError\u001b[39;00m(msg)\n\u001b[1;32m--> 272\u001b[0m \u001b[38;5;28;01mreturn\u001b[39;00m \u001b[43mfunc\u001b[49m\u001b[43m(\u001b[49m\u001b[38;5;241;43m*\u001b[39;49m\u001b[43margs\u001b[49m\u001b[43m,\u001b[49m\u001b[43m \u001b[49m\u001b[38;5;241;43m*\u001b[39;49m\u001b[38;5;241;43m*\u001b[39;49m\u001b[43mkwargs\u001b[49m\u001b[43m)\u001b[49m\n",
      "File \u001b[1;32mc:\\Users\\wesst\\.virtualenvs\\langchain-stuff-DMV5Iwx5\\Lib\\site-packages\\openai\\resources\\chat\\completions.py:645\u001b[0m, in \u001b[0;36mCompletions.create\u001b[1;34m(self, messages, model, frequency_penalty, function_call, functions, logit_bias, logprobs, max_tokens, n, presence_penalty, response_format, seed, stop, stream, temperature, tool_choice, tools, top_logprobs, top_p, user, extra_headers, extra_query, extra_body, timeout)\u001b[0m\n\u001b[0;32m    596\u001b[0m \u001b[38;5;129m@required_args\u001b[39m([\u001b[38;5;124m\"\u001b[39m\u001b[38;5;124mmessages\u001b[39m\u001b[38;5;124m\"\u001b[39m, \u001b[38;5;124m\"\u001b[39m\u001b[38;5;124mmodel\u001b[39m\u001b[38;5;124m\"\u001b[39m], [\u001b[38;5;124m\"\u001b[39m\u001b[38;5;124mmessages\u001b[39m\u001b[38;5;124m\"\u001b[39m, \u001b[38;5;124m\"\u001b[39m\u001b[38;5;124mmodel\u001b[39m\u001b[38;5;124m\"\u001b[39m, \u001b[38;5;124m\"\u001b[39m\u001b[38;5;124mstream\u001b[39m\u001b[38;5;124m\"\u001b[39m])\n\u001b[0;32m    597\u001b[0m \u001b[38;5;28;01mdef\u001b[39;00m \u001b[38;5;21mcreate\u001b[39m(\n\u001b[0;32m    598\u001b[0m     \u001b[38;5;28mself\u001b[39m,\n\u001b[1;32m   (...)\u001b[0m\n\u001b[0;32m    643\u001b[0m     timeout: \u001b[38;5;28mfloat\u001b[39m \u001b[38;5;241m|\u001b[39m httpx\u001b[38;5;241m.\u001b[39mTimeout \u001b[38;5;241m|\u001b[39m \u001b[38;5;28;01mNone\u001b[39;00m \u001b[38;5;241m|\u001b[39m NotGiven \u001b[38;5;241m=\u001b[39m NOT_GIVEN,\n\u001b[0;32m    644\u001b[0m ) \u001b[38;5;241m-\u001b[39m\u001b[38;5;241m>\u001b[39m ChatCompletion \u001b[38;5;241m|\u001b[39m Stream[ChatCompletionChunk]:\n\u001b[1;32m--> 645\u001b[0m     \u001b[38;5;28;01mreturn\u001b[39;00m \u001b[38;5;28;43mself\u001b[39;49m\u001b[38;5;241;43m.\u001b[39;49m\u001b[43m_post\u001b[49m\u001b[43m(\u001b[49m\n\u001b[0;32m    646\u001b[0m \u001b[43m        \u001b[49m\u001b[38;5;124;43m\"\u001b[39;49m\u001b[38;5;124;43m/chat/completions\u001b[39;49m\u001b[38;5;124;43m\"\u001b[39;49m\u001b[43m,\u001b[49m\n\u001b[0;32m    647\u001b[0m \u001b[43m        \u001b[49m\u001b[43mbody\u001b[49m\u001b[38;5;241;43m=\u001b[39;49m\u001b[43mmaybe_transform\u001b[49m\u001b[43m(\u001b[49m\n\u001b[0;32m    648\u001b[0m \u001b[43m            \u001b[49m\u001b[43m{\u001b[49m\n\u001b[0;32m    649\u001b[0m \u001b[43m                \u001b[49m\u001b[38;5;124;43m\"\u001b[39;49m\u001b[38;5;124;43mmessages\u001b[39;49m\u001b[38;5;124;43m\"\u001b[39;49m\u001b[43m:\u001b[49m\u001b[43m \u001b[49m\u001b[43mmessages\u001b[49m\u001b[43m,\u001b[49m\n\u001b[0;32m    650\u001b[0m \u001b[43m                \u001b[49m\u001b[38;5;124;43m\"\u001b[39;49m\u001b[38;5;124;43mmodel\u001b[39;49m\u001b[38;5;124;43m\"\u001b[39;49m\u001b[43m:\u001b[49m\u001b[43m \u001b[49m\u001b[43mmodel\u001b[49m\u001b[43m,\u001b[49m\n\u001b[0;32m    651\u001b[0m \u001b[43m                \u001b[49m\u001b[38;5;124;43m\"\u001b[39;49m\u001b[38;5;124;43mfrequency_penalty\u001b[39;49m\u001b[38;5;124;43m\"\u001b[39;49m\u001b[43m:\u001b[49m\u001b[43m \u001b[49m\u001b[43mfrequency_penalty\u001b[49m\u001b[43m,\u001b[49m\n\u001b[0;32m    652\u001b[0m \u001b[43m                \u001b[49m\u001b[38;5;124;43m\"\u001b[39;49m\u001b[38;5;124;43mfunction_call\u001b[39;49m\u001b[38;5;124;43m\"\u001b[39;49m\u001b[43m:\u001b[49m\u001b[43m \u001b[49m\u001b[43mfunction_call\u001b[49m\u001b[43m,\u001b[49m\n\u001b[0;32m    653\u001b[0m \u001b[43m                \u001b[49m\u001b[38;5;124;43m\"\u001b[39;49m\u001b[38;5;124;43mfunctions\u001b[39;49m\u001b[38;5;124;43m\"\u001b[39;49m\u001b[43m:\u001b[49m\u001b[43m \u001b[49m\u001b[43mfunctions\u001b[49m\u001b[43m,\u001b[49m\n\u001b[0;32m    654\u001b[0m \u001b[43m                \u001b[49m\u001b[38;5;124;43m\"\u001b[39;49m\u001b[38;5;124;43mlogit_bias\u001b[39;49m\u001b[38;5;124;43m\"\u001b[39;49m\u001b[43m:\u001b[49m\u001b[43m \u001b[49m\u001b[43mlogit_bias\u001b[49m\u001b[43m,\u001b[49m\n\u001b[0;32m    655\u001b[0m \u001b[43m                \u001b[49m\u001b[38;5;124;43m\"\u001b[39;49m\u001b[38;5;124;43mlogprobs\u001b[39;49m\u001b[38;5;124;43m\"\u001b[39;49m\u001b[43m:\u001b[49m\u001b[43m \u001b[49m\u001b[43mlogprobs\u001b[49m\u001b[43m,\u001b[49m\n\u001b[0;32m    656\u001b[0m \u001b[43m                \u001b[49m\u001b[38;5;124;43m\"\u001b[39;49m\u001b[38;5;124;43mmax_tokens\u001b[39;49m\u001b[38;5;124;43m\"\u001b[39;49m\u001b[43m:\u001b[49m\u001b[43m \u001b[49m\u001b[43mmax_tokens\u001b[49m\u001b[43m,\u001b[49m\n\u001b[0;32m    657\u001b[0m \u001b[43m                \u001b[49m\u001b[38;5;124;43m\"\u001b[39;49m\u001b[38;5;124;43mn\u001b[39;49m\u001b[38;5;124;43m\"\u001b[39;49m\u001b[43m:\u001b[49m\u001b[43m \u001b[49m\u001b[43mn\u001b[49m\u001b[43m,\u001b[49m\n\u001b[0;32m    658\u001b[0m \u001b[43m                \u001b[49m\u001b[38;5;124;43m\"\u001b[39;49m\u001b[38;5;124;43mpresence_penalty\u001b[39;49m\u001b[38;5;124;43m\"\u001b[39;49m\u001b[43m:\u001b[49m\u001b[43m \u001b[49m\u001b[43mpresence_penalty\u001b[49m\u001b[43m,\u001b[49m\n\u001b[0;32m    659\u001b[0m \u001b[43m                \u001b[49m\u001b[38;5;124;43m\"\u001b[39;49m\u001b[38;5;124;43mresponse_format\u001b[39;49m\u001b[38;5;124;43m\"\u001b[39;49m\u001b[43m:\u001b[49m\u001b[43m \u001b[49m\u001b[43mresponse_format\u001b[49m\u001b[43m,\u001b[49m\n\u001b[0;32m    660\u001b[0m \u001b[43m                \u001b[49m\u001b[38;5;124;43m\"\u001b[39;49m\u001b[38;5;124;43mseed\u001b[39;49m\u001b[38;5;124;43m\"\u001b[39;49m\u001b[43m:\u001b[49m\u001b[43m \u001b[49m\u001b[43mseed\u001b[49m\u001b[43m,\u001b[49m\n\u001b[0;32m    661\u001b[0m \u001b[43m                \u001b[49m\u001b[38;5;124;43m\"\u001b[39;49m\u001b[38;5;124;43mstop\u001b[39;49m\u001b[38;5;124;43m\"\u001b[39;49m\u001b[43m:\u001b[49m\u001b[43m \u001b[49m\u001b[43mstop\u001b[49m\u001b[43m,\u001b[49m\n\u001b[0;32m    662\u001b[0m \u001b[43m                \u001b[49m\u001b[38;5;124;43m\"\u001b[39;49m\u001b[38;5;124;43mstream\u001b[39;49m\u001b[38;5;124;43m\"\u001b[39;49m\u001b[43m:\u001b[49m\u001b[43m \u001b[49m\u001b[43mstream\u001b[49m\u001b[43m,\u001b[49m\n\u001b[0;32m    663\u001b[0m \u001b[43m                \u001b[49m\u001b[38;5;124;43m\"\u001b[39;49m\u001b[38;5;124;43mtemperature\u001b[39;49m\u001b[38;5;124;43m\"\u001b[39;49m\u001b[43m:\u001b[49m\u001b[43m \u001b[49m\u001b[43mtemperature\u001b[49m\u001b[43m,\u001b[49m\n\u001b[0;32m    664\u001b[0m \u001b[43m                \u001b[49m\u001b[38;5;124;43m\"\u001b[39;49m\u001b[38;5;124;43mtool_choice\u001b[39;49m\u001b[38;5;124;43m\"\u001b[39;49m\u001b[43m:\u001b[49m\u001b[43m \u001b[49m\u001b[43mtool_choice\u001b[49m\u001b[43m,\u001b[49m\n\u001b[0;32m    665\u001b[0m \u001b[43m                \u001b[49m\u001b[38;5;124;43m\"\u001b[39;49m\u001b[38;5;124;43mtools\u001b[39;49m\u001b[38;5;124;43m\"\u001b[39;49m\u001b[43m:\u001b[49m\u001b[43m \u001b[49m\u001b[43mtools\u001b[49m\u001b[43m,\u001b[49m\n\u001b[0;32m    666\u001b[0m \u001b[43m                \u001b[49m\u001b[38;5;124;43m\"\u001b[39;49m\u001b[38;5;124;43mtop_logprobs\u001b[39;49m\u001b[38;5;124;43m\"\u001b[39;49m\u001b[43m:\u001b[49m\u001b[43m \u001b[49m\u001b[43mtop_logprobs\u001b[49m\u001b[43m,\u001b[49m\n\u001b[0;32m    667\u001b[0m \u001b[43m                \u001b[49m\u001b[38;5;124;43m\"\u001b[39;49m\u001b[38;5;124;43mtop_p\u001b[39;49m\u001b[38;5;124;43m\"\u001b[39;49m\u001b[43m:\u001b[49m\u001b[43m \u001b[49m\u001b[43mtop_p\u001b[49m\u001b[43m,\u001b[49m\n\u001b[0;32m    668\u001b[0m \u001b[43m                \u001b[49m\u001b[38;5;124;43m\"\u001b[39;49m\u001b[38;5;124;43muser\u001b[39;49m\u001b[38;5;124;43m\"\u001b[39;49m\u001b[43m:\u001b[49m\u001b[43m \u001b[49m\u001b[43muser\u001b[49m\u001b[43m,\u001b[49m\n\u001b[0;32m    669\u001b[0m \u001b[43m            \u001b[49m\u001b[43m}\u001b[49m\u001b[43m,\u001b[49m\n\u001b[0;32m    670\u001b[0m \u001b[43m            \u001b[49m\u001b[43mcompletion_create_params\u001b[49m\u001b[38;5;241;43m.\u001b[39;49m\u001b[43mCompletionCreateParams\u001b[49m\u001b[43m,\u001b[49m\n\u001b[0;32m    671\u001b[0m \u001b[43m        \u001b[49m\u001b[43m)\u001b[49m\u001b[43m,\u001b[49m\n\u001b[0;32m    672\u001b[0m \u001b[43m        \u001b[49m\u001b[43moptions\u001b[49m\u001b[38;5;241;43m=\u001b[39;49m\u001b[43mmake_request_options\u001b[49m\u001b[43m(\u001b[49m\n\u001b[0;32m    673\u001b[0m \u001b[43m            \u001b[49m\u001b[43mextra_headers\u001b[49m\u001b[38;5;241;43m=\u001b[39;49m\u001b[43mextra_headers\u001b[49m\u001b[43m,\u001b[49m\u001b[43m \u001b[49m\u001b[43mextra_query\u001b[49m\u001b[38;5;241;43m=\u001b[39;49m\u001b[43mextra_query\u001b[49m\u001b[43m,\u001b[49m\u001b[43m \u001b[49m\u001b[43mextra_body\u001b[49m\u001b[38;5;241;43m=\u001b[39;49m\u001b[43mextra_body\u001b[49m\u001b[43m,\u001b[49m\u001b[43m \u001b[49m\u001b[43mtimeout\u001b[49m\u001b[38;5;241;43m=\u001b[39;49m\u001b[43mtimeout\u001b[49m\n\u001b[0;32m    674\u001b[0m \u001b[43m        \u001b[49m\u001b[43m)\u001b[49m\u001b[43m,\u001b[49m\n\u001b[0;32m    675\u001b[0m \u001b[43m        \u001b[49m\u001b[43mcast_to\u001b[49m\u001b[38;5;241;43m=\u001b[39;49m\u001b[43mChatCompletion\u001b[49m\u001b[43m,\u001b[49m\n\u001b[0;32m    676\u001b[0m \u001b[43m        \u001b[49m\u001b[43mstream\u001b[49m\u001b[38;5;241;43m=\u001b[39;49m\u001b[43mstream\u001b[49m\u001b[43m \u001b[49m\u001b[38;5;129;43;01mor\u001b[39;49;00m\u001b[43m \u001b[49m\u001b[38;5;28;43;01mFalse\u001b[39;49;00m\u001b[43m,\u001b[49m\n\u001b[0;32m    677\u001b[0m \u001b[43m        \u001b[49m\u001b[43mstream_cls\u001b[49m\u001b[38;5;241;43m=\u001b[39;49m\u001b[43mStream\u001b[49m\u001b[43m[\u001b[49m\u001b[43mChatCompletionChunk\u001b[49m\u001b[43m]\u001b[49m\u001b[43m,\u001b[49m\n\u001b[0;32m    678\u001b[0m \u001b[43m    \u001b[49m\u001b[43m)\u001b[49m\n",
      "File \u001b[1;32mc:\\Users\\wesst\\.virtualenvs\\langchain-stuff-DMV5Iwx5\\Lib\\site-packages\\openai\\_base_client.py:1088\u001b[0m, in \u001b[0;36mSyncAPIClient.post\u001b[1;34m(self, path, cast_to, body, options, files, stream, stream_cls)\u001b[0m\n\u001b[0;32m   1074\u001b[0m \u001b[38;5;28;01mdef\u001b[39;00m \u001b[38;5;21mpost\u001b[39m(\n\u001b[0;32m   1075\u001b[0m     \u001b[38;5;28mself\u001b[39m,\n\u001b[0;32m   1076\u001b[0m     path: \u001b[38;5;28mstr\u001b[39m,\n\u001b[1;32m   (...)\u001b[0m\n\u001b[0;32m   1083\u001b[0m     stream_cls: \u001b[38;5;28mtype\u001b[39m[_StreamT] \u001b[38;5;241m|\u001b[39m \u001b[38;5;28;01mNone\u001b[39;00m \u001b[38;5;241m=\u001b[39m \u001b[38;5;28;01mNone\u001b[39;00m,\n\u001b[0;32m   1084\u001b[0m ) \u001b[38;5;241m-\u001b[39m\u001b[38;5;241m>\u001b[39m ResponseT \u001b[38;5;241m|\u001b[39m _StreamT:\n\u001b[0;32m   1085\u001b[0m     opts \u001b[38;5;241m=\u001b[39m FinalRequestOptions\u001b[38;5;241m.\u001b[39mconstruct(\n\u001b[0;32m   1086\u001b[0m         method\u001b[38;5;241m=\u001b[39m\u001b[38;5;124m\"\u001b[39m\u001b[38;5;124mpost\u001b[39m\u001b[38;5;124m\"\u001b[39m, url\u001b[38;5;241m=\u001b[39mpath, json_data\u001b[38;5;241m=\u001b[39mbody, files\u001b[38;5;241m=\u001b[39mto_httpx_files(files), \u001b[38;5;241m*\u001b[39m\u001b[38;5;241m*\u001b[39moptions\n\u001b[0;32m   1087\u001b[0m     )\n\u001b[1;32m-> 1088\u001b[0m     \u001b[38;5;28;01mreturn\u001b[39;00m cast(ResponseT, \u001b[38;5;28;43mself\u001b[39;49m\u001b[38;5;241;43m.\u001b[39;49m\u001b[43mrequest\u001b[49m\u001b[43m(\u001b[49m\u001b[43mcast_to\u001b[49m\u001b[43m,\u001b[49m\u001b[43m \u001b[49m\u001b[43mopts\u001b[49m\u001b[43m,\u001b[49m\u001b[43m \u001b[49m\u001b[43mstream\u001b[49m\u001b[38;5;241;43m=\u001b[39;49m\u001b[43mstream\u001b[49m\u001b[43m,\u001b[49m\u001b[43m \u001b[49m\u001b[43mstream_cls\u001b[49m\u001b[38;5;241;43m=\u001b[39;49m\u001b[43mstream_cls\u001b[49m\u001b[43m)\u001b[49m)\n",
      "File \u001b[1;32mc:\\Users\\wesst\\.virtualenvs\\langchain-stuff-DMV5Iwx5\\Lib\\site-packages\\openai\\_base_client.py:853\u001b[0m, in \u001b[0;36mSyncAPIClient.request\u001b[1;34m(self, cast_to, options, remaining_retries, stream, stream_cls)\u001b[0m\n\u001b[0;32m    844\u001b[0m \u001b[38;5;28;01mdef\u001b[39;00m \u001b[38;5;21mrequest\u001b[39m(\n\u001b[0;32m    845\u001b[0m     \u001b[38;5;28mself\u001b[39m,\n\u001b[0;32m    846\u001b[0m     cast_to: Type[ResponseT],\n\u001b[1;32m   (...)\u001b[0m\n\u001b[0;32m    851\u001b[0m     stream_cls: \u001b[38;5;28mtype\u001b[39m[_StreamT] \u001b[38;5;241m|\u001b[39m \u001b[38;5;28;01mNone\u001b[39;00m \u001b[38;5;241m=\u001b[39m \u001b[38;5;28;01mNone\u001b[39;00m,\n\u001b[0;32m    852\u001b[0m ) \u001b[38;5;241m-\u001b[39m\u001b[38;5;241m>\u001b[39m ResponseT \u001b[38;5;241m|\u001b[39m _StreamT:\n\u001b[1;32m--> 853\u001b[0m     \u001b[38;5;28;01mreturn\u001b[39;00m \u001b[38;5;28;43mself\u001b[39;49m\u001b[38;5;241;43m.\u001b[39;49m\u001b[43m_request\u001b[49m\u001b[43m(\u001b[49m\n\u001b[0;32m    854\u001b[0m \u001b[43m        \u001b[49m\u001b[43mcast_to\u001b[49m\u001b[38;5;241;43m=\u001b[39;49m\u001b[43mcast_to\u001b[49m\u001b[43m,\u001b[49m\n\u001b[0;32m    855\u001b[0m \u001b[43m        \u001b[49m\u001b[43moptions\u001b[49m\u001b[38;5;241;43m=\u001b[39;49m\u001b[43moptions\u001b[49m\u001b[43m,\u001b[49m\n\u001b[0;32m    856\u001b[0m \u001b[43m        \u001b[49m\u001b[43mstream\u001b[49m\u001b[38;5;241;43m=\u001b[39;49m\u001b[43mstream\u001b[49m\u001b[43m,\u001b[49m\n\u001b[0;32m    857\u001b[0m \u001b[43m        \u001b[49m\u001b[43mstream_cls\u001b[49m\u001b[38;5;241;43m=\u001b[39;49m\u001b[43mstream_cls\u001b[49m\u001b[43m,\u001b[49m\n\u001b[0;32m    858\u001b[0m \u001b[43m        \u001b[49m\u001b[43mremaining_retries\u001b[49m\u001b[38;5;241;43m=\u001b[39;49m\u001b[43mremaining_retries\u001b[49m\u001b[43m,\u001b[49m\n\u001b[0;32m    859\u001b[0m \u001b[43m    \u001b[49m\u001b[43m)\u001b[49m\n",
      "File \u001b[1;32mc:\\Users\\wesst\\.virtualenvs\\langchain-stuff-DMV5Iwx5\\Lib\\site-packages\\openai\\_base_client.py:930\u001b[0m, in \u001b[0;36mSyncAPIClient._request\u001b[1;34m(self, cast_to, options, remaining_retries, stream, stream_cls)\u001b[0m\n\u001b[0;32m    927\u001b[0m     \u001b[38;5;28;01mif\u001b[39;00m \u001b[38;5;129;01mnot\u001b[39;00m err\u001b[38;5;241m.\u001b[39mresponse\u001b[38;5;241m.\u001b[39mis_closed:\n\u001b[0;32m    928\u001b[0m         err\u001b[38;5;241m.\u001b[39mresponse\u001b[38;5;241m.\u001b[39mread()\n\u001b[1;32m--> 930\u001b[0m     \u001b[38;5;28;01mraise\u001b[39;00m \u001b[38;5;28mself\u001b[39m\u001b[38;5;241m.\u001b[39m_make_status_error_from_response(err\u001b[38;5;241m.\u001b[39mresponse) \u001b[38;5;28;01mfrom\u001b[39;00m \u001b[38;5;28;01mNone\u001b[39;00m\n\u001b[0;32m    932\u001b[0m \u001b[38;5;28;01mreturn\u001b[39;00m \u001b[38;5;28mself\u001b[39m\u001b[38;5;241m.\u001b[39m_process_response(\n\u001b[0;32m    933\u001b[0m     cast_to\u001b[38;5;241m=\u001b[39mcast_to,\n\u001b[0;32m    934\u001b[0m     options\u001b[38;5;241m=\u001b[39moptions,\n\u001b[1;32m   (...)\u001b[0m\n\u001b[0;32m    937\u001b[0m     stream_cls\u001b[38;5;241m=\u001b[39mstream_cls,\n\u001b[0;32m    938\u001b[0m )\n",
      "\u001b[1;31mBadRequestError\u001b[0m: Error code: 400 - {'error': {'message': \"This model's maximum context length is 4097 tokens. However, your messages resulted in 7542 tokens. Please reduce the length of the messages.\", 'type': 'invalid_request_error', 'param': 'messages', 'code': 'context_length_exceeded'}}"
     ]
    }
   ],
   "source": [
    "fun = search_chain.run(prompt_search.format(location='Capitol Hill, Seattle', age=24, activities='Going to bars, hanging with friends, and live music. If weather is good I like to snowboard'))"
   ]
  },
  {
   "cell_type": "code",
   "execution_count": null,
   "metadata": {},
   "outputs": [
    {
     "name": "stdout",
     "output_type": "stream",
     "text": [
      "Here is a list of 10 activities you can do this weekend in Seattle:\n",
      "\n",
      "1. Live Music at The Fireside Room - Free - Within walking distance to shops, restaurants, and bars.\n",
      "2. Play bocce ball in a Beer Hall - Free - Within walking distance to shops, restaurants, and bars.\n",
      "3. Comedy Show at a local venue - Price varies - Within walking distance to shops, restaurants, and bars.\n",
      "4. Explore Seattle's Underground Tunnels - Price varies - Within walking distance to shops, restaurants, and bars.\n",
      "5. Visit Chihuly Garden and Glass - Admission tickets from $37 - 2 miles from Seattle.\n",
      "6. Pike Place Market - Free - 2 miles from Seattle.\n",
      "7. Ski or snowboard at a nearby location - Price varies - Nearby.\n",
      "8. Enjoying your favorite brews with arcade games, mini golf, or bocce ball - Price varies - Within walking distance to shops, restaurants, and bars.\n",
      "9. Marvel at the WildLanterns at Woodland Park Zoo - Price varies - Within walking distance to shops, restaurants, and bars.\n",
      "10. Attend a live music show at various venues - Price varies - Within walking distance to shops, restaurants, and bars.\n"
     ]
    }
   ],
   "source": [
    "print(fun)"
   ]
  },
  {
   "cell_type": "code",
   "execution_count": null,
   "metadata": {},
   "outputs": [],
   "source": []
  }
 ],
 "metadata": {
  "kernelspec": {
   "display_name": "langchain-stuff-DMV5Iwx5",
   "language": "python",
   "name": "python3"
  },
  "language_info": {
   "codemirror_mode": {
    "name": "ipython",
    "version": 3
   },
   "file_extension": ".py",
   "mimetype": "text/x-python",
   "name": "python",
   "nbconvert_exporter": "python",
   "pygments_lexer": "ipython3",
   "version": "3.11.6"
  }
 },
 "nbformat": 4,
 "nbformat_minor": 2
}
