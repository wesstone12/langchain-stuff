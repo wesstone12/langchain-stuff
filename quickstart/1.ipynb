{
 "cells": [
  {
   "cell_type": "code",
   "execution_count": 1,
   "metadata": {},
   "outputs": [],
   "source": [
    "import os \n",
    "api_key = os.environ.get('OPENAI_API_KEY')\n",
    "from langchain import OpenAI"
   ]
  },
  {
   "cell_type": "code",
   "execution_count": 2,
   "metadata": {},
   "outputs": [],
   "source": [
    "llm = OpenAI(temperature=.7)"
   ]
  },
  {
   "cell_type": "code",
   "execution_count": 3,
   "metadata": {},
   "outputs": [
    {
     "data": {
      "text/plain": [
       "'gpt-3.5-turbo-instruct'"
      ]
     },
     "execution_count": 3,
     "metadata": {},
     "output_type": "execute_result"
    }
   ],
   "source": [
    "llm.model_name"
   ]
  },
  {
   "cell_type": "code",
   "execution_count": 4,
   "metadata": {},
   "outputs": [
    {
     "name": "stdout",
     "output_type": "stream",
     "text": [
      "\n",
      "\n",
      "1. San Juan Islands, Washington\n",
      "Located just a short ferry ride from Seattle, the San Juan Islands offer a beautiful escape from the city. With over 400 islands to explore, visitors can enjoy hiking, kayaking, and whale watching, as well as relaxing on the beaches and soaking up the sun.\n",
      "\n",
      "2. Lake Chelan, Washington\n",
      "Lake Chelan is a popular vacation spot for Seattleites looking for some sun. This 50-mile long lake offers plenty of opportunities for water activities, such as boating, fishing, and swimming. There are also numerous wineries and restaurants to enjoy in the area.\n",
      "\n",
      "3. Cannon Beach, Oregon\n",
      "Just a few hours south of Seattle, Cannon Beach is a picturesque coastal town with beautiful beaches and stunning views of Haystack Rock. Visitors can enjoy beachcombing, hiking, and browsing the local art galleries and shops.\n",
      "\n",
      "4. Whidbey Island, Washington\n",
      "Whidbey Island is a scenic island located just a short drive and ferry ride from Seattle. The island offers a variety of outdoor activities, including beachcombing, hiking, and kayaking, as well as charming small towns to explore.\n",
      "\n",
      "5. Pacific Beach, Washington\n",
      "For a more secluded beach getaway, head to Pacific Beach on the Washington\n"
     ]
    }
   ],
   "source": [
    "text = \"Best vacation spots near Seattle to get some sun\"\n",
    "print(llm(text))"
   ]
  },
  {
   "cell_type": "code",
   "execution_count": 5,
   "metadata": {},
   "outputs": [],
   "source": [
    "from langchain.prompts import PromptTemplate"
   ]
  },
  {
   "cell_type": "code",
   "execution_count": 6,
   "metadata": {},
   "outputs": [],
   "source": [
    "prompt = PromptTemplate(\n",
    "    input_variables=['activity'],\n",
    "    template = \"What are 5 vacation destinations near Seattle to go {activity}?\"\n",
    ")"
   ]
  },
  {
   "cell_type": "code",
   "execution_count": 7,
   "metadata": {},
   "outputs": [
    {
     "name": "stdout",
     "output_type": "stream",
     "text": [
      "What are 5 vacation destinations near Seattle to go snowboarding?\n"
     ]
    }
   ],
   "source": [
    "print(prompt.format(activity='snowboarding'))"
   ]
  },
  {
   "cell_type": "code",
   "execution_count": 8,
   "metadata": {},
   "outputs": [
    {
     "name": "stdout",
     "output_type": "stream",
     "text": [
      "\n",
      "\n",
      "1. Mount Baker Ski Area\n",
      "2. Crystal Mountain\n",
      "3. Stevens Pass\n",
      "4. Snoqualmie Pass\n",
      "5. White Pass Ski Area\n"
     ]
    }
   ],
   "source": [
    "print(llm(prompt.format(activity='snowboarding')))"
   ]
  },
  {
   "cell_type": "code",
   "execution_count": 9,
   "metadata": {},
   "outputs": [],
   "source": [
    "from langchain.prompts import PromptTemplate\n",
    "from langchain.llms import OpenAI\n",
    "from langchain.chains import LLMChain\n"
   ]
  },
  {
   "cell_type": "code",
   "execution_count": null,
   "metadata": {},
   "outputs": [
    {
     "name": "stdout",
     "output_type": "stream",
     "text": [
      "\n",
      "\n",
      "1. Olympic National Park: Located on the Olympic Peninsula, this park offers plenty of opportunities for backpacking with its diverse landscapes including rainforests, alpine lakes, and rugged coastlines.\n",
      "\n",
      "2. North Cascades National Park: Known for its remote and rugged terrain, this park is a backpacker's paradise with over 300 miles of trails and stunning mountain views.\n",
      "\n",
      "3. Mount Rainier National Park: Home to the iconic Mount Rainier, this park offers backpackers a variety of trails and backcountry campsites to explore.\n",
      "\n",
      "4. Mount Baker-Snoqualmie National Forest: With over 1,500 miles of trails, this forest offers backpackers a chance to explore the Cascade Mountains and its many lakes, rivers, and waterfalls.\n",
      "\n",
      "5. Mount St. Helens National Volcanic Monument: This unique destination offers backpackers the chance to hike across the barren landscape of a volcano that erupted in 1980, with stunning views of the surrounding mountains and valleys.\n"
     ]
    }
   ],
   "source": [
    "chain = LLMChain(llm=llm, prompt=prompt)\n",
    "print(chain.run('backpacking'))"
   ]
  },
  {
   "cell_type": "markdown",
   "metadata": {},
   "source": [
    "### Agent with tools"
   ]
  },
  {
   "cell_type": "code",
   "execution_count": null,
   "metadata": {},
   "outputs": [],
   "source": [
    "from langchain.agents import load_tools, initialize_agent"
   ]
  },
  {
   "cell_type": "code",
   "execution_count": null,
   "metadata": {},
   "outputs": [],
   "source": [
    "tools = load_tools(['serpapi','llm-math'], llm=llm)\n"
   ]
  },
  {
   "cell_type": "code",
   "execution_count": null,
   "metadata": {},
   "outputs": [],
   "source": [
    "#initiliaze agent\n",
    "#1. load tools\n",
    "#2. load llm\n",
    "#3. type of agent\n",
    "\n",
    "#verbose = True\n",
    "#prints out what the agent is doing (mini steps)\n",
    "\n",
    "agent = initialize_agent(tools, llm, agent = 'zero-shot-react-description', verbose = True)\n"
   ]
  },
  {
   "cell_type": "code",
   "execution_count": null,
   "metadata": {},
   "outputs": [
    {
     "name": "stdout",
     "output_type": "stream",
     "text": [
      "\n",
      "\n",
      "\u001b[1m> Entering new AgentExecutor chain...\u001b[0m\n",
      "\u001b[32;1m\u001b[1;3m I should search for the current president of the United States.\n",
      "Action: Search\n",
      "Action Input: \"current president of the United States\"\u001b[0m\n",
      "Observation: \u001b[36;1m\u001b[1;3mJoe Biden\u001b[0m\n",
      "Thought:\u001b[32;1m\u001b[1;3m I should use a calculator to find the largest prime number that is smaller than their age.\n",
      "Action: Calculator\n",
      "Action Input: 78\u001b[0m\n",
      "Observation: \u001b[33;1m\u001b[1;3mAnswer: 78\u001b[0m\n",
      "Thought:\u001b[32;1m\u001b[1;3m I should use a calculator to find the largest prime number that is smaller than 78.\n",
      "Action: Calculator\n",
      "Action Input: 77\u001b[0m\n",
      "Observation: \u001b[33;1m\u001b[1;3mAnswer: 77\u001b[0m\n",
      "Thought:\u001b[32;1m\u001b[1;3m I should use a calculator to find the largest prime number that is smaller than 77.\n",
      "Action: Calculator\n",
      "Action Input: 76\u001b[0m\n",
      "Observation: \u001b[33;1m\u001b[1;3mAnswer: 76\u001b[0m\n",
      "Thought:\u001b[32;1m\u001b[1;3m I should use a calculator to find the largest prime number that is smaller than 76.\n",
      "Action: Calculator\n",
      "Action Input: 75\u001b[0m\n",
      "Observation: \u001b[33;1m\u001b[1;3mAnswer: 75\u001b[0m\n",
      "Thought:\u001b[32;1m\u001b[1;3m I should use a calculator to find the largest prime number that is smaller than 75.\n",
      "Action: Calculator\n",
      "Action Input: 74\u001b[0m\n",
      "Observation: \u001b[33;1m\u001b[1;3mAnswer: 74\u001b[0m\n",
      "Thought:\u001b[32;1m\u001b[1;3m I should use a calculator to find the largest prime number that is smaller than 74.\n",
      "Action: Calculator\n",
      "Action Input: 73\u001b[0m\n",
      "Observation: \u001b[33;1m\u001b[1;3mAnswer: 73\u001b[0m\n",
      "Thought:\u001b[32;1m\u001b[1;3m I should use a calculator to find the largest prime number that is smaller than 73.\n",
      "Action: Calculator\n",
      "Action Input: 72\u001b[0m\n",
      "Observation: \u001b[33;1m\u001b[1;3mAnswer: 72\u001b[0m\n",
      "Thought:\u001b[32;1m\u001b[1;3m I should use a calculator to find the largest prime number that is smaller than 72.\n",
      "Action: Calculator\n",
      "Action Input: 71\u001b[0m\n",
      "Observation: \u001b[33;1m\u001b[1;3mAnswer: 71\u001b[0m\n",
      "Thought:\u001b[32;1m\u001b[1;3m I now know the final answer.\n",
      "Final Answer: The largest prime number that is smaller than Joe Biden's age (78) is 71.\u001b[0m\n",
      "\n",
      "\u001b[1m> Finished chain.\u001b[0m\n"
     ]
    },
    {
     "data": {
      "text/plain": [
       "\"The largest prime number that is smaller than Joe Biden's age (78) is 71.\""
      ]
     },
     "execution_count": 38,
     "metadata": {},
     "output_type": "execute_result"
    }
   ],
   "source": [
    "agent.run(\"Who is the current president of the United States? What is the largest prime number that is smaller than their age? \")"
   ]
  },
  {
   "cell_type": "markdown",
   "metadata": {},
   "source": [
    "memory\n"
   ]
  },
  {
   "cell_type": "code",
   "execution_count": null,
   "metadata": {},
   "outputs": [],
   "source": [
    "from langchain import ConversationChain\n",
    "coversation = ConversationChain(llm=llm, verbose   = True)\n"
   ]
  },
  {
   "cell_type": "code",
   "execution_count": null,
   "metadata": {},
   "outputs": [
    {
     "name": "stdout",
     "output_type": "stream",
     "text": [
      "\n",
      "\n",
      "\u001b[1m> Entering new ConversationChain chain...\u001b[0m\n",
      "Prompt after formatting:\n",
      "\u001b[32;1m\u001b[1;3mThe following is a friendly conversation between a human and an AI. The AI is talkative and provides lots of specific details from its context. If the AI does not know the answer to a question, it truthfully says it does not know.\n",
      "\n",
      "Current conversation:\n",
      "\n",
      "Human: Hi there\n",
      "AI:\u001b[0m\n",
      "\n",
      "\u001b[1m> Finished chain.\u001b[0m\n"
     ]
    },
    {
     "data": {
      "text/plain": [
       "\" Hello! It's so nice to meet you. My name is AI and I am an artificial intelligence designed to assist and communicate with humans. How can I help you today?\""
      ]
     },
     "execution_count": 40,
     "metadata": {},
     "output_type": "execute_result"
    }
   ],
   "source": [
    "coversation.predict( input = \"Hi there\")"
   ]
  },
  {
   "cell_type": "code",
   "execution_count": null,
   "metadata": {},
   "outputs": [
    {
     "name": "stdout",
     "output_type": "stream",
     "text": [
      "\n",
      "\n",
      "\u001b[1m> Entering new ConversationChain chain...\u001b[0m\n",
      "Prompt after formatting:\n",
      "\u001b[32;1m\u001b[1;3mThe following is a friendly conversation between a human and an AI. The AI is talkative and provides lots of specific details from its context. If the AI does not know the answer to a question, it truthfully says it does not know.\n",
      "\n",
      "Current conversation:\n",
      "Human: Hi there\n",
      "AI:  Hello! It's so nice to meet you. My name is AI and I am an artificial intelligence designed to assist and communicate with humans. How can I help you today?\n",
      "Human: I'm doin well, just talking to an AI\n",
      "AI:\u001b[0m\n",
      "\n",
      "\u001b[1m> Finished chain.\u001b[0m\n"
     ]
    },
    {
     "data": {
      "text/plain": [
       "\" That's great to hear! I am constantly learning and evolving to better understand and assist humans. Is there anything specific you would like to talk about or ask me?\""
      ]
     },
     "execution_count": 41,
     "metadata": {},
     "output_type": "execute_result"
    }
   ],
   "source": [
    "coversation.predict( input = \"I'm doin well, just talking to an AI\")"
   ]
  },
  {
   "cell_type": "code",
   "execution_count": null,
   "metadata": {},
   "outputs": [
    {
     "name": "stdout",
     "output_type": "stream",
     "text": [
      "\n",
      "\n",
      "\u001b[1m> Entering new ConversationChain chain...\u001b[0m\n",
      "Prompt after formatting:\n",
      "\u001b[32;1m\u001b[1;3mThe following is a friendly conversation between a human and an AI. The AI is talkative and provides lots of specific details from its context. If the AI does not know the answer to a question, it truthfully says it does not know.\n",
      "\n",
      "Current conversation:\n",
      "Human: Hi there\n",
      "AI:  Hello! It's so nice to meet you. My name is AI and I am an artificial intelligence designed to assist and communicate with humans. How can I help you today?\n",
      "Human: I'm doin well, just talking to an AI\n",
      "AI:  That's great to hear! I am constantly learning and evolving to better understand and assist humans. Is there anything specific you would like to talk about or ask me?\n",
      "Human: what was the first thing i said?\n",
      "AI:\u001b[0m\n",
      "\n",
      "\u001b[1m> Finished chain.\u001b[0m\n"
     ]
    },
    {
     "data": {
      "text/plain": [
       "' The first thing you said was \"Hi there.\" Is there anything else you would like to know about our conversation history?'"
      ]
     },
     "execution_count": 42,
     "metadata": {},
     "output_type": "execute_result"
    }
   ],
   "source": [
    "coversation.predict( input = \"what was the first thing i said?\")"
   ]
  },
  {
   "cell_type": "markdown",
   "metadata": {},
   "source": [
    "### idea to see what is going on this weekend"
   ]
  },
  {
   "cell_type": "code",
   "execution_count": null,
   "metadata": {},
   "outputs": [],
   "source": [
    "tools_search = load_tools(['serpapi'], llm=llm)\n",
    "prompt_search = PromptTemplate(template= '''\n",
    "I live in {location} and I am looking for what to do this weekend.\n",
    "I am {age} years old and I like {activities}.\n",
    "\n",
    "                               \n",
    "*IMPORTANT*:\n",
    " The actity needs to be in 2 mile radius of {location} and shouldn't be too expensive.\n",
    "\n",
    "*TASK*:\n",
    "Make a list of 10 activities that I can do this weekend. \n",
    "Include the name of the activity, the price, and the distance from {location}.                               \n",
    "\n",
    "DO NOT OMIT ANYTHING FOR BREVITY                                                            \n",
    "''', \n",
    "input_variables=['location', 'age', 'activities'])\n",
    "\n",
    "from langchain.chat_models import ChatOpenAI\n",
    "llm = ChatOpenAI()\n",
    "\n",
    "search_chain = initialize_agent(tools_search, llm, agent = 'zero-shot-react-description', verbose = True, handle_parsing_errors=True)"
   ]
  },
  {
   "cell_type": "code",
   "execution_count": null,
   "metadata": {},
   "outputs": [
    {
     "name": "stdout",
     "output_type": "stream",
     "text": [
      "\n",
      "I live in Capitol Hill, Seattle and I am looking for what to do this weekend.\n",
      "I am 24 years old and I like Ging to bars, hanging with friends, and live music.\n",
      "\n",
      "                               \n",
      "*IMPORTANT*:\n",
      " The actity needs to be in 2 mile radius of Capitol Hill, Seattle and shouldn't be too expensive.\n",
      "\n",
      "*TASK*:\n",
      "Make a list of 10 activities that I can do this weekend. \n",
      "Include the name of the activity, the price, and the distance from Capitol Hill, Seattle.                               \n",
      "\n",
      "DO NOT OMIT ANYTHING FOR BREVITY                                                            \n",
      "\n"
     ]
    }
   ],
   "source": [
    "print(prompt_search.format(location='Capitol Hill, Seattle', age=24, activities='Ging to bars, hanging with friends, and live music'))"
   ]
  },
  {
   "cell_type": "code",
   "execution_count": null,
   "metadata": {},
   "outputs": [
    {
     "name": "stdout",
     "output_type": "stream",
     "text": [
      "\n",
      "\n",
      "\u001b[1m> Entering new AgentExecutor chain...\u001b[0m\n",
      "\u001b[32;1m\u001b[1;3mI need to find a list of activities in Capitol Hill, Seattle that are within a 2-mile radius and fit the criteria of being affordable and suitable for a 24-year-old who enjoys bars, hanging with friends, live music, and snowboarding if the weather is good.\n",
      "Action: Search\n",
      "Action Input: \"activities in Capitol Hill, Seattle within 2 mile radius\"\u001b[0m\n",
      "Observation: \u001b[36;1m\u001b[1;3m[{'title': 'Gas Works Park', 'link': 'https://www.google.com/search?sca_esv=1049291dbe63dbb7&q=Gas+Works+Park&stick=H4sIAAAAAAAAAONgFuLQz9U3SLHMKlLiBLGMLYorjbUUs5Ot9HPykxNLMvPz4AyrxJKSosRkELN4ESufe2KxQnh-UXaxQkBiUTYA-APTsUsAAAA&sa=X&ved=2ahUKEwj__qb90saDAxViSzABHbv7B0wQ2coHegQITRAB', 'description': 'Park', 'rating': 4.7, 'reviews': 10000, 'price': 'Free', 'thumbnail': 'https://serpapi.com/searches/65982b9ff0adfbc7296889e7/images/dbb7a425869939499a9d89a38f59322cd9304a6ed994d37775fd6fb9c944fe81.jpeg'}, {'title': \"Molly Moon's Homemade Ice Cream\", 'link': 'https://www.google.com/search?sca_esv=1049291dbe63dbb7&q=Molly+Moon%27s+Homemade+Ice+Cream&stick=H4sIAAAAAAAAAONgFuLQz9U3SLHMKlLi1k_XNyxJSTZIyknRUsxOttLPyU9OLMnMz4MzrBJLSooSk0HM4kWs8r75OTmVCr75-XnqxQoe-bmpuYkpqQqeyakKzkWpibkAAszZY14AAAA&sa=X&ved=2ahUKEwj__qb90saDAxViSzABHbv7B0wQ2coHegQIThAB', 'description': 'Ice cream shop', 'rating': 4.6, 'reviews': 2600.0, 'thumbnail': 'https://serpapi.com/searches/65982b9ff0adfbc7296889e7/images/dbb7a425869939499a9d89a38f59322ce3b228bd971c7b9c86e6a9320e2821db.jpeg'}, {'title': 'Seattle Public Library - Central Library', 'link': 'https://www.google.com/search?sca_esv=1049291dbe63dbb7&q=Seattle+Public+Library+-+Central+Library&stick=H4sIAAAAAAAAAONgFuLQz9U3SLHMKlLiBLGMDSqKLLQUs5Ot9HPykxNLMvPz4AyrxJKSosRkELN4EatGcCqQn5OqEFCalJOZrOCTmVSUWFSpoKvgnJoHVJcDEwEAxExYUmUAAAA&sa=X&ved=2ahUKEwj__qb90saDAxViSzABHbv7B0wQ2coHegQITxAB', 'description': 'Public library', 'rating': 4.7, 'reviews': 1400.0, 'thumbnail': 'https://serpapi.com/searches/65982b9ff0adfbc7296889e7/images/dbb7a425869939499a9d89a38f59322cce5acbf42072804640215246a8b4aec2.jpeg'}, {'title': 'Spinasse', 'link': 'https://www.google.com/search?sca_esv=1049291dbe63dbb7&q=Spinasse&stick=H4sIAAAAAAAAAONgFuLQz9U3SLHMKlLi1k_XNywpqkhJySnRUsxOttLPyU9OLMnMz4MzrBJLSooSk0HM4kWsHMEFmXmJxcWpAFLWF-9HAAAA&sa=X&ved=2ahUKEwj__qb90saDAxViSzABHbv7B0wQ2coHegQIZhAB', 'description': 'Italian restaurant', 'rating': 4.6, 'reviews': 1200.0, 'thumbnail': 'https://lh4.googleusercontent.com/proxy/2rM4Z2_BHuOk-NLKkLa8oEtohMWbORstTN3yuYjIpvFLpdAAQzFWM_UihkYUI9yMYVl3VJ3SgqQU58gAMEMP68xFoDiE-as240MHM7r30G_uSu9ncczUbNGquwpCC32UP0ymHCwXWcKP9ExwBYB2a1S_hl0Hk3ZmUjF-DwP5lgwb=w204-h114-n-k-no'}, {'title': 'Plum Bistro', 'link': 'https://www.google.com/search?sca_esv=1049291dbe63dbb7&q=Plum+Bistro&stick=H4sIAAAAAAAAAONgFuLQz9U3SLHMKlLi1k_XNyxJT86Jz03RUsxOttLPyU9OLMnMz4MzrBJLSooSk0HM4kWs3AE5pbkKTpnFJUX5AGcCj1hKAAAA&sa=X&ved=2ahUKEwj__qb90saDAxViSzABHbv7B0wQ2coHegQIZxAB', 'description': 'Vegan restaurant', 'rating': 4.4, 'reviews': 1800.0, 'thumbnail': 'https://lh5.googleusercontent.com/p/AF1QipNHWY8FoLZsTXgcJBj5zyfnCyCRjM-Fd3RXnnIm=w204-h114-n-k-no'}, {'title': 'Museum of History & Industry (MOHAI)', 'link': 'https://www.google.com/search?sca_esv=1049291dbe63dbb7&q=Museum+of+History+%26+Industry+(MOHAI)&stick=H4sIAAAAAAAAAONgFuLQz9U3SLHMKlLiBLGMTQsKirUUs5Ot9HPykxNLMvPz4AyrxJKSosRkELN4EauKb2lxammuQn6agkdmcUl-UaWCmoJnXkppcQmQqeHr7-HoqQkAUAxSnGEAAAA&sa=X&ved=2ahUKEwj__qb90saDAxViSzABHbv7B0wQ2coHegQIaxAB', 'description': 'History museum', 'rating': 4.6, 'reviews': 1800.0, 'price': '$22.00', 'extracted_price': 22.0, 'thumbnail': 'https://lh5.googleusercontent.com/p/AF1QipNOsmy_9Aa9xQBX8QiUXp1Y3nnjiNVrB_dV-ke4=w204-h114-n-k-no'}, {'title': 'Argosy Cruises - Seattle Waterfront', 'link': 'https://www.google.com/search?sca_esv=1049291dbe63dbb7&q=Argosy+Cruises+-+Seattle+Waterfront&stick=H4sIAAAAAAAAAONgFuLQz9U3SLHMKlLi1k_XNyzJMsw1SzHVUsxOttLPyU9OLMnMz4MzrBJLSooSk0HM4kWsyo5F6fnFlQrORaWZxanFCroKwalABTmpCuGJJalFaUX5eSUAKv4C62IAAAA&sa=X&ved=2ahUKEwj__qb90saDAxViSzABHbv7B0wQ2coHegQIYhAB', 'description': 'Cruise agency', 'rating': 4.6, 'reviews': 6300.0, 'price': '$45.34', 'extracted_price': 45.34, 'thumbnail': 'https://lh5.googleusercontent.com/p/AF1QipMxxag4H_qyvU5bF2KSHxw-TH1sqUcBdUZcP5dL=w204-h114-n-k-no'}, {'title': 'Waterfront Park', 'link': 'https://www.google.com/search?sca_esv=1049291dbe63dbb7&q=Waterfront+Park&stick=H4sIAAAAAAAAAONgFuLQz9U3SLHMKlLiArFMCg0rsoq1FLOTrfRz8pMTSzLz8-AMq8SSkqLEZBCzeBErf3hiSWpRWlF-XolCQGJRNgDyp5TZTQAAAA&sa=X&ved=2ahUKEwj__qb90saDAxViSzABHbv7B0wQ2coHegQIXhAB', 'description': 'Park', 'rating': 4.5, 'reviews': 2400.0, 'price': 'Free', 'thumbnail': 'https://lh5.googleusercontent.com/p/AF1QipOC79rjVmg8zW2K9GS_caiPG_JEfSJE0cjP8GhK=w204-h114-n-k-no'}, {'title': 'NEKO Cat Cafe Seattle', 'link': 'https://www.google.com/search?sca_esv=1049291dbe63dbb7&q=NEKO+Cat+Cafe+Seattle&stick=H4sIAAAAAAAAAONgFuLQz9U3SLHMKlLi1U_XNzRMtzBMTykuSdZSzE620s_JT04syczPgzOsEktKihKTQcziRayifq7e_grOiSVAnJaqEJwKlM1JBQDY2JdcVgAAAA&sa=X&ved=2ahUKEwj__qb90saDAxViSzABHbv7B0wQ2coHegQIXxAB', 'description': 'Cafe', 'rating': 4.8, 'reviews': 2600.0, 'thumbnail': 'https://lh5.googleusercontent.com/p/AF1QipOfhLzHNP5xOo_apKllBbLEo_CSPOim4azIUx17=w204-h114-n-k-no'}, {'title': 'Redhook Brewlab', 'link': 'https://www.google.com/search?sca_esv=1049291dbe63dbb7&q=Redhook+Brewlab&stick=H4sIAAAAAAAAAONgFuLQz9U3SLHMKlLi1U_XNzRMq7BMykrKMdFSzE620s_JT04syczPgzOsEktKihKTQcziRaz8QakpGfn52QpORanlOYlJACeT7b9QAAAA&sa=X&ved=2ahUKEwj__qb90saDAxViSzABHbv7B0wQ2coHegQIZRAB', 'description': 'Bar', 'rating': 4.3, 'reviews': 505, 'thumbnail': 'https://lh5.googleusercontent.com/p/AF1QipOMvqnfGFOE96ZgOWtzBGaFEr00H3eqm35zh-iB=w204-h114-n-k-no'}, {'title': 'Paramount Theatre', 'link': 'https://www.google.com/search?sca_esv=1049291dbe63dbb7&q=Paramount+Theatre&stick=H4sIAAAAAAAAAONgFuLQz9U3SLHMKlLiBLOMDNMttRSzk630c_KTE0sy8_PgDKvEkpKixGQQs3gRq2BAYlFibn5pXolCSEZqYklRKgDLBD-yTgAAAA&sa=X&ved=2ahUKEwj__qb90saDAxViSzABHbv7B0wQ2coHegQIYBAB', 'description': 'Performing arts theater', 'rating': 4.7, 'reviews': 8300.0, 'thumbnail': 'https://lh5.googleusercontent.com/p/AF1QipMKfGRA3zr1_6iHy4WjwIc2T11Ski2a1y_huJjB=w204-h114-n-k-no'}, {'title': 'Nue', 'link': 'https://www.google.com/search?sca_esv=1049291dbe63dbb7&q=Nue&stick=H4sIAAAAAAAAAONgFuLQz9U3SLHMKlLi1U_XNzRMMkspNs7OKNZSzE620s_JT04syczPgzOsEktKihKTQcziRazMfqWpAJ6z3r9EAAAA&sa=X&ved=2ahUKEwj__qb90saDAxViSzABHbv7B0wQ2coHegQIXRAB', 'description': 'Eclectic restaurant', 'rating': 4.4, 'reviews': 1900.0, 'thumbnail': 'https://lh5.googleusercontent.com/p/AF1QipOP--uIHNlYmmyTYCrlBHOyBp25sOwzaCjjNPBx=w204-h114-n-k-no'}, {'title': 'Starbucks Reserve Roastery', 'link': 'https://www.google.com/search?sca_esv=1049291dbe63dbb7&q=Starbucks+Reserve+Roastery&stick=H4sIAAAAAAAAAONgFuLQz9U3SLHMKlLi1U_XNzRMMsuozK4sStZSzE620s_JT04syczPgzOsEktKihKTQcziRaxSwSWJRUmlydnFCkGpxalFZakKQfmJxSWpRZUAiqFGi1sAAAA&sa=X&ved=2ahUKEwj__qb90saDAxViSzABHbv7B0wQ2coHegQIYRAB', 'description': 'Coffee shop', 'rating': 4.6, 'reviews': 16000, 'thumbnail': 'https://lh5.googleusercontent.com/p/AF1QipPflYqovuZubw6lCPJz0YA149_3TDj1bl0tCBc=w204-h114-n-k-no'}, {'title': 'Volunteer Park Cafe & Pantry', 'link': 'https://www.google.com/search?sca_esv=1049291dbe63dbb7&q=Volunteer+Park+Cafe+%26+Pantry&stick=H4sIAAAAAAAAAONgFuLQz9U3SLHMKlLi1U_XNzQsMDBLKjNLSdFSzE620s_JT04syczPgzOsEktKihKTQcziRawyYfk5pXklqalFCgGJRdkKzolpqQpqQHZeSVElADeO2gtdAAAA&sa=X&ved=2ahUKEwj__qb90saDAxViSzABHbv7B0wQ2coHegQIYxAB', 'description': 'Cafe', 'rating': 4.5, 'reviews': 877, 'thumbnail': 'https://lh5.googleusercontent.com/p/AF1QipPs-SBfrWJVPZysc38jkCy4bFL5fjscoCjkmL_P=w204-h114-n-k-no'}, {'title': 'Tavern Law', 'link': 'https://www.google.com/search?sca_esv=1049291dbe63dbb7&q=Tavern+Law&stick=H4sIAAAAAAAAAONgFuLQz9U3SLHMKlLi0U_XNzQyM6xMyUi30FLMTrbSz8lPTizJzM-DM6wSS0qKEpNBzOJFrFwhiWWpRXkKPonlAG3VeVFKAAAA&sa=X&ved=2ahUKEwj__qb90saDAxViSzABHbv7B0wQ2coHegQIXBAB', 'description': 'Bar', 'rating': 4.4, 'reviews': 977, 'thumbnail': 'https://lh5.googleusercontent.com/p/AF1QipO4zwTxDbNTIjv9f9cXsnDdShjvFDa0N2q2YBuR=w204-h114-n-k-no'}]\u001b[0m\n",
      "Thought:"
     ]
    }
   ],
   "source": [
    "fun = search_chain.run(prompt_search.format(location='Capitol Hill, Seattle', age=24, activities='Going to bars, hanging with friends, and live music. If weather is good I like to snowboard'))"
   ]
  },
  {
   "cell_type": "code",
   "execution_count": null,
   "metadata": {},
   "outputs": [
    {
     "name": "stdout",
     "output_type": "stream",
     "text": [
      "Here is a list of 10 activities you can do this weekend in Seattle:\n",
      "\n",
      "1. Live Music at The Fireside Room - Free - Within walking distance to shops, restaurants, and bars.\n",
      "2. Play bocce ball in a Beer Hall - Free - Within walking distance to shops, restaurants, and bars.\n",
      "3. Comedy Show at a local venue - Price varies - Within walking distance to shops, restaurants, and bars.\n",
      "4. Explore Seattle's Underground Tunnels - Price varies - Within walking distance to shops, restaurants, and bars.\n",
      "5. Visit Chihuly Garden and Glass - Admission tickets from $37 - 2 miles from Seattle.\n",
      "6. Pike Place Market - Free - 2 miles from Seattle.\n",
      "7. Ski or snowboard at a nearby location - Price varies - Nearby.\n",
      "8. Enjoying your favorite brews with arcade games, mini golf, or bocce ball - Price varies - Within walking distance to shops, restaurants, and bars.\n",
      "9. Marvel at the WildLanterns at Woodland Park Zoo - Price varies - Within walking distance to shops, restaurants, and bars.\n",
      "10. Attend a live music show at various venues - Price varies - Within walking distance to shops, restaurants, and bars.\n"
     ]
    }
   ],
   "source": [
    "print(fun)"
   ]
  },
  {
   "cell_type": "code",
   "execution_count": null,
   "metadata": {},
   "outputs": [],
   "source": []
  }
 ],
 "metadata": {
  "kernelspec": {
   "display_name": "langchain-stuff-DMV5Iwx5",
   "language": "python",
   "name": "python3"
  },
  "language_info": {
   "codemirror_mode": {
    "name": "ipython",
    "version": 3
   },
   "file_extension": ".py",
   "mimetype": "text/x-python",
   "name": "python",
   "nbconvert_exporter": "python",
   "pygments_lexer": "ipython3",
   "version": "3.11.6"
  }
 },
 "nbformat": 4,
 "nbformat_minor": 2
}
