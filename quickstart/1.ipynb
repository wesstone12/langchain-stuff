{
 "cells": [
  {
   "cell_type": "code",
   "execution_count": 1,
   "metadata": {},
   "outputs": [],
   "source": [
    "import os \n",
    "api_key = os.environ.get('OPENAI_API_KEY')\n",
    "from langchain import OpenAI"
   ]
  },
  {
   "cell_type": "code",
   "execution_count": 2,
   "metadata": {},
   "outputs": [],
   "source": [
    "llm = OpenAI(temperature=.7)"
   ]
  },
  {
   "cell_type": "code",
   "execution_count": 3,
   "metadata": {},
   "outputs": [
    {
     "data": {
      "text/plain": [
       "'gpt-3.5-turbo-instruct'"
      ]
     },
     "execution_count": 3,
     "metadata": {},
     "output_type": "execute_result"
    }
   ],
   "source": [
    "llm.model_name"
   ]
  },
  {
   "cell_type": "code",
   "execution_count": 4,
   "metadata": {},
   "outputs": [
    {
     "name": "stdout",
     "output_type": "stream",
     "text": [
      "\n",
      "\n",
      "1. San Juan Islands\n",
      "The San Juan Islands, located just off the coast of Washington, offer a picturesque and sunny vacation spot near Seattle. With over 300 days of sunshine per year, the islands are perfect for outdoor activities such as hiking, biking, kayaking, and whale watching. The charming island towns also offer a variety of quaint shops, galleries, and restaurants to explore.\n",
      "\n",
      "2. Leavenworth\n",
      "Nestled in the Cascade Mountains, Leavenworth is a popular destination for outdoor enthusiasts and those looking for a taste of Bavaria. The town's sunny weather and scenic surroundings make it the perfect spot for activities such as hiking, biking, river rafting, and wine tasting. It also hosts a variety of festivals and events throughout the year, including a famous Oktoberfest celebration.\n",
      "\n",
      "3. Chelan\n",
      "Located on the shores of Lake Chelan, this small town boasts over 300 days of sunshine per year. Visitors can enjoy swimming, boating, and other water activities on the lake, as well as hiking, golfing, and wine tasting in the surrounding area. Chelan is also home to several wineries and orchards, making it a great spot for a relaxing and sunny getaway.\n",
      "\n",
      "4. Olympic Peninsula\n",
      "The Olympic Peninsula is a\n"
     ]
    }
   ],
   "source": [
    "text = \"Best vacation spots near Seattle to get some sun\"\n",
    "print(llm(text))"
   ]
  },
  {
   "cell_type": "code",
   "execution_count": 5,
   "metadata": {},
   "outputs": [],
   "source": [
    "from langchain.prompts import PromptTemplate"
   ]
  },
  {
   "cell_type": "code",
   "execution_count": 6,
   "metadata": {},
   "outputs": [],
   "source": [
    "prompt = PromptTemplate(\n",
    "    input_variables=['activity'],\n",
    "    template = \"What are 5 vacation destinations near Seattle to go {activity}?\"\n",
    ")"
   ]
  },
  {
   "cell_type": "code",
   "execution_count": 7,
   "metadata": {},
   "outputs": [
    {
     "name": "stdout",
     "output_type": "stream",
     "text": [
      "What are 5 vacation destinations near Seattle to go snowboarding?\n"
     ]
    }
   ],
   "source": [
    "print(prompt.format(activity='snowboarding'))"
   ]
  },
  {
   "cell_type": "code",
   "execution_count": 8,
   "metadata": {},
   "outputs": [
    {
     "name": "stdout",
     "output_type": "stream",
     "text": [
      "\n",
      "\n",
      "1. Crystal Mountain Ski Resort: Located about 80 miles southeast of Seattle, this popular ski resort offers over 2,600 acres of skiable terrain and stunning views of Mount Rainier.\n",
      "\n",
      "2. Stevens Pass Ski Resort: Located about 80 miles northeast of Seattle, this resort boasts over 1,000 acres of skiable terrain and receives an average of 460 inches of snow per year.\n",
      "\n",
      "3. Snoqualmie Pass Ski Area: Located just 50 miles east of Seattle, this ski area features four different ski resorts with a variety of terrain for all levels of snowboarders.\n",
      "\n",
      "4. Mount Baker Ski Area: Located about 140 miles north of Seattle, this ski area is known for its deep powder and challenging terrain, making it a favorite among experienced snowboarders.\n",
      "\n",
      "5. Whistler Blackcomb: Located about 230 miles north of Seattle in British Columbia, Canada, this world-renowned ski resort offers over 8,000 acres of skiable terrain and is consistently ranked as one of the top ski destinations in the world. \n"
     ]
    }
   ],
   "source": [
    "print(llm(prompt.format(activity='snowboarding')))"
   ]
  },
  {
   "cell_type": "code",
   "execution_count": 9,
   "metadata": {},
   "outputs": [],
   "source": [
    "from langchain.prompts import PromptTemplate\n",
    "from langchain.llms import OpenAI\n",
    "from langchain.chains import LLMChain\n"
   ]
  },
  {
   "cell_type": "code",
   "execution_count": 10,
   "metadata": {},
   "outputs": [
    {
     "name": "stdout",
     "output_type": "stream",
     "text": [
      "\n",
      "\n",
      "1. Olympic National Park: Located on the Olympic Peninsula, this park offers a variety of backpacking trails through lush rainforests, rugged coastlines, and alpine meadows.\n",
      "\n",
      "2. North Cascades National Park: Known for its stunning mountain scenery and abundant wildlife, this park offers numerous backpacking trails, including the popular Pacific Crest Trail.\n",
      "\n",
      "3. Mount Rainier National Park: Home to the iconic Mount Rainier, this park offers a variety of backpacking trails through subalpine meadows, glaciers, and forests.\n",
      "\n",
      "4. Mount Baker-Snoqualmie National Forest: This expansive forest offers backpacking opportunities through old-growth forests, alpine lakes, and rugged peaks, including the popular Wonderland Trail.\n",
      "\n",
      "5. Mount St. Helens: This active volcano offers backpacking opportunities through its surrounding wilderness, including the Loowit Trail, which circles the volcano and offers stunning views of the crater.\n"
     ]
    }
   ],
   "source": [
    "chain = LLMChain(llm=llm, prompt=prompt)\n",
    "print(chain.run('backpacking'))"
   ]
  },
  {
   "cell_type": "markdown",
   "metadata": {},
   "source": [
    "### Agent with tools"
   ]
  },
  {
   "cell_type": "code",
   "execution_count": 17,
   "metadata": {},
   "outputs": [],
   "source": [
    "from langchain.agents import load_tools, initialize_agent"
   ]
  },
  {
   "cell_type": "code",
   "execution_count": 16,
   "metadata": {},
   "outputs": [],
   "source": [
    "tools = load_tools(['serpapi','llm-math'], llm=llm)\n"
   ]
  },
  {
   "cell_type": "code",
   "execution_count": 18,
   "metadata": {},
   "outputs": [],
   "source": [
    "#initiliaze agent\n",
    "#1. load tools\n",
    "#2. load llm\n",
    "#3. type of agent\n",
    "\n",
    "#verbose = True\n",
    "#prints out what the agent is doing (mini steps)\n",
    "\n",
    "agent = initialize_agent(tools, llm, agent = 'zero-shot-react-description', verbose = True)\n"
   ]
  },
  {
   "cell_type": "code",
   "execution_count": 19,
   "metadata": {},
   "outputs": [
    {
     "name": "stdout",
     "output_type": "stream",
     "text": [
      "\n",
      "\n",
      "\u001b[1m> Entering new AgentExecutor chain...\u001b[0m\n",
      "\u001b[32;1m\u001b[1;3m I should search for the current president of the United States first, and then use a calculator to find the largest prime number.\n",
      "Action: Search\n",
      "Action Input: \"current president of the United States\"\u001b[0m\n",
      "Observation: \u001b[36;1m\u001b[1;3mJoe Biden\u001b[0m\n",
      "Thought:\u001b[32;1m\u001b[1;3m Now that I know the current president, I can use a calculator to find the largest prime number.\n",
      "Action: Calculator\n",
      "Action Input: 78\u001b[0m\n",
      "Observation: \u001b[33;1m\u001b[1;3mAnswer: 78\u001b[0m\n",
      "Thought:\u001b[32;1m\u001b[1;3m I now know the final answer.\n",
      "Final Answer: The largest prime number smaller than Joe Biden's age is 78.\u001b[0m\n",
      "\n",
      "\u001b[1m> Finished chain.\u001b[0m\n"
     ]
    },
    {
     "data": {
      "text/plain": [
       "\"The largest prime number smaller than Joe Biden's age is 78.\""
      ]
     },
     "execution_count": 19,
     "metadata": {},
     "output_type": "execute_result"
    }
   ],
   "source": [
    "agent.run(\"Who is the current president of the United States? What is the largest prime number that is smaller than their age? \")"
   ]
  },
  {
   "cell_type": "markdown",
   "metadata": {},
   "source": [
    "memory\n"
   ]
  },
  {
   "cell_type": "code",
   "execution_count": 20,
   "metadata": {},
   "outputs": [],
   "source": [
    "from langchain import ConversationChain\n",
    "coversation = ConversationChain(llm=llm, verbose   = True)\n"
   ]
  },
  {
   "cell_type": "code",
   "execution_count": 22,
   "metadata": {},
   "outputs": [
    {
     "name": "stdout",
     "output_type": "stream",
     "text": [
      "\n",
      "\n",
      "\u001b[1m> Entering new ConversationChain chain...\u001b[0m\n",
      "Prompt after formatting:\n",
      "\u001b[32;1m\u001b[1;3mThe following is a friendly conversation between a human and an AI. The AI is talkative and provides lots of specific details from its context. If the AI does not know the answer to a question, it truthfully says it does not know.\n",
      "\n",
      "Current conversation:\n",
      "\n",
      "Human: Hi there\n",
      "AI:\u001b[0m\n",
      "\n",
      "\u001b[1m> Finished chain.\u001b[0m\n"
     ]
    },
    {
     "data": {
      "text/plain": [
       "\" Hello! It's nice to meet you. I am an AI programmed to respond to your questions and provide information. How can I assist you today?\""
      ]
     },
     "execution_count": 22,
     "metadata": {},
     "output_type": "execute_result"
    }
   ],
   "source": [
    "coversation.predict( input = \"Hi there\")"
   ]
  },
  {
   "cell_type": "code",
   "execution_count": 23,
   "metadata": {},
   "outputs": [
    {
     "name": "stdout",
     "output_type": "stream",
     "text": [
      "\n",
      "\n",
      "\u001b[1m> Entering new ConversationChain chain...\u001b[0m\n",
      "Prompt after formatting:\n",
      "\u001b[32;1m\u001b[1;3mThe following is a friendly conversation between a human and an AI. The AI is talkative and provides lots of specific details from its context. If the AI does not know the answer to a question, it truthfully says it does not know.\n",
      "\n",
      "Current conversation:\n",
      "Human: Hi there\n",
      "AI:  Hello! It's nice to meet you. I am an AI programmed to respond to your questions and provide information. How can I assist you today?\n",
      "Human: I'm doin well, just talking to an AI\n",
      "AI:\u001b[0m\n",
      "\n",
      "\u001b[1m> Finished chain.\u001b[0m\n"
     ]
    },
    {
     "data": {
      "text/plain": [
       "\" That's great to hear! I am always happy to chat and provide information. Is there anything specific you would like to know? I am constantly learning and updating my knowledge base, so I may have some interesting insights to share with you.\""
      ]
     },
     "execution_count": 23,
     "metadata": {},
     "output_type": "execute_result"
    }
   ],
   "source": [
    "coversation.predict( input = \"I'm doin well, just talking to an AI\")"
   ]
  },
  {
   "cell_type": "code",
   "execution_count": 24,
   "metadata": {},
   "outputs": [
    {
     "name": "stdout",
     "output_type": "stream",
     "text": [
      "\n",
      "\n",
      "\u001b[1m> Entering new ConversationChain chain...\u001b[0m\n",
      "Prompt after formatting:\n",
      "\u001b[32;1m\u001b[1;3mThe following is a friendly conversation between a human and an AI. The AI is talkative and provides lots of specific details from its context. If the AI does not know the answer to a question, it truthfully says it does not know.\n",
      "\n",
      "Current conversation:\n",
      "Human: Hi there\n",
      "AI:  Hello! It's nice to meet you. I am an AI programmed to respond to your questions and provide information. How can I assist you today?\n",
      "Human: I'm doin well, just talking to an AI\n",
      "AI:  That's great to hear! I am always happy to chat and provide information. Is there anything specific you would like to know? I am constantly learning and updating my knowledge base, so I may have some interesting insights to share with you.\n",
      "Human: what was the first thing i said?\n",
      "AI:\u001b[0m\n",
      "\n",
      "\u001b[1m> Finished chain.\u001b[0m\n"
     ]
    },
    {
     "data": {
      "text/plain": [
       "' The first thing you said was \"Hi there\". Is there any other information you would like me to provide?'"
      ]
     },
     "execution_count": 24,
     "metadata": {},
     "output_type": "execute_result"
    }
   ],
   "source": [
    "coversation.predict( input = \"what was the first thing i said?\")"
   ]
  }
 ],
 "metadata": {
  "kernelspec": {
   "display_name": "langchain-stuff-DMV5Iwx5",
   "language": "python",
   "name": "python3"
  },
  "language_info": {
   "codemirror_mode": {
    "name": "ipython",
    "version": 3
   },
   "file_extension": ".py",
   "mimetype": "text/x-python",
   "name": "python",
   "nbconvert_exporter": "python",
   "pygments_lexer": "ipython3",
   "version": "3.11.6"
  }
 },
 "nbformat": 4,
 "nbformat_minor": 2
}
