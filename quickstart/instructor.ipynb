{
 "cells": [
  {
   "cell_type": "markdown",
   "metadata": {},
   "source": [
    "learn some pydantic first"
   ]
  },
  {
   "cell_type": "markdown",
   "metadata": {},
   "source": [
    "3.5 sucks at function calling ),: gpt4 better"
   ]
  },
  {
   "cell_type": "code",
   "execution_count": 1,
   "metadata": {},
   "outputs": [
    {
     "data": {
      "text/plain": [
       "'2.6.0'"
      ]
     },
     "execution_count": 1,
     "metadata": {},
     "output_type": "execute_result"
    }
   ],
   "source": [
    "import pydantic\n",
    "from pydantic import BaseModel, Field\n",
    "pydantic.__version__"
   ]
  },
  {
   "cell_type": "code",
   "execution_count": 2,
   "metadata": {},
   "outputs": [
    {
     "name": "stdout",
     "output_type": "stream",
     "text": [
      "id=1 name='John Doe'\n",
      "id=1 name='John Doe'\n"
     ]
    },
    {
     "data": {
      "text/plain": [
       "(None, None, True)"
      ]
     },
     "execution_count": 2,
     "metadata": {},
     "output_type": "execute_result"
    }
   ],
   "source": [
    "class User(BaseModel):\n",
    "    id: int\n",
    "    name: str\n",
    "\n",
    "test = {\n",
    "    \"id\": 1,\n",
    "    \"name\": \"John Doe\"\n",
    "\n",
    "}\n",
    "\n",
    "test_fake = {\n",
    "    \"id\": \"1\",\n",
    "    \"name\": \"John Doe\",\n",
    "    \"height\": 1.8   \n",
    "\n",
    "}\n",
    "\n",
    "user = User(**test)\n",
    "user_fake = User(**test_fake)\n",
    "\n",
    "print(user), print(user_fake), isinstance(user_fake.id, int)\n"
   ]
  },
  {
   "cell_type": "code",
   "execution_count": 3,
   "metadata": {},
   "outputs": [],
   "source": [
    "from pydantic import conlist\n",
    "\n",
    "class Address(BaseModel):\n",
    "    street: str\n",
    "    city: str\n",
    "    state: str\n",
    "    zip: str\n",
    "\n",
    "class Employee(BaseModel):\n",
    "    id: int\n",
    "    name: str\n",
    "    address: Address\n",
    "    email: str\n",
    "\n",
    "class Owner(BaseModel):\n",
    "    id: int\n",
    "    name: str\n",
    "    address: Address\n",
    "    email: str\n",
    "\n",
    "class Restuarant(BaseModel):\n",
    "    id: int\n",
    "    name: str\n",
    "    owner: Owner\n",
    "    employees: conlist(Employee, min_length=2)\n"
   ]
  },
  {
   "cell_type": "code",
   "execution_count": 4,
   "metadata": {},
   "outputs": [
    {
     "data": {
      "text/plain": [
       "{'$defs': {'Address': {'properties': {'street': {'title': 'Street',\n",
       "     'type': 'string'},\n",
       "    'city': {'title': 'City', 'type': 'string'},\n",
       "    'state': {'title': 'State', 'type': 'string'},\n",
       "    'zip': {'title': 'Zip', 'type': 'string'}},\n",
       "   'required': ['street', 'city', 'state', 'zip'],\n",
       "   'title': 'Address',\n",
       "   'type': 'object'},\n",
       "  'Employee': {'properties': {'id': {'title': 'Id', 'type': 'integer'},\n",
       "    'name': {'title': 'Name', 'type': 'string'},\n",
       "    'address': {'$ref': '#/$defs/Address'},\n",
       "    'email': {'title': 'Email', 'type': 'string'}},\n",
       "   'required': ['id', 'name', 'address', 'email'],\n",
       "   'title': 'Employee',\n",
       "   'type': 'object'},\n",
       "  'Owner': {'properties': {'id': {'title': 'Id', 'type': 'integer'},\n",
       "    'name': {'title': 'Name', 'type': 'string'},\n",
       "    'address': {'$ref': '#/$defs/Address'},\n",
       "    'email': {'title': 'Email', 'type': 'string'}},\n",
       "   'required': ['id', 'name', 'address', 'email'],\n",
       "   'title': 'Owner',\n",
       "   'type': 'object'}},\n",
       " 'properties': {'id': {'title': 'Id', 'type': 'integer'},\n",
       "  'name': {'title': 'Name', 'type': 'string'},\n",
       "  'owner': {'$ref': '#/$defs/Owner'},\n",
       "  'employees': {'items': {'$ref': '#/$defs/Employee'},\n",
       "   'minItems': 2,\n",
       "   'title': 'Employees',\n",
       "   'type': 'array'}},\n",
       " 'required': ['id', 'name', 'owner', 'employees'],\n",
       " 'title': 'Restuarant',\n",
       " 'type': 'object'}"
      ]
     },
     "execution_count": 4,
     "metadata": {},
     "output_type": "execute_result"
    }
   ],
   "source": [
    "Restuarant.model_json_schema()"
   ]
  },
  {
   "cell_type": "code",
   "execution_count": 5,
   "metadata": {},
   "outputs": [],
   "source": [
    "res = Restuarant(\n",
    "    id=1,\n",
    "    name=\"The Palace\",\n",
    "    owner=Owner(\n",
    "        id=1,\n",
    "        name=\"John Doe\",\n",
    "        address=Address(\n",
    "            street=\"1234 Elm St\",\n",
    "            city=\"Springfield\",\n",
    "            state=\"IL\",\n",
    "            zip=\"62701\"\n",
    "        ),\n",
    "        email=\"email.com\",\n",
    "    ),\n",
    "    employees=[\n",
    "        Employee(\n",
    "            id=1,\n",
    "            name=\"Jane Doe\",\n",
    "            address=Address(\n",
    "                street=\"1234 Elm St\",\n",
    "                city=\"Springfield\",\n",
    "                state=\"IL\",\n",
    "                zip=\"62701\"\n",
    "            ),\n",
    "            email=\"email.com\"\n",
    "        ),\n",
    "        Employee(\n",
    "            id=2,\n",
    "            name=\"Jim Doe\",\n",
    "            address=Address(\n",
    "                street=\"1234 Elm St\",\n",
    "                city=\"Springfield\",\n",
    "                state=\"IL\",\n",
    "                zip=\"62701\"\n",
    "            ),\n",
    "            email=\"email.com\"\n",
    "        )\n",
    "    ]\n",
    "\n",
    "\n",
    "\n",
    "\n",
    ")"
   ]
  },
  {
   "cell_type": "code",
   "execution_count": 6,
   "metadata": {},
   "outputs": [
    {
     "name": "stdout",
     "output_type": "stream",
     "text": [
      "Jane Doe Springfield email.com\n",
      "Jim Doe Springfield email.com\n"
     ]
    }
   ],
   "source": [
    "for emp in res.employees:\n",
    "    print(emp.name, emp.address.city, emp.email)\n",
    "    \n"
   ]
  },
  {
   "cell_type": "code",
   "execution_count": 7,
   "metadata": {},
   "outputs": [
    {
     "name": "stdout",
     "output_type": "stream",
     "text": [
      "name='John Doe' email='johndoe@gmail.com'\n"
     ]
    }
   ],
   "source": [
    "from pydantic import EmailStr, field_validator\n",
    "\n",
    "#field validators.. validates JUST a single field\n",
    "\n",
    "class Owner(BaseModel):\n",
    "    name: str\n",
    "    email: EmailStr\n",
    "\n",
    "    @field_validator(\"name\")\n",
    "    @classmethod\n",
    "    def name_must_contain_space(cls, v):\n",
    "        if \" \" not in v:\n",
    "            raise ValueError(\"Must contain a space you idiot\")\n",
    "        return v.title()\n",
    "    \n",
    "\n",
    "\n",
    "try:\n",
    "    owner_instance = Owner(name=\"john doe\", email=\"johndoe@gmail.com\")\n",
    "    print(owner_instance)\n",
    "except Exception as e:\n",
    "    print(e)\n"
   ]
  },
  {
   "cell_type": "code",
   "execution_count": 8,
   "metadata": {},
   "outputs": [
    {
     "data": {
      "text/plain": [
       "Person(first_name='Wes', last_name='Stone', age=40)"
      ]
     },
     "execution_count": 8,
     "metadata": {},
     "output_type": "execute_result"
    }
   ],
   "source": [
    "class Person(BaseModel):\n",
    "    first_name: str\n",
    "    last_name: str\n",
    "    age: int\n",
    "wes = Person(first_name=\"Wes\", last_name=\"Stone\", age=40)\n",
    "wes"
   ]
  },
  {
   "cell_type": "code",
   "execution_count": 9,
   "metadata": {},
   "outputs": [
    {
     "data": {
      "text/plain": [
       "'Wes'"
      ]
     },
     "execution_count": 9,
     "metadata": {},
     "output_type": "execute_result"
    }
   ],
   "source": [
    "from pydantic import ValidationError\n",
    "\n",
    "try:\n",
    "    Person(first_name=\"Wes\", last_name=\"Stone\", age=\"40\")\n",
    "except ValidationError as e:\n",
    "    print(e)\n",
    "\n",
    "\n",
    "wes = Person(first_name=\"notWes\", last_name=\"Stone\", age=40)\n",
    "\n",
    "wes.first_name = \"Wes\"\n",
    "wes.first_name"
   ]
  },
  {
   "cell_type": "code",
   "execution_count": 10,
   "metadata": {},
   "outputs": [
    {
     "data": {
      "text/plain": [
       "([{'type': 'string_type',\n",
       "   'loc': ('last_name',),\n",
       "   'msg': 'Input should be a valid string',\n",
       "   'input': 100,\n",
       "   'url': 'https://errors.pydantic.dev/2.6/v/string_type'},\n",
       "  {'type': 'int_parsing',\n",
       "   'loc': ('age',),\n",
       "   'msg': 'Input should be a valid integer, unable to parse string as an integer',\n",
       "   'input': 'junk',\n",
       "   'url': 'https://errors.pydantic.dev/2.6/v/int_parsing'}],\n",
       " '[{\"type\":\"string_type\",\"loc\":[\"last_name\"],\"msg\":\"Input should be a valid string\",\"input\":100,\"url\":\"https://errors.pydantic.dev/2.6/v/string_type\"},{\"type\":\"int_parsing\",\"loc\":[\"age\"],\"msg\":\"Input should be a valid integer, unable to parse string as an integer\",\"input\":\"junk\",\"url\":\"https://errors.pydantic.dev/2.6/v/int_parsing\"}]')"
      ]
     },
     "execution_count": 10,
     "metadata": {},
     "output_type": "execute_result"
    }
   ],
   "source": [
    "try:\n",
    "    Person(first_name=\"Wes\", last_name=100, age=\"junk\")\n",
    "except ValidationError as e:\n",
    "    exceptions = e\n",
    "\n",
    "exceptions.errors(), exceptions.json()\n"
   ]
  },
  {
   "cell_type": "code",
   "execution_count": 11,
   "metadata": {},
   "outputs": [
    {
     "data": {
      "text/plain": [
       "Person(first_name='Wes', last_name='Stone', age=40)"
      ]
     },
     "execution_count": 11,
     "metadata": {},
     "output_type": "execute_result"
    }
   ],
   "source": [
    "data = {\n",
    "    \"first_name\": \"Wes\",\n",
    "    \"last_name\": \"Stone\",\n",
    "    \"age\": 40\n",
    "}\n",
    "\n",
    "p = Person(**data)\n",
    "p"
   ]
  },
  {
   "cell_type": "code",
   "execution_count": 12,
   "metadata": {},
   "outputs": [
    {
     "data": {
      "text/plain": [
       "Person(first_name='Wes', last_name='Stone', age=40)"
      ]
     },
     "execution_count": 12,
     "metadata": {},
     "output_type": "execute_result"
    }
   ],
   "source": [
    "data = '''{\n",
    "    \"first_name\": \"Wes\",\n",
    "    \"last_name\": \"Stone\",\n",
    "    \"age\": 40\n",
    "}\n",
    "'''\n",
    "\n",
    "p = Person.model_validate_json(data)\n",
    "\n",
    "p"
   ]
  },
  {
   "cell_type": "code",
   "execution_count": 13,
   "metadata": {},
   "outputs": [
    {
     "name": "stdout",
     "output_type": "stream",
     "text": [
      "2 validation errors for Person\n",
      "first_name\n",
      "  Field required [type=missing, input_value={'age': 40}, input_type=dict]\n",
      "    For further information visit https://errors.pydantic.dev/2.6/v/missing\n",
      "last_name\n",
      "  Field required [type=missing, input_value={'age': 40}, input_type=dict]\n",
      "    For further information visit https://errors.pydantic.dev/2.6/v/missing\n"
     ]
    }
   ],
   "source": [
    "try:\n",
    "    p = Person(age=40)\n",
    "except ValidationError as e:\n",
    "    print(e)\n"
   ]
  },
  {
   "cell_type": "code",
   "execution_count": 14,
   "metadata": {},
   "outputs": [
    {
     "data": {
      "text/plain": [
       "({'first_name': FieldInfo(annotation=str, required=False, default='Wes'),\n",
       "  'last_name': FieldInfo(annotation=str, required=False, default='Stone'),\n",
       "  'age': FieldInfo(annotation=int, required=False, default=20)},\n",
       " Person(first_name='Wes', last_name='Stone', age=20))"
      ]
     },
     "execution_count": 14,
     "metadata": {},
     "output_type": "execute_result"
    }
   ],
   "source": [
    "class Person(BaseModel):\n",
    "    first_name: str = \"Wes\"\n",
    "    last_name: str = \"Stone\"\n",
    "    age: int = 20\n",
    "\n",
    "\n",
    "Person.model_fields, Person()\n"
   ]
  },
  {
   "cell_type": "code",
   "execution_count": 15,
   "metadata": {},
   "outputs": [
    {
     "data": {
      "text/plain": [
       "Person(first_name=None, last_name='Stone', age=40)"
      ]
     },
     "execution_count": 15,
     "metadata": {},
     "output_type": "execute_result"
    }
   ],
   "source": [
    "class Person(BaseModel):\n",
    "    first_name: str | None = None\n",
    "    last_name: str\n",
    "    age: int\n",
    "\n",
    "p = Person(last_name=\"Stone\", age=40)\n",
    "p"
   ]
  },
  {
   "cell_type": "code",
   "execution_count": 20,
   "metadata": {},
   "outputs": [],
   "source": [
    "from pydantic import Field\n",
    "\n",
    "data = {\n",
    "    \"id\": 100,\n",
    "    \"First Name\": \"Wes\",\n",
    "    \"LASTNAME\": \"Stone\",\n",
    "    \"age in years\": 40\n",
    "}"
   ]
  },
  {
   "cell_type": "code",
   "execution_count": 23,
   "metadata": {},
   "outputs": [
    {
     "data": {
      "text/plain": [
       "Person(id_=100, first_name='Wes', last_name='Stone', age=40)"
      ]
     },
     "execution_count": 23,
     "metadata": {},
     "output_type": "execute_result"
    }
   ],
   "source": [
    "class Person(BaseModel):\n",
    "    id_: int = Field(alias=\"id\")\n",
    "    first_name: str = Field(alias=\"First Name\")\n",
    "    last_name: str = Field(alias=\"LASTNAME\")\n",
    "    age: int = Field(alias=\"age in years\")\n",
    "\n",
    "p = Person(**data)\n",
    "p\n"
   ]
  },
  {
   "cell_type": "code",
   "execution_count": 35,
   "metadata": {},
   "outputs": [
    {
     "name": "stdout",
     "output_type": "stream",
     "text": [
      "{'properties': {'name': {'title': 'Name', 'type': 'string'}, 'age': {'title': 'Age', 'type': 'integer'}}, 'required': ['name', 'age'], 'title': 'UserDetail', 'type': 'object'}\n"
     ]
    }
   ],
   "source": [
    "import instructor\n",
    "from openai import OpenAI\n",
    "from pydantic import BaseModel\n",
    "\n",
    "# This enables response_model keyword\n",
    "# from client.chat.completions.create\n",
    "client = instructor.patch(OpenAI())\n",
    "\n",
    "class UserDetail(BaseModel):\n",
    "    name: str\n",
    "    age: int\n",
    "\n",
    "user = client.chat.completions.create(\n",
    "    model=\"gpt-3.5-turbo\",\n",
    "    response_model=UserDetail,\n",
    "    messages=[\n",
    "        {\"role\": \"user\", \"content\": \"Wes is 24 years old.\"},\n",
    "    ]\n",
    ")\n",
    "\n",
    "print(UserDetail.model_json_schema())\n",
    "assert isinstance(user, UserDetail)\n",
    "assert user.name == \"Wes\"\n",
    "assert user.age == 24"
   ]
  },
  {
   "cell_type": "code",
   "execution_count": 36,
   "metadata": {},
   "outputs": [],
   "source": [
    "user: UserDetail = client.chat.completions.create(\n",
    "    model=\"gpt-3.5-turbo\",\n",
    "    response_model=UserDetail,\n",
    "    messages=[\n",
    "        {\"role\": \"user\", \"content\": \"Extract Jason is 25 years old\"},\n",
    "    ]\n",
    ")\n",
    "\n",
    "from openai.types.chat.chat_completion import ChatCompletion\n",
    "\n",
    "assert isinstance(user._raw_response, ChatCompletion)"
   ]
  },
  {
   "cell_type": "code",
   "execution_count": 37,
   "metadata": {},
   "outputs": [
    {
     "data": {
      "text/plain": [
       "ChatCompletion(id='chatcmpl-8nI4SqMnZHQ70yv7bMv3V3RGeuxaO', choices=[Choice(finish_reason='stop', index=0, logprobs=None, message=ChatCompletionMessage(content=None, role='assistant', function_call=FunctionCall(arguments='{\\n  \"name\": \"Jason\",\\n  \"age\": 25\\n}', name='UserDetail'), tool_calls=None))], created=1706758228, model='gpt-3.5-turbo-0613', object='chat.completion', system_fingerprint=None, usage=CompletionUsage(completion_tokens=16, prompt_tokens=72, total_tokens=88))"
      ]
     },
     "execution_count": 37,
     "metadata": {},
     "output_type": "execute_result"
    }
   ],
   "source": [
    "user._raw_response"
   ]
  },
  {
   "cell_type": "code",
   "execution_count": 51,
   "metadata": {},
   "outputs": [
    {
     "data": {
      "text/plain": [
       "{'$defs': {'Labels': {'enum': ['good', 'bad', 'neutral'],\n",
       "   'title': 'Labels',\n",
       "   'type': 'string'}},\n",
       " 'properties': {'label': {'$ref': '#/$defs/Labels'}},\n",
       " 'required': ['label'],\n",
       " 'title': 'Sentiment',\n",
       " 'type': 'object'}"
      ]
     },
     "execution_count": 51,
     "metadata": {},
     "output_type": "execute_result"
    }
   ],
   "source": [
    "import enum\n",
    "\n",
    "class Labels(str, enum.Enum):\n",
    "    good = \"good\"\n",
    "    bad = \"bad\"\n",
    "    neutral = \"neutral\"\n",
    "\n",
    "\n",
    "\n",
    "class Sentiment(BaseModel):\n",
    "    label: Labels\n",
    "    \n",
    "\n",
    "Sentiment.model_json_schema()"
   ]
  },
  {
   "cell_type": "code",
   "execution_count": 55,
   "metadata": {},
   "outputs": [],
   "source": [
    "UserDetail = client.chat.completions.create(\n",
    "    model=\"gpt-3.5-turbo\",\n",
    "    response_model=Sentiment,\n",
    "    messages=[\n",
    "        {\"role\": \"user\", \"content\": \"That was so terrible and I hated it\"},\n",
    "    ]\n",
    ")\n"
   ]
  },
  {
   "cell_type": "code",
   "execution_count": 57,
   "metadata": {},
   "outputs": [
    {
     "data": {
      "text/plain": [
       "Sentiment(label=<Labels.bad: 'bad'>)"
      ]
     },
     "execution_count": 57,
     "metadata": {},
     "output_type": "execute_result"
    }
   ],
   "source": [
    "user"
   ]
  },
  {
   "cell_type": "code",
   "execution_count": 58,
   "metadata": {},
   "outputs": [],
   "source": [
    "import enum\n",
    "from pydantic import BaseModel\n",
    "\n",
    "class Labels(str, enum.Enum):\n",
    "    \"\"\"Enumeration for single-label text classification.\"\"\"\n",
    "    SPAM = \"spam\"\n",
    "    NOT_SPAM = \"not_spam\"\n",
    "\n",
    "class SinglePrediction(BaseModel):\n",
    "    \"\"\"\n",
    "    Class for a single class label prediction.\n",
    "    \"\"\"\n",
    "    class_label: Labels"
   ]
  },
  {
   "cell_type": "code",
   "execution_count": 59,
   "metadata": {},
   "outputs": [],
   "source": [
    "from openai import OpenAI\n",
    "import instructor\n",
    "\n",
    "# Apply the patch to the OpenAI client\n",
    "# enables response_model keyword\n",
    "client = instructor.patch(OpenAI())\n",
    "\n",
    "def classify(data: str) -> SinglePrediction:\n",
    "    \"\"\"Perform single-label classification on the input text.\"\"\"\n",
    "    return client.chat.completions.create(\n",
    "        model=\"gpt-3.5-turbo-0613\",\n",
    "        response_model=SinglePrediction,\n",
    "        messages=[\n",
    "            {\n",
    "                \"role\": \"user\",\n",
    "                \"content\": f\"Classify the following text: {data}\",\n",
    "            },\n",
    "        ],\n",
    "    )  # type:"
   ]
  },
  {
   "cell_type": "code",
   "execution_count": 62,
   "metadata": {},
   "outputs": [],
   "source": [
    "test = classify(\"Give me your money\")"
   ]
  },
  {
   "cell_type": "code",
   "execution_count": 69,
   "metadata": {},
   "outputs": [
    {
     "data": {
      "text/plain": [
       "'spam'"
      ]
     },
     "execution_count": 69,
     "metadata": {},
     "output_type": "execute_result"
    }
   ],
   "source": [
    "test.class_label.value"
   ]
  },
  {
   "cell_type": "code",
   "execution_count": 72,
   "metadata": {},
   "outputs": [
    {
     "data": {
      "text/plain": [
       "{'$defs': {'MultiLabels': {'enum': ['tech_issue', 'billing', 'general_query'],\n",
       "   'title': 'MultiLabels',\n",
       "   'type': 'string'}},\n",
       " 'description': 'Class for a multi-class label prediction.',\n",
       " 'properties': {'class_labels': {'items': {'$ref': '#/$defs/MultiLabels'},\n",
       "   'title': 'Class Labels',\n",
       "   'type': 'array'}},\n",
       " 'required': ['class_labels'],\n",
       " 'title': 'MultiClassPrediction',\n",
       " 'type': 'object'}"
      ]
     },
     "execution_count": 72,
     "metadata": {},
     "output_type": "execute_result"
    }
   ],
   "source": [
    "from typing import List\n",
    "# Define Enum class for multiple labels\n",
    "class MultiLabels(str, enum.Enum):\n",
    "    TECH_ISSUE = \"tech_issue\"\n",
    "    BILLING = \"billing\"\n",
    "    GENERAL_QUERY = \"general_query\"\n",
    "\n",
    "# Define the multi-class prediction model\n",
    "class MultiClassPrediction(BaseModel):\n",
    "    \"\"\"\n",
    "    Class for a multi-class label prediction.\n",
    "    \"\"\"\n",
    "    class_labels: List[MultiLabels]\n",
    "\n",
    "MultiClassPrediction.model_json_schema()"
   ]
  },
  {
   "cell_type": "code",
   "execution_count": 81,
   "metadata": {},
   "outputs": [],
   "source": [
    "def multi_classify(data: str) -> MultiClassPrediction:\n",
    "    \"\"\"Perform multi-label classification on the input text.\"\"\"\n",
    "    UserDetail = client.chat.completions.create(\n",
    "        model=\"gpt-3.5-turbo-0613\",\n",
    "        response_model=MultiClassPrediction,\n",
    "        messages=[\n",
    "            {\n",
    "                \"role\": \"user\",\n",
    "                \"content\": f\"Classify the following support ticket: {data}\",\n",
    "            },\n",
    "        ],\n",
    "    )  # type: ignore\n",
    "    return UserDetail\n",
    "\n",
    "test = multi_classify(\"I am having trouble with my internet\")"
   ]
  },
  {
   "cell_type": "code",
   "execution_count": 82,
   "metadata": {},
   "outputs": [
    {
     "data": {
      "text/plain": [
       "MultiClassPrediction(class_labels=[<MultiLabels.TECH_ISSUE: 'tech_issue'>, <MultiLabels.BILLING: 'billing'>, <MultiLabels.GENERAL_QUERY: 'general_query'>])"
      ]
     },
     "execution_count": 82,
     "metadata": {},
     "output_type": "execute_result"
    }
   ],
   "source": [
    "test"
   ]
  },
  {
   "cell_type": "code",
   "execution_count": 108,
   "metadata": {},
   "outputs": [
    {
     "data": {
      "text/plain": [
       "{'$defs': {'Risk_factors': {'enum': ['cyber_security',\n",
       "    'financial',\n",
       "    'legal',\n",
       "    'operational',\n",
       "    'reputation',\n",
       "    'competition',\n",
       "    'market',\n",
       "    'regulatory',\n",
       "    'supply_chain',\n",
       "    'technology',\n",
       "    'environmental',\n",
       "    'social',\n",
       "    'political',\n",
       "    'economic'],\n",
       "   'title': 'Risk_factors',\n",
       "   'type': 'string'},\n",
       "  'Risks': {'enum': ['low', 'medium', 'high'],\n",
       "   'title': 'Risks',\n",
       "   'type': 'string'}},\n",
       " 'properties': {'risk': {'$ref': '#/$defs/Risks'},\n",
       "  'risk_factors': {'description': 'List of risk factors',\n",
       "   'items': {'$ref': '#/$defs/Risk_factors'},\n",
       "   'maxItems': 5,\n",
       "   'minItems': 2,\n",
       "   'title': 'Risk Factors',\n",
       "   'type': 'array'},\n",
       "  'justification': {'description': 'In depth explanation of the risk prediction',\n",
       "   'minLength': 200,\n",
       "   'title': 'Justification',\n",
       "   'type': 'string'}},\n",
       " 'required': ['risk', 'risk_factors', 'justification'],\n",
       " 'title': 'RiskPrediction',\n",
       " 'type': 'object'}"
      ]
     },
     "execution_count": 108,
     "metadata": {},
     "output_type": "execute_result"
    }
   ],
   "source": [
    "class Risks(str, enum.Enum):\n",
    "    LOW = \"low\"\n",
    "    MEDIUM = \"medium\"\n",
    "    HIGH = \"high\"\n",
    "\n",
    "class Risk_factors(str, enum.Enum):\n",
    "    CYBER_SECURITY = \"cyber_security\"\n",
    "    FINANCIAL = \"financial\"\n",
    "    LEGAL = \"legal\"\n",
    "    OPERATIONAL = \"operational\"\n",
    "    REPUTATION = \"reputation\"\n",
    "    COMPETITION = \"competition\"\n",
    "    MARKET = \"market\"\n",
    "    REGULATORY = \"regulatory\"\n",
    "    SUPPLY_CHAIN = \"supply_chain\"\n",
    "    TECHNOLOGY = \"technology\"\n",
    "    ENVIRONMENTAL = \"environmental\"\n",
    "    SOCIAL = \"social\"\n",
    "    POLITICAL = \"political\"\n",
    "    ECONOMIC = \"economic\"\n",
    "\n",
    "\n",
    "class RiskPrediction(BaseModel):\n",
    "    risk: Risks\n",
    "    risk_factors: List[Risk_factors] = Field(..., description=\"List of risk factors\", min_length=2, max_length=5)\n",
    "    justification: str = Field(..., description=\"In depth explanation of the risk prediction\", min_length=200)\n",
    "\n",
    "RiskPrediction.model_json_schema()"
   ]
  },
  {
   "cell_type": "code",
   "execution_count": 109,
   "metadata": {},
   "outputs": [],
   "source": [
    "def get_classification(data: str) -> RiskPrediction:\n",
    "    \"\"\"Perform risk classification on the input text.\"\"\"\n",
    "    return client.chat.completions.create(\n",
    "        model=\"gpt-4-turbo-preview\",\n",
    "        response_model=RiskPrediction,\n",
    "        messages=[\n",
    "            {\n",
    "                \"role\": \"user\",\n",
    "                \"content\": f\"Classify the following risk: {data}\",\n",
    "            },\n",
    "        ],\n",
    "    )  # type:"
   ]
  },
  {
   "cell_type": "code",
   "execution_count": 110,
   "metadata": {},
   "outputs": [],
   "source": [
    "test = get_classification(\"The company is facing a cyber security threat. They are asking ransom. My company is in cyber security business\")\n"
   ]
  },
  {
   "cell_type": "code",
   "execution_count": 115,
   "metadata": {},
   "outputs": [
    {
     "data": {
      "text/plain": [
       "'cyber_security'"
      ]
     },
     "execution_count": 115,
     "metadata": {},
     "output_type": "execute_result"
    }
   ],
   "source": [
    "test.risk_factors[0].value"
   ]
  },
  {
   "cell_type": "code",
   "execution_count": 116,
   "metadata": {},
   "outputs": [],
   "source": [
    "data = {\n",
    "    \"risk\": test.risk.value,  # Convert enum to string\n",
    "    \"risk_factors\": [factor.value for factor in test.risk_factors],  # Convert list of enums to list of strings\n",
    "    \"justification\": test.justification\n",
    "}"
   ]
  },
  {
   "cell_type": "code",
   "execution_count": 119,
   "metadata": {},
   "outputs": [
    {
     "data": {
      "text/html": [
       "<div>\n",
       "<style scoped>\n",
       "    .dataframe tbody tr th:only-of-type {\n",
       "        vertical-align: middle;\n",
       "    }\n",
       "\n",
       "    .dataframe tbody tr th {\n",
       "        vertical-align: top;\n",
       "    }\n",
       "\n",
       "    .dataframe thead th {\n",
       "        text-align: right;\n",
       "    }\n",
       "</style>\n",
       "<table border=\"1\" class=\"dataframe\">\n",
       "  <thead>\n",
       "    <tr style=\"text-align: right;\">\n",
       "      <th></th>\n",
       "      <th>risk</th>\n",
       "      <th>risk_factors</th>\n",
       "      <th>justification</th>\n",
       "    </tr>\n",
       "  </thead>\n",
       "  <tbody>\n",
       "    <tr>\n",
       "      <th>0</th>\n",
       "      <td>high</td>\n",
       "      <td>[cyber_security, reputation]</td>\n",
       "      <td>The company is facing a significant cyber secu...</td>\n",
       "    </tr>\n",
       "  </tbody>\n",
       "</table>\n",
       "</div>"
      ],
      "text/plain": [
       "   risk                  risk_factors  \\\n",
       "0  high  [cyber_security, reputation]   \n",
       "\n",
       "                                       justification  \n",
       "0  The company is facing a significant cyber secu...  "
      ]
     },
     "execution_count": 119,
     "metadata": {},
     "output_type": "execute_result"
    }
   ],
   "source": [
    "import pandas as pd\n",
    "\n",
    "data\n",
    "df = pd.DataFrame([data])\n",
    "df"
   ]
  }
 ],
 "metadata": {
  "kernelspec": {
   "display_name": ".venv",
   "language": "python",
   "name": "python3"
  },
  "language_info": {
   "codemirror_mode": {
    "name": "ipython",
    "version": 3
   },
   "file_extension": ".py",
   "mimetype": "text/x-python",
   "name": "python",
   "nbconvert_exporter": "python",
   "pygments_lexer": "ipython3",
   "version": "3.11.8"
  }
 },
 "nbformat": 4,
 "nbformat_minor": 2
}
