{
 "cells": [
  {
   "cell_type": "markdown",
   "metadata": {},
   "source": [
    "learn some pydantic first"
   ]
  },
  {
   "cell_type": "code",
   "execution_count": 5,
   "metadata": {},
   "outputs": [
    {
     "data": {
      "text/plain": [
       "'2.5.3'"
      ]
     },
     "execution_count": 5,
     "metadata": {},
     "output_type": "execute_result"
    }
   ],
   "source": [
    "import pydantic\n",
    "from pydantic import BaseModel, Field\n",
    "pydantic.__version__"
   ]
  },
  {
   "cell_type": "code",
   "execution_count": 11,
   "metadata": {},
   "outputs": [
    {
     "name": "stdout",
     "output_type": "stream",
     "text": [
      "id=1 name='John Doe'\n",
      "id=1 name='John Doe'\n"
     ]
    },
    {
     "data": {
      "text/plain": [
       "(None, None, True)"
      ]
     },
     "execution_count": 11,
     "metadata": {},
     "output_type": "execute_result"
    }
   ],
   "source": [
    "class User(BaseModel):\n",
    "    id: int\n",
    "    name: str\n",
    "\n",
    "test = {\n",
    "    \"id\": 1,\n",
    "    \"name\": \"John Doe\"\n",
    "\n",
    "}\n",
    "\n",
    "test_fake = {\n",
    "    \"id\": \"1\",\n",
    "    \"name\": \"John Doe\",\n",
    "    \"height\": 1.8   \n",
    "\n",
    "}\n",
    "\n",
    "user = User(**test)\n",
    "user_fake = User(**test_fake)\n",
    "\n",
    "print(user), print(user_fake), isinstance(user_fake.id, int)\n"
   ]
  },
  {
   "cell_type": "code",
   "execution_count": 13,
   "metadata": {},
   "outputs": [],
   "source": [
    "from pydantic import conlist\n",
    "\n",
    "class Address(BaseModel):\n",
    "    street: str\n",
    "    city: str\n",
    "    state: str\n",
    "    zip: str\n",
    "\n",
    "class Employee(BaseModel):\n",
    "    id: int\n",
    "    name: str\n",
    "    address: Address\n",
    "    email: str\n",
    "\n",
    "class Owner(BaseModel):\n",
    "    id: int\n",
    "    name: str\n",
    "    address: Address\n",
    "    email: str\n",
    "\n",
    "class Restuarant(BaseModel):\n",
    "    id: int\n",
    "    name: str\n",
    "    owner: Owner\n",
    "    employees: conlist(Employee, min_length=2)\n"
   ]
  },
  {
   "cell_type": "code",
   "execution_count": 15,
   "metadata": {},
   "outputs": [
    {
     "data": {
      "text/plain": [
       "{'$defs': {'Address': {'properties': {'street': {'title': 'Street',\n",
       "     'type': 'string'},\n",
       "    'city': {'title': 'City', 'type': 'string'},\n",
       "    'state': {'title': 'State', 'type': 'string'},\n",
       "    'zip': {'title': 'Zip', 'type': 'string'}},\n",
       "   'required': ['street', 'city', 'state', 'zip'],\n",
       "   'title': 'Address',\n",
       "   'type': 'object'},\n",
       "  'Employee': {'properties': {'id': {'title': 'Id', 'type': 'integer'},\n",
       "    'name': {'title': 'Name', 'type': 'string'},\n",
       "    'address': {'$ref': '#/$defs/Address'},\n",
       "    'email': {'title': 'Email', 'type': 'string'}},\n",
       "   'required': ['id', 'name', 'address', 'email'],\n",
       "   'title': 'Employee',\n",
       "   'type': 'object'},\n",
       "  'Owner': {'properties': {'id': {'title': 'Id', 'type': 'integer'},\n",
       "    'name': {'title': 'Name', 'type': 'string'},\n",
       "    'address': {'$ref': '#/$defs/Address'},\n",
       "    'email': {'title': 'Email', 'type': 'string'}},\n",
       "   'required': ['id', 'name', 'address', 'email'],\n",
       "   'title': 'Owner',\n",
       "   'type': 'object'}},\n",
       " 'properties': {'id': {'title': 'Id', 'type': 'integer'},\n",
       "  'name': {'title': 'Name', 'type': 'string'},\n",
       "  'owner': {'$ref': '#/$defs/Owner'},\n",
       "  'employees': {'items': {'$ref': '#/$defs/Employee'},\n",
       "   'minItems': 2,\n",
       "   'title': 'Employees',\n",
       "   'type': 'array'}},\n",
       " 'required': ['id', 'name', 'owner', 'employees'],\n",
       " 'title': 'Restuarant',\n",
       " 'type': 'object'}"
      ]
     },
     "execution_count": 15,
     "metadata": {},
     "output_type": "execute_result"
    }
   ],
   "source": [
    "Restuarant.model_json_schema()"
   ]
  },
  {
   "cell_type": "code",
   "execution_count": 16,
   "metadata": {},
   "outputs": [],
   "source": [
    "res = Restuarant(\n",
    "    id=1,\n",
    "    name=\"The Palace\",\n",
    "    owner=Owner(\n",
    "        id=1,\n",
    "        name=\"John Doe\",\n",
    "        address=Address(\n",
    "            street=\"1234 Elm St\",\n",
    "            city=\"Springfield\",\n",
    "            state=\"IL\",\n",
    "            zip=\"62701\"\n",
    "        ),\n",
    "        email=\"email.com\",\n",
    "    ),\n",
    "    employees=[\n",
    "        Employee(\n",
    "            id=1,\n",
    "            name=\"Jane Doe\",\n",
    "            address=Address(\n",
    "                street=\"1234 Elm St\",\n",
    "                city=\"Springfield\",\n",
    "                state=\"IL\",\n",
    "                zip=\"62701\"\n",
    "            ),\n",
    "            email=\"email.com\"\n",
    "        ),\n",
    "        Employee(\n",
    "            id=2,\n",
    "            name=\"Jim Doe\",\n",
    "            address=Address(\n",
    "                street=\"1234 Elm St\",\n",
    "                city=\"Springfield\",\n",
    "                state=\"IL\",\n",
    "                zip=\"62701\"\n",
    "            ),\n",
    "            email=\"email.com\"\n",
    "        )\n",
    "    ]\n",
    "\n",
    "\n",
    "\n",
    "\n",
    ")"
   ]
  },
  {
   "cell_type": "code",
   "execution_count": 20,
   "metadata": {},
   "outputs": [
    {
     "name": "stdout",
     "output_type": "stream",
     "text": [
      "Jane Doe Springfield email.com\n",
      "Jim Doe Springfield email.com\n"
     ]
    }
   ],
   "source": [
    "for emp in res.employees:\n",
    "    print(emp.name, emp.address.city, emp.email)\n",
    "    \n"
   ]
  },
  {
   "cell_type": "code",
   "execution_count": 25,
   "metadata": {},
   "outputs": [
    {
     "name": "stdout",
     "output_type": "stream",
     "text": [
      "name='John Doe' email='johndoe@gmail.com'\n"
     ]
    }
   ],
   "source": [
    "from pydantic import EmailStr, field_validator\n",
    "\n",
    "#field validators.. validates JUST a single field\n",
    "\n",
    "class Owner(BaseModel):\n",
    "    name: str\n",
    "    email: EmailStr\n",
    "\n",
    "    @field_validator(\"name\")\n",
    "    @classmethod\n",
    "    def name_must_contain_space(cls, v):\n",
    "        if \" \" not in v:\n",
    "            raise ValueError(\"Must contain a space you idiot\")\n",
    "        return v.title()\n",
    "    \n",
    "\n",
    "\n",
    "try:\n",
    "    owner_instance = Owner(name=\"john doe\", email=\"johndoe@gmail.com\")\n",
    "    print(owner_instance)\n",
    "except Exception as e:\n",
    "    print(e)\n"
   ]
  },
  {
   "cell_type": "code",
   "execution_count": 36,
   "metadata": {},
   "outputs": [
    {
     "data": {
      "text/plain": [
       "Person(first_name='Wes', last_name='Stone', age=40)"
      ]
     },
     "execution_count": 36,
     "metadata": {},
     "output_type": "execute_result"
    }
   ],
   "source": [
    "class Person(BaseModel):\n",
    "    first_name: str\n",
    "    last_name: str\n",
    "    age: int\n",
    "wes = Person(first_name=\"Wes\", last_name=\"Stone\", age=40)\n",
    "wes"
   ]
  },
  {
   "cell_type": "code",
   "execution_count": 42,
   "metadata": {},
   "outputs": [
    {
     "data": {
      "text/plain": [
       "'Wes'"
      ]
     },
     "execution_count": 42,
     "metadata": {},
     "output_type": "execute_result"
    }
   ],
   "source": [
    "from pydantic import ValidationError\n",
    "\n",
    "try:\n",
    "    Person(first_name=\"Wes\", last_name=\"Stone\", age=\"40\")\n",
    "except ValidationError as e:\n",
    "    print(e)\n",
    "\n",
    "\n",
    "wes = Person(first_name=\"notWes\", last_name=\"Stone\", age=40)\n",
    "\n",
    "wes.first_name = \"Wes\"\n",
    "wes.first_name"
   ]
  },
  {
   "cell_type": "code",
   "execution_count": 45,
   "metadata": {},
   "outputs": [
    {
     "data": {
      "text/plain": [
       "([{'type': 'string_type',\n",
       "   'loc': ('last_name',),\n",
       "   'msg': 'Input should be a valid string',\n",
       "   'input': 100,\n",
       "   'url': 'https://errors.pydantic.dev/2.5/v/string_type'},\n",
       "  {'type': 'int_parsing',\n",
       "   'loc': ('age',),\n",
       "   'msg': 'Input should be a valid integer, unable to parse string as an integer',\n",
       "   'input': 'junk',\n",
       "   'url': 'https://errors.pydantic.dev/2.5/v/int_parsing'}],\n",
       " '[{\"type\":\"string_type\",\"loc\":[\"last_name\"],\"msg\":\"Input should be a valid string\",\"input\":100,\"url\":\"https://errors.pydantic.dev/2.5/v/string_type\"},{\"type\":\"int_parsing\",\"loc\":[\"age\"],\"msg\":\"Input should be a valid integer, unable to parse string as an integer\",\"input\":\"junk\",\"url\":\"https://errors.pydantic.dev/2.5/v/int_parsing\"}]')"
      ]
     },
     "execution_count": 45,
     "metadata": {},
     "output_type": "execute_result"
    }
   ],
   "source": [
    "try:\n",
    "    Person(first_name=\"Wes\", last_name=100, age=\"junk\")\n",
    "except ValidationError as e:\n",
    "    exceptions = e\n",
    "\n",
    "exceptions.errors(), exceptions.json()\n"
   ]
  },
  {
   "cell_type": "code",
   "execution_count": 47,
   "metadata": {},
   "outputs": [
    {
     "data": {
      "text/plain": [
       "Person(first_name='Wes', last_name='Stone', age=40)"
      ]
     },
     "execution_count": 47,
     "metadata": {},
     "output_type": "execute_result"
    }
   ],
   "source": [
    "data = {\n",
    "    \"first_name\": \"Wes\",\n",
    "    \"last_name\": \"Stone\",\n",
    "    \"age\": 40\n",
    "}\n",
    "\n",
    "p = Person(**data)\n",
    "p"
   ]
  },
  {
   "cell_type": "code",
   "execution_count": 54,
   "metadata": {},
   "outputs": [
    {
     "data": {
      "text/plain": [
       "Person(first_name='Wes', last_name='Stone', age=40)"
      ]
     },
     "execution_count": 54,
     "metadata": {},
     "output_type": "execute_result"
    }
   ],
   "source": [
    "data = '''{\n",
    "    \"first_name\": \"Wes\",\n",
    "    \"last_name\": \"Stone\",\n",
    "    \"age\": 40\n",
    "}\n",
    "'''\n",
    "\n",
    "p = Person.model_validate_json(data)\n",
    "\n",
    "p"
   ]
  },
  {
   "cell_type": "code",
   "execution_count": 56,
   "metadata": {},
   "outputs": [
    {
     "name": "stdout",
     "output_type": "stream",
     "text": [
      "2 validation errors for Person\n",
      "first_name\n",
      "  Field required [type=missing, input_value={'age': 40}, input_type=dict]\n",
      "    For further information visit https://errors.pydantic.dev/2.5/v/missing\n",
      "last_name\n",
      "  Field required [type=missing, input_value={'age': 40}, input_type=dict]\n",
      "    For further information visit https://errors.pydantic.dev/2.5/v/missing\n"
     ]
    }
   ],
   "source": [
    "try:\n",
    "    p = Person(age=40)\n",
    "except ValidationError as e:\n",
    "    print(e)\n"
   ]
  },
  {
   "cell_type": "code",
   "execution_count": 62,
   "metadata": {},
   "outputs": [
    {
     "data": {
      "text/plain": [
       "({'first_name': FieldInfo(annotation=str, required=False, default='Wes'),\n",
       "  'last_name': FieldInfo(annotation=str, required=False, default='Stone'),\n",
       "  'age': FieldInfo(annotation=int, required=False, default=20)},\n",
       " Person(first_name='Wes', last_name='Stone', age=20))"
      ]
     },
     "execution_count": 62,
     "metadata": {},
     "output_type": "execute_result"
    }
   ],
   "source": [
    "class Person(BaseModel):\n",
    "    first_name: str = \"Wes\"\n",
    "    last_name: str = \"Stone\"\n",
    "    age: int = 20\n",
    "\n",
    "\n",
    "Person.model_fields, Person()\n"
   ]
  },
  {
   "cell_type": "code",
   "execution_count": 66,
   "metadata": {},
   "outputs": [
    {
     "data": {
      "text/plain": [
       "Person(first_name=None, last_name='Stone', age=40)"
      ]
     },
     "execution_count": 66,
     "metadata": {},
     "output_type": "execute_result"
    }
   ],
   "source": [
    "class Person(BaseModel):\n",
    "    first_name: str | None = None\n",
    "    last_name: str\n",
    "    age: int\n",
    "\n",
    "p = Person(last_name=\"Stone\", age=40)\n",
    "p"
   ]
  },
  {
   "cell_type": "code",
   "execution_count": null,
   "metadata": {},
   "outputs": [],
   "source": []
  }
 ],
 "metadata": {
  "kernelspec": {
   "display_name": ".venv",
   "language": "python",
   "name": "python3"
  },
  "language_info": {
   "codemirror_mode": {
    "name": "ipython",
    "version": 3
   },
   "file_extension": ".py",
   "mimetype": "text/x-python",
   "name": "python",
   "nbconvert_exporter": "python",
   "pygments_lexer": "ipython3",
   "version": "3.11.6"
  }
 },
 "nbformat": 4,
 "nbformat_minor": 2
}
